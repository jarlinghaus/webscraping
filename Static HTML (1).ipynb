{
 "cells": [
  {
   "cell_type": "markdown",
   "metadata": {},
   "source": [
    "# Obtaining, parsing and structuring static HTML websites\n",
    "\n",
    "In this notebook we will learn how to scrape basic static, i.e. non-interactive HTML-based websites. We will\n",
    "- obtain the HTML raw content using the `requests` module\n",
    "- convert the raw HTML into a format that is easier to search, or parse, using the `BeautifulSoup` module\n",
    "- learn how to identify the elements of interest in the raw HTML using the browser's inspect functionality and the CSS SelectorGadget\n",
    "- construct a table, or dataframe, with the popular table calculation module `pandas` and store the output locally in a standard spreadsheet format"
   ]
  },
  {
   "cell_type": "markdown",
   "metadata": {},
   "source": [
    "1. Open the Anaconda Prompt and install the module `requests`"
   ]
  },
  {
   "cell_type": "code",
   "execution_count": 2,
   "metadata": {},
   "outputs": [
    {
     "name": "stdout",
     "output_type": "stream",
     "text": [
      "Requirement already satisfied: requests in c:\\users\\wolfg\\anaconda3\\envs\\webscraping\\lib\\site-packages (2.25.1)\n",
      "Requirement already satisfied: certifi>=2017.4.17 in c:\\users\\wolfg\\anaconda3\\envs\\webscraping\\lib\\site-packages (from requests) (2020.12.5)\n",
      "Requirement already satisfied: chardet<5,>=3.0.2 in c:\\users\\wolfg\\anaconda3\\envs\\webscraping\\lib\\site-packages (from requests) (4.0.0)\n",
      "Requirement already satisfied: urllib3<1.27,>=1.21.1 in c:\\users\\wolfg\\anaconda3\\envs\\webscraping\\lib\\site-packages (from requests) (1.26.4)\n",
      "Requirement already satisfied: idna<3,>=2.5 in c:\\users\\wolfg\\anaconda3\\envs\\webscraping\\lib\\site-packages (from requests) (2.10)\n"
     ]
    }
   ],
   "source": [
    "! pip install requests"
   ]
  },
  {
   "cell_type": "code",
   "execution_count": 1,
   "metadata": {},
   "outputs": [],
   "source": [
    "import requests"
   ]
  },
  {
   "cell_type": "code",
   "execution_count": 7,
   "metadata": {},
   "outputs": [],
   "source": [
    "seed = 'https://www.uni-potsdam.de/de/'"
   ]
  },
  {
   "cell_type": "markdown",
   "metadata": {},
   "source": [
    "2. What data type is the object `seed`? How can you check?"
   ]
  },
  {
   "cell_type": "code",
   "execution_count": 5,
   "metadata": {},
   "outputs": [
    {
     "data": {
      "text/plain": [
       "str"
      ]
     },
     "execution_count": 5,
     "metadata": {},
     "output_type": "execute_result"
    }
   ],
   "source": [
    "type(seed)"
   ]
  },
  {
   "cell_type": "markdown",
   "metadata": {},
   "source": [
    "3. Is this domain (https://www.uni-potsdam.de/de/nachrichten.html) an admissible path? Hint: Check the `robots.txt`"
   ]
  },
  {
   "cell_type": "code",
   "execution_count": 8,
   "metadata": {},
   "outputs": [],
   "source": [
    "html = requests.get(seed)"
   ]
  },
  {
   "cell_type": "markdown",
   "metadata": {},
   "source": [
    "4. Was the request successful? How can you check the status? Hint: Check the available methods by using Jupyter's auto-complete functionality, i.e. type a dot at the end of the object you're investigating followed by <kbd>Tab</kbd>"
   ]
  },
  {
   "cell_type": "code",
   "execution_count": 9,
   "metadata": {},
   "outputs": [
    {
     "data": {
      "text/plain": [
       "200"
      ]
     },
     "execution_count": 9,
     "metadata": {},
     "output_type": "execute_result"
    }
   ],
   "source": [
    "html.status_code"
   ]
  },
  {
   "cell_type": "markdown",
   "metadata": {},
   "source": [
    "5. Which method could be most informative w.r.t. actual content? How many characters long is the raw HTML file?"
   ]
  },
  {
   "cell_type": "code",
   "execution_count": 14,
   "metadata": {},
   "outputs": [
    {
     "data": {
      "text/plain": [
       "64632"
      ]
     },
     "execution_count": 14,
     "metadata": {},
     "output_type": "execute_result"
    }
   ],
   "source": [
    "len(html.text)"
   ]
  },
  {
   "cell_type": "markdown",
   "metadata": {},
   "source": [
    "6. Display the first 518 characters of the `html` object."
   ]
  },
  {
   "cell_type": "code",
   "execution_count": 15,
   "metadata": {},
   "outputs": [
    {
     "data": {
      "text/plain": [
       "'<!DOCTYPE html><html dir=\"ltr\" lang=\"de-DE\"><head><meta charset=\"utf-8\"><!-- benaja - web solutions (www.benaja-websolutions.com) Markus Meier, Roland Brandt und Tobias Gaertner GbR This website is powered by TYPO3 - inspiring people to share! TYPO3 is a free open source Content Management Framework initially created by Kasper Skaarhoj and licensed under GNU/GPL. TYPO3 is copyright 1998-2021 of Kasper Skaarhoj. Extensions are copyright of their respective owners. Information and contribution at https://typo3.org/'"
      ]
     },
     "execution_count": 15,
     "metadata": {},
     "output_type": "execute_result"
    }
   ],
   "source": [
    "html.text[:518]"
   ]
  },
  {
   "cell_type": "markdown",
   "metadata": {},
   "source": [
    "7. Display meta information on the origin of the HTTP request, e.g. date. Note that it is possible to specify the `user-agent` that the server receives and provides the response (website representation) such that it optimised, e.g. Desktop vs. mobile. If it's not specified, the request will be sent using default values (potentially) containing information about your operating system, screen resolution, keyboard language, IP address and many more."
   ]
  },
  {
   "cell_type": "code",
   "execution_count": 16,
   "metadata": {},
   "outputs": [
    {
     "data": {
      "text/plain": [
       "{'Date': 'Thu, 15 Apr 2021 12:27:42 GMT', 'Server': 'Apache/2.4.29 (Ubuntu)', 'Vary': 'Accept-Encoding', 'Last-Modified': 'Thu, 15 Apr 2021 12:25:33 GMT', 'Accept-Ranges': 'bytes', 'Content-Length': '11841', 'Cache-Control': 'max-age=0', 'Expires': 'Thu, 15 Apr 2021 12:27:42 GMT', 'X-UA-Compatible': 'IE=edge', 'X-Content-Type-Options': 'nosniff', 'Content-Encoding': 'gzip', 'Keep-Alive': 'timeout=5, max=100', 'Connection': 'Keep-Alive', 'Content-Type': 'text/html; charset=utf-8'}"
      ]
     },
     "execution_count": 16,
     "metadata": {},
     "output_type": "execute_result"
    }
   ],
   "source": [
    "html.headers"
   ]
  },
  {
   "cell_type": "markdown",
   "metadata": {},
   "source": [
    "The cell below saves the HTML object's text attribute in HTML format locally."
   ]
  },
  {
   "cell_type": "code",
   "execution_count": 17,
   "metadata": {},
   "outputs": [],
   "source": [
    "with open('Uni_Potsdam.html', 'w', encoding='utf-8') as f:\n",
    "    \n",
    "    f.write(html.text)"
   ]
  },
  {
   "cell_type": "markdown",
   "metadata": {},
   "source": [
    "8. Install the module `BeautifulSoup` via `pip install beautifulsoup4`"
   ]
  },
  {
   "cell_type": "code",
   "execution_count": 18,
   "metadata": {},
   "outputs": [],
   "source": [
    "from bs4 import BeautifulSoup"
   ]
  },
  {
   "cell_type": "code",
   "execution_count": 19,
   "metadata": {},
   "outputs": [],
   "source": [
    "soup = BeautifulSoup(html.text, \"html.parser\")"
   ]
  },
  {
   "cell_type": "markdown",
   "metadata": {},
   "source": [
    "9. Parse the BeautifulSoup object `soup` for all Affiliate Links. Hint: In a HTML document all elements that lead to another domain are indicated by an `a` and follow the structure `<a href=\"...\", ... >text</a>`. Hint: Use `soup`'s method `find_all()` where the input argument is the elements' prefix. What object type is the output? Can you iterate over it? How many elements of an Affiliate Link type are contained in the HTML file?"
   ]
  },
  {
   "cell_type": "code",
   "execution_count": 21,
   "metadata": {},
   "outputs": [
    {
     "data": {
      "text/plain": [
       "275"
      ]
     },
     "execution_count": 21,
     "metadata": {},
     "output_type": "execute_result"
    }
   ],
   "source": [
    "len(soup.find_all('a'))"
   ]
  },
  {
   "cell_type": "markdown",
   "metadata": {},
   "source": [
    "10. Convert the BeautifulSoup object into a \"plain\" Python list object containing the elements' **text** attributes by iterating over it. Hint: Instantiate an empty `list` object, write a for-loop and `append` each element to the list object. You may also remove any unwanted whitespaces by using the `strip` function."
   ]
  },
  {
   "cell_type": "code",
   "execution_count": 22,
   "metadata": {},
   "outputs": [],
   "source": [
    "empty_list = []\n",
    "\n",
    "for link in soup.find_all('a'):\n",
    "    \n",
    "    empty_list.append(link.text.strip())"
   ]
  },
  {
   "cell_type": "code",
   "execution_count": 28,
   "metadata": {},
   "outputs": [
    {
     "data": {
      "text/plain": [
       "'Übersicht'"
      ]
     },
     "execution_count": 28,
     "metadata": {},
     "output_type": "execute_result"
    }
   ],
   "source": [
    "soup.find_all('a')[0].text"
   ]
  },
  {
   "cell_type": "markdown",
   "metadata": {},
   "source": [
    "#### Pro-Tipp\n",
    "Instead of explicitly writing a for-loop when disentangling specific objects from an aggregate object you can use Python's built-in `map` and `lambda` functions as a one-liner."
   ]
  },
  {
   "cell_type": "code",
   "execution_count": 31,
   "metadata": {},
   "outputs": [],
   "source": [
    "results_list = list(map(lambda x: x.text.strip(), soup.find_all('a')))"
   ]
  },
  {
   "cell_type": "markdown",
   "metadata": {},
   "source": [
    "11. Identify the element which text attribute's value is equal to \"alle Artikel\". Return the element's position (`index`) within the list."
   ]
  },
  {
   "cell_type": "code",
   "execution_count": 36,
   "metadata": {},
   "outputs": [
    {
     "name": "stdout",
     "output_type": "stream",
     "text": [
      "220\n"
     ]
    }
   ],
   "source": [
    "all_news_index = results_list.index('alle Artikel')\n",
    "print(all_news_index)"
   ]
  },
  {
   "cell_type": "markdown",
   "metadata": {},
   "source": [
    "12. Obtain this element's value of the `href` attribute. It should be an URL pointing at the domain where the news at Universität Potsdam are collected."
   ]
  },
  {
   "cell_type": "code",
   "execution_count": 38,
   "metadata": {},
   "outputs": [
    {
     "name": "stdout",
     "output_type": "stream",
     "text": [
      "https://www.uni-potsdam.de/nachrichten.html\n"
     ]
    }
   ],
   "source": [
    "new_seed = soup.find_all('a')[all_news_index].get('href')\n",
    "print(new_seed)"
   ]
  },
  {
   "cell_type": "code",
   "execution_count": null,
   "metadata": {},
   "outputs": [],
   "source": []
  },
  {
   "cell_type": "markdown",
   "metadata": {},
   "source": [
    "13. Write a function which takes a String-type object (e.g. an URL) as input and returns a readily parse-able `BeautifulSoup` object."
   ]
  },
  {
   "cell_type": "code",
   "execution_count": 40,
   "metadata": {},
   "outputs": [],
   "source": [
    "def URL_to_BS(url):\n",
    "    \n",
    "    html = requests.get(url)\n",
    "    soup = BeautifulSoup(html.text, \"html.parser\")\n",
    "    \n",
    "    return soup"
   ]
  },
  {
   "cell_type": "code",
   "execution_count": 41,
   "metadata": {},
   "outputs": [],
   "source": [
    "news_soup = URL_to_BS(new_seed)"
   ]
  },
  {
   "cell_type": "code",
   "execution_count": 42,
   "metadata": {},
   "outputs": [
    {
     "data": {
      "text/plain": [
       "'https://www.uni-potsdam.de/nachrichten.html'"
      ]
     },
     "execution_count": 42,
     "metadata": {},
     "output_type": "execute_result"
    }
   ],
   "source": [
    "new_seed"
   ]
  },
  {
   "cell_type": "code",
   "execution_count": 43,
   "metadata": {},
   "outputs": [],
   "source": [
    "news_soup = URL_to_BS(new_seed)"
   ]
  },
  {
   "cell_type": "markdown",
   "metadata": {},
   "source": [
    "14. Open the `new_seed` URL in your browser and enable the CSS SelectorGadget. Highlight the box containing the first article. The other, similar boxes should be highlighted as well. Copy the identified CSS selector and parse through the `news_soup` object but this time over elements corresponding to the CSS selector you found (use `.select()` instead of `find_all()`). Store the subset of elements in a list. You can achieve all of this in one line of code. How many items does this list contain?"
   ]
  },
  {
   "cell_type": "code",
   "execution_count": 44,
   "metadata": {},
   "outputs": [],
   "source": [
    "css_element = '.up-news-list-item'"
   ]
  },
  {
   "cell_type": "code",
   "execution_count": 46,
   "metadata": {},
   "outputs": [
    {
     "data": {
      "text/plain": [
       "[<div class=\"up-news-list-item\" itemscope=\"itemscope\" itemtype=\"http://schema.org/Article\"><div class=\"up-news-list-item-image\"><a href=\"/de/nachrichten/detail/2021-04-15-studio-days-2021-digitale-studienorientierungswoche-der-staatlichen-brandenburgischen\" title=\"Studi’O Days 2021 – digitale Studienorientierungswoche der staatlichen brandenburgischen Hochschulen\"><div class=\"news-img-wrap\"><a href=\"/de/nachrichten/detail/2021-04-15-studio-days-2021-digitale-studienorientierungswoche-der-staatlichen-brandenburgischen\" title=\"Studi’O Days 2021 – digitale Studienorientierungswoche der staatlichen brandenburgischen Hochschulen\"><img alt=\"Matthias Friel, Netzwerk Studienorientierung Brandenburg\" height=\"140\" src=\"/fileadmin/_processed_/c/2/csm_2021-04_Cover_StudiODays_PM_ce48bf3905.jpg\" width=\"270\"/></a></div></a></div><div class=\"up-news-list-item-text\"><a href=\"/de/nachrichten/detail/2021-04-15-studio-days-2021-digitale-studienorientierungswoche-der-staatlichen-brandenburgischen\" title=\"Studi’O Days 2021 – digitale Studienorientierungswoche der staatlichen brandenburgischen Hochschulen\"><h2>Studi’O Days 2021 – digitale Studienorientierungswoche der staatlichen brandenburgischen Hochschulen</h2></a><div class=\"up-news-list-published\"><time datetime=\"2021-04-15\"> 15.04.2021 </time></div><span class=\"up-news-list-text\"> Das Netzwerk Studienorientierung Brandenburg lädt vom 26. bis 30. April 2021 zur digitalen Studienorientierungswoche ein. Unter dem Motto „Fünf Tage,... </span><span class=\"up-news-list-morelink\"><a class=\"more\" href=\"/de/nachrichten/detail/2021-04-15-studio-days-2021-digitale-studienorientierungswoche-der-staatlichen-brandenburgischen\" title=\"Studi’O Days 2021 – digitale Studienorientierungswoche der staatlichen brandenburgischen Hochschulen\"> mehr </a></span></div><div class=\"up-clear\"></div></div>,\n",
       " <div class=\"up-news-list-item\" itemscope=\"itemscope\" itemtype=\"http://schema.org/Article\"><div class=\"up-news-list-item-image\"><a href=\"/de/nachrichten/detail/2021-04-15-hoppla-jetzt-kommt-koppla-die-revolution-fuers-handwerk\" title=\"Hoppla! Jetzt kommt Koppla! – Die Revolution fürs Handwerk\"><div class=\"news-img-wrap\"><a href=\"/de/nachrichten/detail/2021-04-15-hoppla-jetzt-kommt-koppla-die-revolution-fuers-handwerk\" title=\"Hoppla! Jetzt kommt Koppla! – Die Revolution fürs Handwerk\"><img alt=\"Lasse Steffen, Marco Trippler und Jerome Lange (v.l.n.r.) | Foto: Thomas Roese\" height=\"140\" src=\"/fileadmin/_processed_/0/9/csm_2021-04_Koppla_DSC2021_Thomas_Roese_92315a26d2.jpg\" title=\"Lasse Steffen, Marco Trippler und Jerome Lange (v.l.n.r.) | Foto: Thomas Roese\" width=\"270\"/></a></div></a></div><div class=\"up-news-list-item-text\"><a href=\"/de/nachrichten/detail/2021-04-15-hoppla-jetzt-kommt-koppla-die-revolution-fuers-handwerk\" title=\"Hoppla! Jetzt kommt Koppla! – Die Revolution fürs Handwerk\"><h2>Hoppla! Jetzt kommt Koppla! – Die Revolution fürs Handwerk</h2></a><div class=\"up-news-list-published\"><time datetime=\"2021-04-15\"> 15.04.2021 </time></div><span class=\"up-news-list-text\"> „Wir wollen, dass jede Handwerkerin und jeder Handwerker mit unserer Software arbeitet – weil sie leicht zu bedienen ist und viele Prozesse... </span><span class=\"up-news-list-morelink\"><a class=\"more\" href=\"/de/nachrichten/detail/2021-04-15-hoppla-jetzt-kommt-koppla-die-revolution-fuers-handwerk\" title=\"Hoppla! Jetzt kommt Koppla! – Die Revolution fürs Handwerk\"> mehr </a></span></div><div class=\"up-clear\"></div></div>,\n",
       " <div class=\"up-news-list-item\" itemscope=\"itemscope\" itemtype=\"http://schema.org/Article\"><div class=\"up-news-list-item-image\"><a href=\"/de/nachrichten/detail/2021-04-13-science-fiction-experimentelle-kooperation-von-germanistik-und-food4future\" title=\"Science / Fiction – Experimentelle Kooperation von Germanistik und food4future\"><div class=\"news-img-wrap\"><a href=\"/de/nachrichten/detail/2021-04-13-science-fiction-experimentelle-kooperation-von-germanistik-und-food4future\" title=\"Science / Fiction – Experimentelle Kooperation von Germanistik und food4future\"><img alt=\"Buch: ArtsyBunnies via freepik.com / f4f-Vision: headland für food4future\" height=\"140\" src=\"/fileadmin/_processed_/c/c/csm_2021-04_UP_LitWiss_x_food4future_82f0052b19.jpg\" width=\"270\"/></a></div></a></div><div class=\"up-news-list-item-text\"><a href=\"/de/nachrichten/detail/2021-04-13-science-fiction-experimentelle-kooperation-von-germanistik-und-food4future\" title=\"Science / Fiction – Experimentelle Kooperation von Germanistik und food4future\"><h2>Science / Fiction – Experimentelle Kooperation von Germanistik und food4future</h2></a><div class=\"up-news-list-published\"><time datetime=\"2021-04-13\"> 13.04.2021 </time></div><span class=\"up-news-list-text\"> Kann Science Fiction-Literatur Inspirationen für innovative Ansätze in der Forschung zur Nahrungsmittel- und Agrarproduktion liefern? Denken wir in... </span><span class=\"up-news-list-morelink\"><a class=\"more\" href=\"/de/nachrichten/detail/2021-04-13-science-fiction-experimentelle-kooperation-von-germanistik-und-food4future\" title=\"Science / Fiction – Experimentelle Kooperation von Germanistik und food4future\"> mehr </a></span></div><div class=\"up-clear\"></div></div>,\n",
       " <div class=\"up-news-list-item\" itemscope=\"itemscope\" itemtype=\"http://schema.org/Article\"><div class=\"up-news-list-item-image\"><a href=\"/de/nachrichten/detail/2021-04-13-wir-waren-exotisch-der-linguist-gisbert-fanselow-und-der-psychologe-reinhold-klie\" title=\"„Wir waren exotisch!“ – Der Linguist Gisbert Fanselow und der Psychologe Reinhold Kliegl im Gespräch über löchrige Dächer, schwierige Anfänge und die richtigen Forschungsfragen\"><div class=\"news-img-wrap\"><a href=\"/de/nachrichten/detail/2021-04-13-wir-waren-exotisch-der-linguist-gisbert-fanselow-und-der-psychologe-reinhold-klie\" title=\"„Wir waren exotisch!“ – Der Linguist Gisbert Fanselow und der Psychologe Reinhold Kliegl im Gespräch über löchrige Dächer, schwierige Anfänge und die richtigen Forschungsfragen\"><img alt=\"In gemeinsamer Forschung vertieft wie am ersten Tag – Linguist Gisbert Fanselow und Psychologie Reinhold Kliegl, 2014 | Foto: ZIM\" height=\"140\" src=\"/fileadmin/_processed_/8/a/csm_2021-04_Fanselow_Kliegl_2014_Foto_ZIM_a1e3331679.jpg\" title=\"In gemeinsamer Forschung vertieft wie am ersten Tag – Linguist Gisbert Fanselow und Psychologie Reinhold Kliegl, 2014 | Foto: ZIM\" width=\"270\"/></a></div></a></div><div class=\"up-news-list-item-text\"><a href=\"/de/nachrichten/detail/2021-04-13-wir-waren-exotisch-der-linguist-gisbert-fanselow-und-der-psychologe-reinhold-klie\" title=\"„Wir waren exotisch!“ – Der Linguist Gisbert Fanselow und der Psychologe Reinhold Kliegl im Gespräch über löchrige Dächer, schwierige Anfänge und die richtigen Forschungsfragen\"><h2>„Wir waren exotisch!“ – Der Linguist Gisbert Fanselow und der Psychologe Reinhold Kliegl im Gespräch über löchrige Dächer, schwierige Anfänge und die richtigen Forschungsfragen</h2></a><div class=\"up-news-list-published\"><time datetime=\"2021-04-13\"> 13.04.2021 </time></div><span class=\"up-news-list-text\"> Die Kognitionswissenschaften gehören zu den Forschungsschwerpunkten der Universität Potsdam (UP) und haben sich national wie international einen Namen... </span><span class=\"up-news-list-morelink\"><a class=\"more\" href=\"/de/nachrichten/detail/2021-04-13-wir-waren-exotisch-der-linguist-gisbert-fanselow-und-der-psychologe-reinhold-klie\" title=\"„Wir waren exotisch!“ – Der Linguist Gisbert Fanselow und der Psychologe Reinhold Kliegl im Gespräch über löchrige Dächer, schwierige Anfänge und die richtigen Forschungsfragen\"> mehr </a></span></div><div class=\"up-clear\"></div></div>,\n",
       " <div class=\"up-news-list-item\" itemscope=\"itemscope\" itemtype=\"http://schema.org/Article\"><div class=\"up-news-list-item-image\"><a href=\"/de/nachrichten/detail/2021-04-12-eine-bruecke-in-den-arbeitsmarkt-warum-betriebswirtin-kristina-nistor-noch-einmal-zur-uni-g\" title=\"Eine Brücke in den Arbeitsmarkt: Warum Betriebswirtin Kristina Nistor noch einmal zur Uni ging\"><div class=\"news-img-wrap\"><a href=\"/de/nachrichten/detail/2021-04-12-eine-bruecke-in-den-arbeitsmarkt-warum-betriebswirtin-kristina-nistor-noch-einmal-zur-uni-g\" title=\"Eine Brücke in den Arbeitsmarkt: Warum Betriebswirtin Kristina Nistor noch einmal zur Uni ging\"><img alt=\"Kristina Nistor absolvierte an der Uni eine Brückenmaßnahme für Hochschulabsolventen mit Migrationsgeschichte | Foto: Nadja Bossmann\" height=\"140\" src=\"/fileadmin/_processed_/3/b/csm_2021-03_Portraet_Kristina_Nistor_Bossmann_99e28252e8.jpg\" title=\"Kristina Nistor absolvierte an der Uni eine Brückenmaßnahme für Hochschulabsolventen mit Migrationsgeschichte | Foto: Nadja Bossmann\" width=\"270\"/></a></div></a></div><div class=\"up-news-list-item-text\"><a href=\"/de/nachrichten/detail/2021-04-12-eine-bruecke-in-den-arbeitsmarkt-warum-betriebswirtin-kristina-nistor-noch-einmal-zur-uni-g\" title=\"Eine Brücke in den Arbeitsmarkt: Warum Betriebswirtin Kristina Nistor noch einmal zur Uni ging\"><h2>Eine Brücke in den Arbeitsmarkt: Warum Betriebswirtin Kristina Nistor noch einmal zur Uni ging</h2></a><div class=\"up-news-list-published\"><time datetime=\"2021-04-12\"> 12.04.2021 </time></div><span class=\"up-news-list-text\"> Vor zwei Jahren hat Kristina Nistor an der Universität Potsdam eine Brückenmaßnahme absolviert, die arbeitslosen Hochschulabsolventen mit... </span><span class=\"up-news-list-morelink\"><a class=\"more\" href=\"/de/nachrichten/detail/2021-04-12-eine-bruecke-in-den-arbeitsmarkt-warum-betriebswirtin-kristina-nistor-noch-einmal-zur-uni-g\" title=\"Eine Brücke in den Arbeitsmarkt: Warum Betriebswirtin Kristina Nistor noch einmal zur Uni ging\"> mehr </a></span></div><div class=\"up-clear\"></div></div>,\n",
       " <div class=\"up-news-list-item\" itemscope=\"itemscope\" itemtype=\"http://schema.org/Article\"><div class=\"up-news-list-item-image\"><a href=\"/de/nachrichten/detail/2021-04-08-die-klima-uhr-tickt-der-wirtschaftswissenschaftler-matthias-kalkuhl-erforscht-wie-die-k\" title=\"Die Klima-Uhr tickt – Der Wirtschaftswissenschaftler Matthias Kalkuhl erforscht, wie die Klimawende gelingen kann\"><div class=\"news-img-wrap\"><a href=\"/de/nachrichten/detail/2021-04-08-die-klima-uhr-tickt-der-wirtschaftswissenschaftler-matthias-kalkuhl-erforscht-wie-die-k\" title=\"Die Klima-Uhr tickt – Der Wirtschaftswissenschaftler Matthias Kalkuhl erforscht, wie die Klimawende gelingen kann\"><img alt=\"Prof. Matthias Kalkuhl | Foto: Tobias Hopfgarten\" height=\"140\" src=\"/fileadmin/_processed_/a/1/csm_2020-09_Kalkuhl_HeikeKampeInterview_TobiasHopfgarten_DSC6276_b6a03de871.jpg\" title=\"Prof. Matthias Kalkuhl | Foto: Tobias Hopfgarten\" width=\"270\"/></a></div></a></div><div class=\"up-news-list-item-text\"><a href=\"/de/nachrichten/detail/2021-04-08-die-klima-uhr-tickt-der-wirtschaftswissenschaftler-matthias-kalkuhl-erforscht-wie-die-k\" title=\"Die Klima-Uhr tickt – Der Wirtschaftswissenschaftler Matthias Kalkuhl erforscht, wie die Klimawende gelingen kann\"><h2>Die Klima-Uhr tickt – Der Wirtschaftswissenschaftler Matthias Kalkuhl erforscht, wie die Klimawende gelingen kann</h2></a><div class=\"up-news-list-published\"><time datetime=\"2021-04-08\"> 08.04.2021 </time></div><span class=\"up-news-list-text\"> Jeden Morgen, wenn Matthias Kalkuhl zu seinem Arbeitsplatz am Mercator Research Institute on Global Commons and Climate Change (MCC) in Berlin fährt,... </span><span class=\"up-news-list-morelink\"><a class=\"more\" href=\"/de/nachrichten/detail/2021-04-08-die-klima-uhr-tickt-der-wirtschaftswissenschaftler-matthias-kalkuhl-erforscht-wie-die-k\" title=\"Die Klima-Uhr tickt – Der Wirtschaftswissenschaftler Matthias Kalkuhl erforscht, wie die Klimawende gelingen kann\"> mehr </a></span></div><div class=\"up-clear\"></div></div>,\n",
       " <div class=\"up-news-list-item\" itemscope=\"itemscope\" itemtype=\"http://schema.org/Article\"><div class=\"up-news-list-item-image\"><a href=\"/de/nachrichten/detail/2021-04-06-viele-schluessel-zum-erfolg-wie-sich-das-zessko-vom-sprachen-zum-kompetenzzentrum-entwi\" title=\"Viele Schlüssel zum Erfolg – Wie sich das Zessko vom Sprachen- zum Kompetenzzentrum entwickelte\"><div class=\"news-img-wrap\"><a href=\"/de/nachrichten/detail/2021-04-06-viele-schluessel-zum-erfolg-wie-sich-das-zessko-vom-sprachen-zum-kompetenzzentrum-entwi\" title=\"Viele Schlüssel zum Erfolg – Wie sich das Zessko vom Sprachen- zum Kompetenzzentrum entwickelte\"><img alt=\"Wie sich das Zessko vom Sprachen- zum Kompetenzzentrum entwickelte | Foto: V. Kochan (Archiv)\" height=\"140\" src=\"/fileadmin/_processed_/7/7/csm_2021-03_Zessko_Foto_V-Kochan_cf829fb35d.jpg\" title=\"Wie sich das Zessko vom Sprachen- zum Kompetenzzentrum entwickelte | Foto: V. Kochan (Archiv)\" width=\"270\"/></a></div></a></div><div class=\"up-news-list-item-text\"><a href=\"/de/nachrichten/detail/2021-04-06-viele-schluessel-zum-erfolg-wie-sich-das-zessko-vom-sprachen-zum-kompetenzzentrum-entwi\" title=\"Viele Schlüssel zum Erfolg – Wie sich das Zessko vom Sprachen- zum Kompetenzzentrum entwickelte\"><h2>Viele Schlüssel zum Erfolg – Wie sich das Zessko vom Sprachen- zum Kompetenzzentrum entwickelte</h2></a><div class=\"up-news-list-published\"><time datetime=\"2021-04-06\"> 06.04.2021 </time></div><span class=\"up-news-list-text\"> Wer ihr Sekretariat am Campus Griebnitzsee betritt, darf gerne ein Lächeln aufsetzen, denn „das kostet nichts und dennoch ist es das schönste aller... </span><span class=\"up-news-list-morelink\"><a class=\"more\" href=\"/de/nachrichten/detail/2021-04-06-viele-schluessel-zum-erfolg-wie-sich-das-zessko-vom-sprachen-zum-kompetenzzentrum-entwi\" title=\"Viele Schlüssel zum Erfolg – Wie sich das Zessko vom Sprachen- zum Kompetenzzentrum entwickelte\"> mehr </a></span></div><div class=\"up-clear\"></div></div>,\n",
       " <div class=\"up-news-list-item\" itemscope=\"itemscope\" itemtype=\"http://schema.org/Article\"><div class=\"up-news-list-item-image\"><a href=\"/de/nachrichten/detail/2021-03-30-im-interview-sven-dinklage-im-einsatz-als-liaison-officer-fuer-die-up-in-brasilien\" title=\"Im Interview: Sven Dinklage – Im Einsatz als Liaison-Officer für die UP in Brasilien\"><div class=\"news-img-wrap\"><a href=\"/de/nachrichten/detail/2021-03-30-im-interview-sven-dinklage-im-einsatz-als-liaison-officer-fuer-die-up-in-brasilien\" title=\"Im Interview: Sven Dinklage – Im Einsatz als Liaison-Officer für die UP in Brasilien\"><img alt=\"Sven Dinklage | Foto: privat\" height=\"140\" src=\"/fileadmin/_processed_/1/7/csm_2021-02_Portrait_Sven_Dinklage_copyright_privat_ae5232301d.jpg\" title=\"Sven Dinklage | Foto: privat\" width=\"270\"/></a></div></a></div><div class=\"up-news-list-item-text\"><a href=\"/de/nachrichten/detail/2021-03-30-im-interview-sven-dinklage-im-einsatz-als-liaison-officer-fuer-die-up-in-brasilien\" title=\"Im Interview: Sven Dinklage – Im Einsatz als Liaison-Officer für die UP in Brasilien\"><h2>Im Interview: Sven Dinklage – Im Einsatz als Liaison-Officer für die UP in Brasilien</h2></a><div class=\"up-news-list-published\"><time datetime=\"2021-03-30\"> 30.03.2021 </time></div><span class=\"up-news-list-text\"> Seit 2012 baut die Universität Potsdam die wissenschaftlichen Beziehungen nach Brasilien, insbesondere zu den Universitäten des Bundesstaates São... </span><span class=\"up-news-list-morelink\"><a class=\"more\" href=\"/de/nachrichten/detail/2021-03-30-im-interview-sven-dinklage-im-einsatz-als-liaison-officer-fuer-die-up-in-brasilien\" title=\"Im Interview: Sven Dinklage – Im Einsatz als Liaison-Officer für die UP in Brasilien\"> mehr </a></span></div><div class=\"up-clear\"></div></div>,\n",
       " <div class=\"up-news-list-item\" itemscope=\"itemscope\" itemtype=\"http://schema.org/Article\"><div class=\"up-news-list-item-image\"><a href=\"/de/nachrichten/detail/2021-03-29-studier-was-vernuenftiges-scivisto-gruenderin-franziska-schwarz-ueber-einen\" title=\"„Studier was Vernünftiges!“ – „SciVisTo“-Gründerin Franziska Schwarz über einen ungewöhnlichen Weg in die Selbstständigkeit\"><div class=\"news-img-wrap\"><a href=\"/de/nachrichten/detail/2021-03-29-studier-was-vernuenftiges-scivisto-gruenderin-franziska-schwarz-ueber-einen\" title=\"„Studier was Vernünftiges!“ – „SciVisTo“-Gründerin Franziska Schwarz über einen ungewöhnlichen Weg in die Selbstständigkeit\"><img alt=\"Franziska Schwarz visualisiert Diskussionen und Prozesse | Zeichnung: Franziska Schwarz\" height=\"140\" src=\"/fileadmin/_processed_/e/3/csm_2021-03_Zeichnung_Franziska_Schwarz_e0a9a8fcfe.jpg\" title=\"Franziska Schwarz visualisiert Diskussionen und Prozesse | Zeichnung: Franziska Schwarz\" width=\"270\"/></a></div></a></div><div class=\"up-news-list-item-text\"><a href=\"/de/nachrichten/detail/2021-03-29-studier-was-vernuenftiges-scivisto-gruenderin-franziska-schwarz-ueber-einen\" title=\"„Studier was Vernünftiges!“ – „SciVisTo“-Gründerin Franziska Schwarz über einen ungewöhnlichen Weg in die Selbstständigkeit\"><h2>„Studier was Vernünftiges!“ – „SciVisTo“-Gründerin Franziska Schwarz über einen ungewöhnlichen Weg in die Selbstständigkeit</h2></a><div class=\"up-news-list-published\"><time datetime=\"2021-03-29\"> 29.03.2021 </time></div><span class=\"up-news-list-text\"> Hätte mir jemand zum Abitur gesagt, dass ich einmal als zeichnende Naturwissenschaftlerin mein Geld verdienen würde ... So ein Unsinn! </span><span class=\"up-news-list-morelink\"><a class=\"more\" href=\"/de/nachrichten/detail/2021-03-29-studier-was-vernuenftiges-scivisto-gruenderin-franziska-schwarz-ueber-einen\" title=\"„Studier was Vernünftiges!“ – „SciVisTo“-Gründerin Franziska Schwarz über einen ungewöhnlichen Weg in die Selbstständigkeit\"> mehr </a></span></div><div class=\"up-clear\"></div></div>,\n",
       " <div class=\"up-news-list-item\" itemscope=\"itemscope\" itemtype=\"http://schema.org/Article\"><div class=\"up-news-list-item-image\"><a href=\"/de/nachrichten/detail/2021-03-25-ich-wuerde-meine-verteidigung-auch-lieber-live-durchfuehren-luise-krompholz-macht\" title=\"„Ich würde meine Verteidigung auch lieber live durchführen“ – Luise Krompholz macht ihren Abschluss an der Uni fern der Uni\"><div class=\"news-img-wrap\"><a href=\"/de/nachrichten/detail/2021-03-25-ich-wuerde-meine-verteidigung-auch-lieber-live-durchfuehren-luise-krompholz-macht\" title=\"„Ich würde meine Verteidigung auch lieber live durchführen“ – Luise Krompholz macht ihren Abschluss an der Uni fern der Uni\"><img alt=\"Luise Theresa Krompholz | Foto: privat\" height=\"140\" src=\"/fileadmin/_processed_/3/2/csm_2021-03_Luise_Krompholz_privat_f836c4ca8c.jpg\" title=\"Luise Theresa Krompholz | Foto: privat\" width=\"270\"/></a></div></a></div><div class=\"up-news-list-item-text\"><a href=\"/de/nachrichten/detail/2021-03-25-ich-wuerde-meine-verteidigung-auch-lieber-live-durchfuehren-luise-krompholz-macht\" title=\"„Ich würde meine Verteidigung auch lieber live durchführen“ – Luise Krompholz macht ihren Abschluss an der Uni fern der Uni\"><h2>„Ich würde meine Verteidigung auch lieber live durchführen“ – Luise Krompholz macht ihren Abschluss an der Uni fern der Uni</h2></a><span class=\"up-news-list-subheader\"><span class=\"up-news-list-subheader-text\"> Krisenbewältigung und Innovation – Die digitale Universität in Zeiten der Pandemie </span></span><div class=\"up-news-list-published\"><time datetime=\"2021-03-25\"> 25.03.2021 </time></div><span class=\"up-news-list-text\"> Wenn das Studium dem Ende zugeht, saugen viele noch einmal alles auf, was die Uni zu bieten hat: Auslanderfahrung, intensive Diskussionen in... </span><span class=\"up-news-list-morelink\"><a class=\"more\" href=\"/de/nachrichten/detail/2021-03-25-ich-wuerde-meine-verteidigung-auch-lieber-live-durchfuehren-luise-krompholz-macht\" title=\"„Ich würde meine Verteidigung auch lieber live durchführen“ – Luise Krompholz macht ihren Abschluss an der Uni fern der Uni\"> mehr </a></span></div><div class=\"up-clear\"></div></div>]"
      ]
     },
     "execution_count": 46,
     "metadata": {},
     "output_type": "execute_result"
    }
   ],
   "source": [
    "news_soup.select(css_element)"
   ]
  },
  {
   "cell_type": "code",
   "execution_count": 47,
   "metadata": {},
   "outputs": [],
   "source": [
    "news_list = list(map(lambda x: x, news_soup.select(css_element)))"
   ]
  },
  {
   "cell_type": "code",
   "execution_count": 51,
   "metadata": {},
   "outputs": [
    {
     "data": {
      "text/plain": [
       "<div class=\"up-news-list-item\" itemscope=\"itemscope\" itemtype=\"http://schema.org/Article\"><div class=\"up-news-list-item-image\"><a href=\"/de/nachrichten/detail/2021-04-15-studio-days-2021-digitale-studienorientierungswoche-der-staatlichen-brandenburgischen\" title=\"Studi’O Days 2021 – digitale Studienorientierungswoche der staatlichen brandenburgischen Hochschulen\"><div class=\"news-img-wrap\"><a href=\"/de/nachrichten/detail/2021-04-15-studio-days-2021-digitale-studienorientierungswoche-der-staatlichen-brandenburgischen\" title=\"Studi’O Days 2021 – digitale Studienorientierungswoche der staatlichen brandenburgischen Hochschulen\"><img alt=\"Matthias Friel, Netzwerk Studienorientierung Brandenburg\" height=\"140\" src=\"/fileadmin/_processed_/c/2/csm_2021-04_Cover_StudiODays_PM_ce48bf3905.jpg\" width=\"270\"/></a></div></a></div><div class=\"up-news-list-item-text\"><a href=\"/de/nachrichten/detail/2021-04-15-studio-days-2021-digitale-studienorientierungswoche-der-staatlichen-brandenburgischen\" title=\"Studi’O Days 2021 – digitale Studienorientierungswoche der staatlichen brandenburgischen Hochschulen\"><h2>Studi’O Days 2021 – digitale Studienorientierungswoche der staatlichen brandenburgischen Hochschulen</h2></a><div class=\"up-news-list-published\"><time datetime=\"2021-04-15\"> 15.04.2021 </time></div><span class=\"up-news-list-text\"> Das Netzwerk Studienorientierung Brandenburg lädt vom 26. bis 30. April 2021 zur digitalen Studienorientierungswoche ein. Unter dem Motto „Fünf Tage,... </span><span class=\"up-news-list-morelink\"><a class=\"more\" href=\"/de/nachrichten/detail/2021-04-15-studio-days-2021-digitale-studienorientierungswoche-der-staatlichen-brandenburgischen\" title=\"Studi’O Days 2021 – digitale Studienorientierungswoche der staatlichen brandenburgischen Hochschulen\"> mehr </a></span></div><div class=\"up-clear\"></div></div>"
      ]
     },
     "execution_count": 51,
     "metadata": {},
     "output_type": "execute_result"
    }
   ],
   "source": [
    "news_list[0]"
   ]
  },
  {
   "cell_type": "markdown",
   "metadata": {},
   "source": [
    "15. Split the list's elements into their hyperlinks (`href`) and text attributes' values."
   ]
  },
  {
   "cell_type": "code",
   "execution_count": 54,
   "metadata": {},
   "outputs": [
    {
     "data": {
      "text/plain": [
       "'/de/nachrichten/detail/2021-04-15-studio-days-2021-digitale-studienorientierungswoche-der-staatlichen-brandenburgischen'"
      ]
     },
     "execution_count": 54,
     "metadata": {},
     "output_type": "execute_result"
    }
   ],
   "source": [
    "news_list[0].findChild(\"a\")['href']"
   ]
  },
  {
   "cell_type": "code",
   "execution_count": 56,
   "metadata": {},
   "outputs": [
    {
     "name": "stdout",
     "output_type": "stream",
     "text": [
      "Help on Tag in module bs4.element object:\n",
      "\n",
      "class Tag(PageElement)\n",
      " |  Tag(parser=None, builder=None, name=None, namespace=None, prefix=None, attrs=None, parent=None, previous=None, is_xml=None, sourceline=None, sourcepos=None, can_be_empty_element=None, cdata_list_attributes=None, preserve_whitespace_tags=None)\n",
      " |  \n",
      " |  Represents an HTML or XML tag that is part of a parse tree, along\n",
      " |  with its attributes and contents.\n",
      " |  \n",
      " |  When Beautiful Soup parses the markup <b>penguin</b>, it will\n",
      " |  create a Tag object representing the <b> tag.\n",
      " |  \n",
      " |  Method resolution order:\n",
      " |      Tag\n",
      " |      PageElement\n",
      " |      builtins.object\n",
      " |  \n",
      " |  Methods defined here:\n",
      " |  \n",
      " |  __bool__(self)\n",
      " |      A tag is non-None even if it has no contents.\n",
      " |  \n",
      " |  __call__(self, *args, **kwargs)\n",
      " |      Calling a Tag like a function is the same as calling its\n",
      " |      find_all() method. Eg. tag('a') returns a list of all the A tags\n",
      " |      found within this tag.\n",
      " |  \n",
      " |  __contains__(self, x)\n",
      " |  \n",
      " |  __copy__(self)\n",
      " |      A copy of a Tag is a new Tag, unconnected to the parse tree.\n",
      " |      Its contents are a copy of the old Tag's contents.\n",
      " |  \n",
      " |  __delitem__(self, key)\n",
      " |      Deleting tag[key] deletes all 'key' attributes for the tag.\n",
      " |  \n",
      " |  __eq__(self, other)\n",
      " |      Returns true iff this Tag has the same name, the same attributes,\n",
      " |      and the same contents (recursively) as `other`.\n",
      " |  \n",
      " |  __getattr__(self, tag)\n",
      " |      Calling tag.subtag is the same as calling tag.find(name=\"subtag\")\n",
      " |  \n",
      " |  __getitem__(self, key)\n",
      " |      tag[key] returns the value of the 'key' attribute for the Tag,\n",
      " |      and throws an exception if it's not there.\n",
      " |  \n",
      " |  __hash__(self)\n",
      " |      Return hash(self).\n",
      " |  \n",
      " |  __init__(self, parser=None, builder=None, name=None, namespace=None, prefix=None, attrs=None, parent=None, previous=None, is_xml=None, sourceline=None, sourcepos=None, can_be_empty_element=None, cdata_list_attributes=None, preserve_whitespace_tags=None)\n",
      " |      Basic constructor.\n",
      " |      \n",
      " |      :param parser: A BeautifulSoup object.\n",
      " |      :param builder: A TreeBuilder.\n",
      " |      :param name: The name of the tag.\n",
      " |      :param namespace: The URI of this Tag's XML namespace, if any.\n",
      " |      :param prefix: The prefix for this Tag's XML namespace, if any.\n",
      " |      :param attrs: A dictionary of this Tag's attribute values.\n",
      " |      :param parent: The PageElement to use as this Tag's parent.\n",
      " |      :param previous: The PageElement that was parsed immediately before\n",
      " |          this tag.\n",
      " |      :param is_xml: If True, this is an XML tag. Otherwise, this is an\n",
      " |          HTML tag.\n",
      " |      :param sourceline: The line number where this tag was found in its\n",
      " |          source document.\n",
      " |      :param sourcepos: The character position within `sourceline` where this\n",
      " |          tag was found.\n",
      " |      :param can_be_empty_element: If True, this tag should be\n",
      " |          represented as <tag/>. If False, this tag should be represented\n",
      " |          as <tag></tag>.\n",
      " |      :param cdata_list_attributes: A list of attributes whose values should\n",
      " |          be treated as CDATA if they ever show up on this tag.\n",
      " |      :param preserve_whitespace_tags: A list of tag names whose contents\n",
      " |          should have their whitespace preserved.\n",
      " |  \n",
      " |  __iter__(self)\n",
      " |      Iterating over a Tag iterates over its contents.\n",
      " |  \n",
      " |  __len__(self)\n",
      " |      The length of a Tag is the length of its list of contents.\n",
      " |  \n",
      " |  __ne__(self, other)\n",
      " |      Returns true iff this Tag is not identical to `other`,\n",
      " |      as defined in __eq__.\n",
      " |  \n",
      " |  __repr__ = __unicode__(self)\n",
      " |  \n",
      " |  __setitem__(self, key, value)\n",
      " |      Setting tag[key] sets the value of the 'key' attribute for the\n",
      " |      tag.\n",
      " |  \n",
      " |  __str__ = __unicode__(self)\n",
      " |  \n",
      " |  __unicode__(self)\n",
      " |      Renders this PageElement as a Unicode string.\n",
      " |  \n",
      " |  childGenerator(self)\n",
      " |      Deprecated generator.\n",
      " |  \n",
      " |  clear(self, decompose=False)\n",
      " |      Wipe out all children of this PageElement by calling extract()\n",
      " |         on them.\n",
      " |      \n",
      " |      :param decompose: If this is True, decompose() (a more\n",
      " |          destructive method) will be called instead of extract().\n",
      " |  \n",
      " |  decode(self, indent_level=None, eventual_encoding='utf-8', formatter='minimal')\n",
      " |      Render a Unicode representation of this PageElement and its\n",
      " |      contents.\n",
      " |      \n",
      " |      :param indent_level: Each line of the rendering will be\n",
      " |           indented this many spaces. Used internally in\n",
      " |           recursive calls while pretty-printing.\n",
      " |      :param eventual_encoding: The tag is destined to be\n",
      " |          encoded into this encoding. This method is _not_\n",
      " |          responsible for performing that encoding. This information\n",
      " |          is passed in so that it can be substituted in if the\n",
      " |          document contains a <META> tag that mentions the document's\n",
      " |          encoding.\n",
      " |      :param formatter: A Formatter object, or a string naming one of\n",
      " |          the standard formatters.\n",
      " |  \n",
      " |  decode_contents(self, indent_level=None, eventual_encoding='utf-8', formatter='minimal')\n",
      " |      Renders the contents of this tag as a Unicode string.\n",
      " |      \n",
      " |      :param indent_level: Each line of the rendering will be\n",
      " |         indented this many spaces. Used internally in\n",
      " |         recursive calls while pretty-printing.\n",
      " |      \n",
      " |      :param eventual_encoding: The tag is destined to be\n",
      " |         encoded into this encoding. decode_contents() is _not_\n",
      " |         responsible for performing that encoding. This information\n",
      " |         is passed in so that it can be substituted in if the\n",
      " |         document contains a <META> tag that mentions the document's\n",
      " |         encoding.\n",
      " |      \n",
      " |      :param formatter: A Formatter object, or a string naming one of\n",
      " |          the standard Formatters.\n",
      " |  \n",
      " |  decompose(self)\n",
      " |      Recursively destroys this PageElement and its children.\n",
      " |      \n",
      " |      This element will be removed from the tree and wiped out; so\n",
      " |      will everything beneath it.\n",
      " |      \n",
      " |      The behavior of a decomposed PageElement is undefined and you\n",
      " |      should never use one for anything, but if you need to _check_\n",
      " |      whether an element has been decomposed, you can use the\n",
      " |      `decomposed` property.\n",
      " |  \n",
      " |  encode(self, encoding='utf-8', indent_level=None, formatter='minimal', errors='xmlcharrefreplace')\n",
      " |      Render a bytestring representation of this PageElement and its\n",
      " |      contents.\n",
      " |      \n",
      " |      :param encoding: The destination encoding.\n",
      " |      :param indent_level: Each line of the rendering will be\n",
      " |          indented this many spaces. Used internally in\n",
      " |          recursive calls while pretty-printing.\n",
      " |      :param formatter: A Formatter object, or a string naming one of\n",
      " |          the standard formatters.\n",
      " |      :param errors: An error handling strategy such as\n",
      " |          'xmlcharrefreplace'. This value is passed along into\n",
      " |          encode() and its value should be one of the constants\n",
      " |          defined by Python.\n",
      " |      :return: A bytestring.\n",
      " |  \n",
      " |  encode_contents(self, indent_level=None, encoding='utf-8', formatter='minimal')\n",
      " |      Renders the contents of this PageElement as a bytestring.\n",
      " |      \n",
      " |      :param indent_level: Each line of the rendering will be\n",
      " |         indented this many spaces. Used internally in\n",
      " |         recursive calls while pretty-printing.\n",
      " |      \n",
      " |      :param eventual_encoding: The bytestring will be in this encoding.\n",
      " |      \n",
      " |      :param formatter: A Formatter object, or a string naming one of\n",
      " |          the standard Formatters.\n",
      " |      \n",
      " |      :return: A bytestring.\n",
      " |  \n",
      " |  find(self, name=None, attrs={}, recursive=True, text=None, **kwargs)\n",
      " |      Look in the children of this PageElement and find the first\n",
      " |      PageElement that matches the given criteria.\n",
      " |      \n",
      " |      All find_* methods take a common set of arguments. See the online\n",
      " |      documentation for detailed explanations.\n",
      " |      \n",
      " |      :param name: A filter on tag name.\n",
      " |      :param attrs: A dictionary of filters on attribute values.\n",
      " |      :param recursive: If this is True, find() will perform a\n",
      " |          recursive search of this PageElement's children. Otherwise,\n",
      " |          only the direct children will be considered.\n",
      " |      :param limit: Stop looking after finding this many results.\n",
      " |      :kwargs: A dictionary of filters on attribute values.\n",
      " |      :return: A PageElement.\n",
      " |      :rtype: bs4.element.Tag | bs4.element.NavigableString\n",
      " |  \n",
      " |  findAll = find_all(self, name=None, attrs={}, recursive=True, text=None, limit=None, **kwargs)\n",
      " |  \n",
      " |  findChild = find(self, name=None, attrs={}, recursive=True, text=None, **kwargs)\n",
      " |  \n",
      " |  findChildren = find_all(self, name=None, attrs={}, recursive=True, text=None, limit=None, **kwargs)\n",
      " |  \n",
      " |  find_all(self, name=None, attrs={}, recursive=True, text=None, limit=None, **kwargs)\n",
      " |      Look in the children of this PageElement and find all\n",
      " |      PageElements that match the given criteria.\n",
      " |      \n",
      " |      All find_* methods take a common set of arguments. See the online\n",
      " |      documentation for detailed explanations.\n",
      " |      \n",
      " |      :param name: A filter on tag name.\n",
      " |      :param attrs: A dictionary of filters on attribute values.\n",
      " |      :param recursive: If this is True, find_all() will perform a\n",
      " |          recursive search of this PageElement's children. Otherwise,\n",
      " |          only the direct children will be considered.\n",
      " |      :param limit: Stop looking after finding this many results.\n",
      " |      :kwargs: A dictionary of filters on attribute values.\n",
      " |      :return: A ResultSet of PageElements.\n",
      " |      :rtype: bs4.element.ResultSet\n",
      " |  \n",
      " |  get(self, key, default=None)\n",
      " |      Returns the value of the 'key' attribute for the tag, or\n",
      " |      the value given for 'default' if it doesn't have that\n",
      " |      attribute.\n",
      " |  \n",
      " |  getText = get_text(self, separator='', strip=False, types=(<class 'bs4.element.NavigableString'>, <class 'bs4.element.CData'>))\n",
      " |  \n",
      " |  get_attribute_list(self, key, default=None)\n",
      " |      The same as get(), but always returns a list.\n",
      " |      \n",
      " |      :param key: The attribute to look for.\n",
      " |      :param default: Use this value if the attribute is not present\n",
      " |          on this PageElement.\n",
      " |      :return: A list of values, probably containing only a single\n",
      " |          value.\n",
      " |  \n",
      " |  get_text(self, separator='', strip=False, types=(<class 'bs4.element.NavigableString'>, <class 'bs4.element.CData'>))\n",
      " |      Get all child strings, concatenated using the given separator.\n",
      " |      \n",
      " |      :param separator: Strings will be concatenated using this separator.\n",
      " |      \n",
      " |      :param strip: If True, strings will be stripped before being\n",
      " |          concatenated.\n",
      " |      \n",
      " |      :types: A tuple of NavigableString subclasses. Any strings of\n",
      " |          a subclass not found in this list will be ignored. By\n",
      " |          default, this means only NavigableString and CData objects\n",
      " |          will be considered. So no comments, processing instructions,\n",
      " |          stylesheets, etc.\n",
      " |      \n",
      " |      :return: A string.\n",
      " |  \n",
      " |  has_attr(self, key)\n",
      " |      Does this PageElement have an attribute with the given name?\n",
      " |  \n",
      " |  has_key(self, key)\n",
      " |      Deprecated method. This was kind of misleading because has_key()\n",
      " |      (attributes) was different from __in__ (contents).\n",
      " |      \n",
      " |      has_key() is gone in Python 3, anyway.\n",
      " |  \n",
      " |  index(self, element)\n",
      " |      Find the index of a child by identity, not value.\n",
      " |      \n",
      " |      Avoids issues with tag.contents.index(element) getting the\n",
      " |      index of equal elements.\n",
      " |      \n",
      " |      :param element: Look for this PageElement in `self.contents`.\n",
      " |  \n",
      " |  prettify(self, encoding=None, formatter='minimal')\n",
      " |      Pretty-print this PageElement as a string.\n",
      " |      \n",
      " |      :param encoding: The eventual encoding of the string. If this is None,\n",
      " |          a Unicode string will be returned.\n",
      " |      :param formatter: A Formatter object, or a string naming one of\n",
      " |          the standard formatters.\n",
      " |      :return: A Unicode string (if encoding==None) or a bytestring \n",
      " |          (otherwise).\n",
      " |  \n",
      " |  recursiveChildGenerator(self)\n",
      " |      Deprecated generator.\n",
      " |  \n",
      " |  renderContents(self, encoding='utf-8', prettyPrint=False, indentLevel=0)\n",
      " |      Deprecated method for BS3 compatibility.\n",
      " |  \n",
      " |  select(self, selector, namespaces=None, limit=None, **kwargs)\n",
      " |      Perform a CSS selection operation on the current element.\n",
      " |      \n",
      " |      This uses the SoupSieve library.\n",
      " |      \n",
      " |      :param selector: A string containing a CSS selector.\n",
      " |      \n",
      " |      :param namespaces: A dictionary mapping namespace prefixes\n",
      " |         used in the CSS selector to namespace URIs. By default,\n",
      " |         Beautiful Soup will use the prefixes it encountered while\n",
      " |         parsing the document.\n",
      " |      \n",
      " |      :param limit: After finding this number of results, stop looking.\n",
      " |      \n",
      " |      :param kwargs: Keyword arguments to be passed into SoupSieve's \n",
      " |         soupsieve.select() method.\n",
      " |      \n",
      " |      :return: A ResultSet of Tags.\n",
      " |      :rtype: bs4.element.ResultSet\n",
      " |  \n",
      " |  select_one(self, selector, namespaces=None, **kwargs)\n",
      " |      Perform a CSS selection operation on the current element.\n",
      " |      \n",
      " |      :param selector: A CSS selector.\n",
      " |      \n",
      " |      :param namespaces: A dictionary mapping namespace prefixes\n",
      " |         used in the CSS selector to namespace URIs. By default,\n",
      " |         Beautiful Soup will use the prefixes it encountered while\n",
      " |         parsing the document.\n",
      " |      \n",
      " |      :param kwargs: Keyword arguments to be passed into SoupSieve's \n",
      " |         soupsieve.select() method.\n",
      " |      \n",
      " |      :return: A Tag.\n",
      " |      :rtype: bs4.element.Tag\n",
      " |  \n",
      " |  smooth(self)\n",
      " |      Smooth out this element's children by consolidating consecutive\n",
      " |      strings.\n",
      " |      \n",
      " |      This makes pretty-printed output look more natural following a\n",
      " |      lot of operations that modified the tree.\n",
      " |  \n",
      " |  ----------------------------------------------------------------------\n",
      " |  Readonly properties defined here:\n",
      " |  \n",
      " |  children\n",
      " |      Iterate over all direct children of this PageElement.\n",
      " |      \n",
      " |      :yield: A sequence of PageElements.\n",
      " |  \n",
      " |  descendants\n",
      " |      Iterate over all children of this PageElement in a\n",
      " |      breadth-first sequence.\n",
      " |      \n",
      " |      :yield: A sequence of PageElements.\n",
      " |  \n",
      " |  isSelfClosing\n",
      " |      Is this tag an empty-element tag? (aka a self-closing tag)\n",
      " |      \n",
      " |      A tag that has contents is never an empty-element tag.\n",
      " |      \n",
      " |      A tag that has no contents may or may not be an empty-element\n",
      " |      tag. It depends on the builder used to create the tag. If the\n",
      " |      builder has a designated list of empty-element tags, then only\n",
      " |      a tag whose name shows up in that list is considered an\n",
      " |      empty-element tag.\n",
      " |      \n",
      " |      If the builder has no designated list of empty-element tags,\n",
      " |      then any tag with no contents is an empty-element tag.\n",
      " |  \n",
      " |  is_empty_element\n",
      " |      Is this tag an empty-element tag? (aka a self-closing tag)\n",
      " |      \n",
      " |      A tag that has contents is never an empty-element tag.\n",
      " |      \n",
      " |      A tag that has no contents may or may not be an empty-element\n",
      " |      tag. It depends on the builder used to create the tag. If the\n",
      " |      builder has a designated list of empty-element tags, then only\n",
      " |      a tag whose name shows up in that list is considered an\n",
      " |      empty-element tag.\n",
      " |      \n",
      " |      If the builder has no designated list of empty-element tags,\n",
      " |      then any tag with no contents is an empty-element tag.\n",
      " |  \n",
      " |  strings\n",
      " |      Yield all strings of certain classes, possibly stripping them.\n",
      " |      \n",
      " |      :param strip: If True, all strings will be stripped before being\n",
      " |          yielded.\n",
      " |      \n",
      " |      :types: A tuple of NavigableString subclasses. Any strings of\n",
      " |          a subclass not found in this list will be ignored. By\n",
      " |          default, this means only NavigableString and CData objects\n",
      " |          will be considered. So no comments, processing instructions,\n",
      " |          etc.\n",
      " |      \n",
      " |      :yield: A sequence of strings.\n",
      " |  \n",
      " |  stripped_strings\n",
      " |      Yield all strings in the document, stripping them first.\n",
      " |      \n",
      " |      :yield: A sequence of stripped strings.\n",
      " |  \n",
      " |  text\n",
      " |      Get all child strings, concatenated using the given separator.\n",
      " |      \n",
      " |      :param separator: Strings will be concatenated using this separator.\n",
      " |      \n",
      " |      :param strip: If True, strings will be stripped before being\n",
      " |          concatenated.\n",
      " |      \n",
      " |      :types: A tuple of NavigableString subclasses. Any strings of\n",
      " |          a subclass not found in this list will be ignored. By\n",
      " |          default, this means only NavigableString and CData objects\n",
      " |          will be considered. So no comments, processing instructions,\n",
      " |          stylesheets, etc.\n",
      " |      \n",
      " |      :return: A string.\n",
      " |  \n",
      " |  ----------------------------------------------------------------------\n",
      " |  Data descriptors defined here:\n",
      " |  \n",
      " |  parserClass\n",
      " |  \n",
      " |  string\n",
      " |      Convenience property to get the single string within this\n",
      " |      PageElement.\n",
      " |      \n",
      " |      TODO It might make sense to have NavigableString.string return\n",
      " |      itself.\n",
      " |      \n",
      " |      :return: If this element has a single string child, return\n",
      " |       value is that string. If this element has one child tag,\n",
      " |       return value is the 'string' attribute of the child tag,\n",
      " |       recursively. If this element is itself a string, has no\n",
      " |       children, or has more than one child, return value is None.\n",
      " |  \n",
      " |  ----------------------------------------------------------------------\n",
      " |  Methods inherited from PageElement:\n",
      " |  \n",
      " |  append(self, tag)\n",
      " |      Appends the given PageElement to the contents of this one.\n",
      " |      \n",
      " |      :param tag: A PageElement.\n",
      " |  \n",
      " |  extend(self, tags)\n",
      " |      Appends the given PageElements to this one's contents.\n",
      " |      \n",
      " |      :param tags: A list of PageElements.\n",
      " |  \n",
      " |  extract(self, _self_index=None)\n",
      " |      Destructively rips this element out of the tree.\n",
      " |      \n",
      " |      :param _self_index: The location of this element in its parent's\n",
      " |         .contents, if known. Passing this in allows for a performance\n",
      " |         optimization.\n",
      " |      \n",
      " |      :return: `self`, no longer part of the tree.\n",
      " |  \n",
      " |  fetchNextSiblings = find_next_siblings(self, name=None, attrs={}, text=None, limit=None, **kwargs)\n",
      " |  \n",
      " |  fetchParents = find_parents(self, name=None, attrs={}, limit=None, **kwargs)\n",
      " |  \n",
      " |  fetchPrevious = find_all_previous(self, name=None, attrs={}, text=None, limit=None, **kwargs)\n",
      " |  \n",
      " |  fetchPreviousSiblings = find_previous_siblings(self, name=None, attrs={}, text=None, limit=None, **kwargs)\n",
      " |  \n",
      " |  findAllNext = find_all_next(self, name=None, attrs={}, text=None, limit=None, **kwargs)\n",
      " |  \n",
      " |  findAllPrevious = find_all_previous(self, name=None, attrs={}, text=None, limit=None, **kwargs)\n",
      " |  \n",
      " |  findNext = find_next(self, name=None, attrs={}, text=None, **kwargs)\n",
      " |  \n",
      " |  findNextSibling = find_next_sibling(self, name=None, attrs={}, text=None, **kwargs)\n",
      " |  \n",
      " |  findNextSiblings = find_next_siblings(self, name=None, attrs={}, text=None, limit=None, **kwargs)\n",
      " |  \n",
      " |  findParent = find_parent(self, name=None, attrs={}, **kwargs)\n",
      " |  \n",
      " |  findParents = find_parents(self, name=None, attrs={}, limit=None, **kwargs)\n",
      " |  \n",
      " |  findPrevious = find_previous(self, name=None, attrs={}, text=None, **kwargs)\n",
      " |  \n",
      " |  findPreviousSibling = find_previous_sibling(self, name=None, attrs={}, text=None, **kwargs)\n",
      " |  \n",
      " |  findPreviousSiblings = find_previous_siblings(self, name=None, attrs={}, text=None, limit=None, **kwargs)\n",
      " |  \n",
      " |  find_all_next(self, name=None, attrs={}, text=None, limit=None, **kwargs)\n",
      " |      Find all PageElements that match the given criteria and appear\n",
      " |      later in the document than this PageElement.\n",
      " |      \n",
      " |      All find_* methods take a common set of arguments. See the online\n",
      " |      documentation for detailed explanations.\n",
      " |      \n",
      " |      :param name: A filter on tag name.\n",
      " |      :param attrs: A dictionary of filters on attribute values.\n",
      " |      :param text: A filter for a NavigableString with specific text.\n",
      " |      :param limit: Stop looking after finding this many results.\n",
      " |      :kwargs: A dictionary of filters on attribute values.\n",
      " |      :return: A ResultSet containing PageElements.\n",
      " |  \n",
      " |  find_all_previous(self, name=None, attrs={}, text=None, limit=None, **kwargs)\n",
      " |      Look backwards in the document from this PageElement and find all\n",
      " |      PageElements that match the given criteria.\n",
      " |      \n",
      " |      All find_* methods take a common set of arguments. See the online\n",
      " |      documentation for detailed explanations.\n",
      " |      \n",
      " |      :param name: A filter on tag name.\n",
      " |      :param attrs: A dictionary of filters on attribute values.\n",
      " |      :param text: A filter for a NavigableString with specific text.\n",
      " |      :param limit: Stop looking after finding this many results.\n",
      " |      :kwargs: A dictionary of filters on attribute values.\n",
      " |      :return: A ResultSet of PageElements.\n",
      " |      :rtype: bs4.element.ResultSet\n",
      " |  \n",
      " |  find_next(self, name=None, attrs={}, text=None, **kwargs)\n",
      " |      Find the first PageElement that matches the given criteria and\n",
      " |      appears later in the document than this PageElement.\n",
      " |      \n",
      " |      All find_* methods take a common set of arguments. See the online\n",
      " |      documentation for detailed explanations.\n",
      " |      \n",
      " |      :param name: A filter on tag name.\n",
      " |      :param attrs: A dictionary of filters on attribute values.\n",
      " |      :param text: A filter for a NavigableString with specific text.\n",
      " |      :kwargs: A dictionary of filters on attribute values.\n",
      " |      :return: A PageElement.\n",
      " |      :rtype: bs4.element.Tag | bs4.element.NavigableString\n",
      " |  \n",
      " |  find_next_sibling(self, name=None, attrs={}, text=None, **kwargs)\n",
      " |      Find the closest sibling to this PageElement that matches the\n",
      " |      given criteria and appears later in the document.\n",
      " |      \n",
      " |      All find_* methods take a common set of arguments. See the\n",
      " |      online documentation for detailed explanations.\n",
      " |      \n",
      " |      :param name: A filter on tag name.\n",
      " |      :param attrs: A dictionary of filters on attribute values.\n",
      " |      :param text: A filter for a NavigableString with specific text.\n",
      " |      :kwargs: A dictionary of filters on attribute values.\n",
      " |      :return: A PageElement.\n",
      " |      :rtype: bs4.element.Tag | bs4.element.NavigableString\n",
      " |  \n",
      " |  find_next_siblings(self, name=None, attrs={}, text=None, limit=None, **kwargs)\n",
      " |      Find all siblings of this PageElement that match the given criteria\n",
      " |      and appear later in the document.\n",
      " |      \n",
      " |      All find_* methods take a common set of arguments. See the online\n",
      " |      documentation for detailed explanations.\n",
      " |      \n",
      " |      :param name: A filter on tag name.\n",
      " |      :param attrs: A dictionary of filters on attribute values.\n",
      " |      :param text: A filter for a NavigableString with specific text.\n",
      " |      :param limit: Stop looking after finding this many results.\n",
      " |      :kwargs: A dictionary of filters on attribute values.\n",
      " |      :return: A ResultSet of PageElements.\n",
      " |      :rtype: bs4.element.ResultSet\n",
      " |  \n",
      " |  find_parent(self, name=None, attrs={}, **kwargs)\n",
      " |      Find the closest parent of this PageElement that matches the given\n",
      " |      criteria.\n",
      " |      \n",
      " |      All find_* methods take a common set of arguments. See the online\n",
      " |      documentation for detailed explanations.\n",
      " |      \n",
      " |      :param name: A filter on tag name.\n",
      " |      :param attrs: A dictionary of filters on attribute values.\n",
      " |      :kwargs: A dictionary of filters on attribute values.\n",
      " |      \n",
      " |      :return: A PageElement.\n",
      " |      :rtype: bs4.element.Tag | bs4.element.NavigableString\n",
      " |  \n",
      " |  find_parents(self, name=None, attrs={}, limit=None, **kwargs)\n",
      " |      Find all parents of this PageElement that match the given criteria.\n",
      " |      \n",
      " |      All find_* methods take a common set of arguments. See the online\n",
      " |      documentation for detailed explanations.\n",
      " |      \n",
      " |      :param name: A filter on tag name.\n",
      " |      :param attrs: A dictionary of filters on attribute values.\n",
      " |      :param limit: Stop looking after finding this many results.\n",
      " |      :kwargs: A dictionary of filters on attribute values.\n",
      " |      \n",
      " |      :return: A PageElement.\n",
      " |      :rtype: bs4.element.Tag | bs4.element.NavigableString\n",
      " |  \n",
      " |  find_previous(self, name=None, attrs={}, text=None, **kwargs)\n",
      " |      Look backwards in the document from this PageElement and find the\n",
      " |      first PageElement that matches the given criteria.\n",
      " |      \n",
      " |      All find_* methods take a common set of arguments. See the online\n",
      " |      documentation for detailed explanations.\n",
      " |      \n",
      " |      :param name: A filter on tag name.\n",
      " |      :param attrs: A dictionary of filters on attribute values.\n",
      " |      :param text: A filter for a NavigableString with specific text.\n",
      " |      :kwargs: A dictionary of filters on attribute values.\n",
      " |      :return: A PageElement.\n",
      " |      :rtype: bs4.element.Tag | bs4.element.NavigableString\n",
      " |  \n",
      " |  find_previous_sibling(self, name=None, attrs={}, text=None, **kwargs)\n",
      " |      Returns the closest sibling to this PageElement that matches the\n",
      " |      given criteria and appears earlier in the document.\n",
      " |      \n",
      " |      All find_* methods take a common set of arguments. See the online\n",
      " |      documentation for detailed explanations.\n",
      " |      \n",
      " |      :param name: A filter on tag name.\n",
      " |      :param attrs: A dictionary of filters on attribute values.\n",
      " |      :param text: A filter for a NavigableString with specific text.\n",
      " |      :kwargs: A dictionary of filters on attribute values.\n",
      " |      :return: A PageElement.\n",
      " |      :rtype: bs4.element.Tag | bs4.element.NavigableString\n",
      " |  \n",
      " |  find_previous_siblings(self, name=None, attrs={}, text=None, limit=None, **kwargs)\n",
      " |      Returns all siblings to this PageElement that match the\n",
      " |      given criteria and appear earlier in the document.\n",
      " |      \n",
      " |      All find_* methods take a common set of arguments. See the online\n",
      " |      documentation for detailed explanations.\n",
      " |      \n",
      " |      :param name: A filter on tag name.\n",
      " |      :param attrs: A dictionary of filters on attribute values.\n",
      " |      :param text: A filter for a NavigableString with specific text.\n",
      " |      :param limit: Stop looking after finding this many results.\n",
      " |      :kwargs: A dictionary of filters on attribute values.\n",
      " |      :return: A ResultSet of PageElements.\n",
      " |      :rtype: bs4.element.ResultSet\n",
      " |  \n",
      " |  format_string(self, s, formatter)\n",
      " |      Format the given string using the given formatter.\n",
      " |      \n",
      " |      :param s: A string.\n",
      " |      :param formatter: A Formatter object, or a string naming one of the standard formatters.\n",
      " |  \n",
      " |  formatter_for_name(self, formatter)\n",
      " |      Look up or create a Formatter for the given identifier,\n",
      " |      if necessary.\n",
      " |      \n",
      " |      :param formatter: Can be a Formatter object (used as-is), a\n",
      " |          function (used as the entity substitution hook for an\n",
      " |          XMLFormatter or HTMLFormatter), or a string (used to look\n",
      " |          up an XMLFormatter or HTMLFormatter in the appropriate\n",
      " |          registry.\n",
      " |  \n",
      " |  insert(self, position, new_child)\n",
      " |      Insert a new PageElement in the list of this PageElement's children.\n",
      " |      \n",
      " |      This works the same way as `list.insert`.\n",
      " |      \n",
      " |      :param position: The numeric position that should be occupied\n",
      " |         in `self.children` by the new PageElement. \n",
      " |      :param new_child: A PageElement.\n",
      " |  \n",
      " |  insert_after(self, *args)\n",
      " |      Makes the given element(s) the immediate successor of this one.\n",
      " |      \n",
      " |      The elements will have the same parent, and the given elements\n",
      " |      will be immediately after this one.\n",
      " |      \n",
      " |      :param args: One or more PageElements.\n",
      " |  \n",
      " |  insert_before(self, *args)\n",
      " |      Makes the given element(s) the immediate predecessor of this one.\n",
      " |      \n",
      " |      All the elements will have the same parent, and the given elements\n",
      " |      will be immediately before this one.\n",
      " |      \n",
      " |      :param args: One or more PageElements.\n",
      " |  \n",
      " |  nextGenerator(self)\n",
      " |      # Old non-property versions of the generators, for backwards\n",
      " |      # compatibility with BS3.\n",
      " |  \n",
      " |  nextSiblingGenerator(self)\n",
      " |  \n",
      " |  parentGenerator(self)\n",
      " |  \n",
      " |  previousGenerator(self)\n",
      " |  \n",
      " |  previousSiblingGenerator(self)\n",
      " |  \n",
      " |  replaceWith = replace_with(self, replace_with)\n",
      " |  \n",
      " |  replaceWithChildren = unwrap(self)\n",
      " |  \n",
      " |  replace_with(self, replace_with)\n",
      " |      Replace this PageElement with another one, keeping the rest of the\n",
      " |      tree the same.\n",
      " |      \n",
      " |      :param replace_with: A PageElement.\n",
      " |      :return: `self`, no longer part of the tree.\n",
      " |  \n",
      " |  replace_with_children = unwrap(self)\n",
      " |  \n",
      " |  setup(self, parent=None, previous_element=None, next_element=None, previous_sibling=None, next_sibling=None)\n",
      " |      Sets up the initial relations between this element and\n",
      " |      other elements.\n",
      " |      \n",
      " |      :param parent: The parent of this element.\n",
      " |      \n",
      " |      :param previous_element: The element parsed immediately before\n",
      " |          this one.\n",
      " |      \n",
      " |      :param next_element: The element parsed immediately before\n",
      " |          this one.\n",
      " |      \n",
      " |      :param previous_sibling: The most recently encountered element\n",
      " |          on the same level of the parse tree as this one.\n",
      " |      \n",
      " |      :param previous_sibling: The next element to be encountered\n",
      " |          on the same level of the parse tree as this one.\n",
      " |  \n",
      " |  unwrap(self)\n",
      " |      Replace this PageElement with its contents.\n",
      " |      \n",
      " |      :return: `self`, no longer part of the tree.\n",
      " |  \n",
      " |  wrap(self, wrap_inside)\n",
      " |      Wrap this PageElement inside another one.\n",
      " |      \n",
      " |      :param wrap_inside: A PageElement.\n",
      " |      :return: `wrap_inside`, occupying the position in the tree that used\n",
      " |         to be occupied by `self`, and with `self` inside it.\n",
      " |  \n",
      " |  ----------------------------------------------------------------------\n",
      " |  Readonly properties inherited from PageElement:\n",
      " |  \n",
      " |  decomposed\n",
      " |      Check whether a PageElement has been decomposed.\n",
      " |      \n",
      " |      :rtype: bool\n",
      " |  \n",
      " |  next\n",
      " |      The PageElement, if any, that was parsed just after this one.\n",
      " |      \n",
      " |      :return: A PageElement.\n",
      " |      :rtype: bs4.element.Tag | bs4.element.NavigableString\n",
      " |  \n",
      " |  next_elements\n",
      " |      All PageElements that were parsed after this one.\n",
      " |      \n",
      " |      :yield: A sequence of PageElements.\n",
      " |  \n",
      " |  next_siblings\n",
      " |      All PageElements that are siblings of this one but were parsed\n",
      " |      later.\n",
      " |      \n",
      " |      :yield: A sequence of PageElements.\n",
      " |  \n",
      " |  parents\n",
      " |      All PageElements that are parents of this PageElement.\n",
      " |      \n",
      " |      :yield: A sequence of PageElements.\n",
      " |  \n",
      " |  previous\n",
      " |      The PageElement, if any, that was parsed just before this one.\n",
      " |      \n",
      " |      :return: A PageElement.\n",
      " |      :rtype: bs4.element.Tag | bs4.element.NavigableString\n",
      " |  \n",
      " |  previous_elements\n",
      " |      All PageElements that were parsed before this one.\n",
      " |      \n",
      " |      :yield: A sequence of PageElements.\n",
      " |  \n",
      " |  previous_siblings\n",
      " |      All PageElements that are siblings of this one but were parsed\n",
      " |      earlier.\n",
      " |      \n",
      " |      :yield: A sequence of PageElements.\n",
      " |  \n",
      " |  ----------------------------------------------------------------------\n",
      " |  Data descriptors inherited from PageElement:\n",
      " |  \n",
      " |  __dict__\n",
      " |      dictionary for instance variables (if defined)\n",
      " |  \n",
      " |  __weakref__\n",
      " |      list of weak references to the object (if defined)\n",
      " |  \n",
      " |  nextSibling\n",
      " |  \n",
      " |  previousSibling\n",
      "\n"
     ]
    }
   ],
   "source": [
    "help(news_list[0])"
   ]
  },
  {
   "cell_type": "code",
   "execution_count": 58,
   "metadata": {},
   "outputs": [
    {
     "data": {
      "text/plain": [
       "'Studi’O Days 2021 – digitale Studienorientierungswoche der staatlichen brandenburgischen Hochschulen'"
      ]
     },
     "execution_count": 58,
     "metadata": {},
     "output_type": "execute_result"
    }
   ],
   "source": [
    "news_list[0].findChild(\"a\")['title']"
   ]
  },
  {
   "cell_type": "code",
   "execution_count": 59,
   "metadata": {},
   "outputs": [],
   "source": [
    "link_list = []\n",
    "title_list = []\n",
    "\n",
    "for link_num in range(len(news_list)):\n",
    "    \n",
    "    sub_link = news_list[link_num].findChild(\"a\")['href']\n",
    "    sub_title = news_list[link_num].findChild(\"a\")['title']\n",
    "    \n",
    "    if type(sub_link) is str and 'www' not in sub_link:\n",
    "        \n",
    "        link_list.append('https://www.uni-potsdam.de' + sub_link)\n",
    "        title_list.append(sub_title)"
   ]
  },
  {
   "cell_type": "code",
   "execution_count": 60,
   "metadata": {},
   "outputs": [
    {
     "data": {
      "text/plain": [
       "['https://www.uni-potsdam.de/de/nachrichten/detail/2021-04-15-studio-days-2021-digitale-studienorientierungswoche-der-staatlichen-brandenburgischen',\n",
       " 'https://www.uni-potsdam.de/de/nachrichten/detail/2021-04-15-hoppla-jetzt-kommt-koppla-die-revolution-fuers-handwerk',\n",
       " 'https://www.uni-potsdam.de/de/nachrichten/detail/2021-04-13-science-fiction-experimentelle-kooperation-von-germanistik-und-food4future',\n",
       " 'https://www.uni-potsdam.de/de/nachrichten/detail/2021-04-13-wir-waren-exotisch-der-linguist-gisbert-fanselow-und-der-psychologe-reinhold-klie',\n",
       " 'https://www.uni-potsdam.de/de/nachrichten/detail/2021-04-12-eine-bruecke-in-den-arbeitsmarkt-warum-betriebswirtin-kristina-nistor-noch-einmal-zur-uni-g',\n",
       " 'https://www.uni-potsdam.de/de/nachrichten/detail/2021-04-08-die-klima-uhr-tickt-der-wirtschaftswissenschaftler-matthias-kalkuhl-erforscht-wie-die-k',\n",
       " 'https://www.uni-potsdam.de/de/nachrichten/detail/2021-04-06-viele-schluessel-zum-erfolg-wie-sich-das-zessko-vom-sprachen-zum-kompetenzzentrum-entwi',\n",
       " 'https://www.uni-potsdam.de/de/nachrichten/detail/2021-03-30-im-interview-sven-dinklage-im-einsatz-als-liaison-officer-fuer-die-up-in-brasilien',\n",
       " 'https://www.uni-potsdam.de/de/nachrichten/detail/2021-03-29-studier-was-vernuenftiges-scivisto-gruenderin-franziska-schwarz-ueber-einen',\n",
       " 'https://www.uni-potsdam.de/de/nachrichten/detail/2021-03-25-ich-wuerde-meine-verteidigung-auch-lieber-live-durchfuehren-luise-krompholz-macht']"
      ]
     },
     "execution_count": 60,
     "metadata": {},
     "output_type": "execute_result"
    }
   ],
   "source": [
    "link_list"
   ]
  },
  {
   "cell_type": "code",
   "execution_count": 61,
   "metadata": {},
   "outputs": [
    {
     "data": {
      "text/plain": [
       "['Studi’O Days 2021 – digitale Studienorientierungswoche der staatlichen brandenburgischen Hochschulen',\n",
       " 'Hoppla! Jetzt kommt Koppla! – Die Revolution fürs Handwerk',\n",
       " 'Science / Fiction – Experimentelle Kooperation von Germanistik und food4future',\n",
       " '„Wir waren exotisch!“ – Der Linguist Gisbert Fanselow und der Psychologe Reinhold Kliegl im Gespräch über löchrige Dächer, schwierige Anfänge und die richtigen Forschungsfragen',\n",
       " 'Eine Brücke in den Arbeitsmarkt: Warum Betriebswirtin Kristina Nistor noch einmal zur Uni ging',\n",
       " 'Die Klima-Uhr tickt – Der Wirtschaftswissenschaftler Matthias Kalkuhl erforscht, wie die Klimawende gelingen kann',\n",
       " 'Viele Schlüssel zum Erfolg – Wie sich das Zessko vom Sprachen- zum Kompetenzzentrum entwickelte',\n",
       " 'Im Interview: Sven Dinklage – Im Einsatz als Liaison-Officer für die UP in Brasilien',\n",
       " '„Studier was Vernünftiges!“ – „SciVisTo“-Gründerin Franziska Schwarz über einen ungewöhnlichen Weg in die Selbstständigkeit',\n",
       " '„Ich würde meine Verteidigung auch lieber live durchführen“ – Luise Krompholz macht ihren Abschluss an der Uni fern der Uni']"
      ]
     },
     "execution_count": 61,
     "metadata": {},
     "output_type": "execute_result"
    }
   ],
   "source": [
    "title_list"
   ]
  },
  {
   "cell_type": "code",
   "execution_count": 62,
   "metadata": {},
   "outputs": [],
   "source": [
    "lot = list(zip(title_list, link_list))\n",
    "news_dict = dict(lot)"
   ]
  },
  {
   "cell_type": "code",
   "execution_count": 64,
   "metadata": {},
   "outputs": [
    {
     "data": {
      "text/plain": [
       "{'Studi’O Days 2021 – digitale Studienorientierungswoche der staatlichen brandenburgischen Hochschulen': 'https://www.uni-potsdam.de/de/nachrichten/detail/2021-04-15-studio-days-2021-digitale-studienorientierungswoche-der-staatlichen-brandenburgischen',\n",
       " 'Hoppla! Jetzt kommt Koppla! – Die Revolution fürs Handwerk': 'https://www.uni-potsdam.de/de/nachrichten/detail/2021-04-15-hoppla-jetzt-kommt-koppla-die-revolution-fuers-handwerk',\n",
       " 'Science / Fiction – Experimentelle Kooperation von Germanistik und food4future': 'https://www.uni-potsdam.de/de/nachrichten/detail/2021-04-13-science-fiction-experimentelle-kooperation-von-germanistik-und-food4future',\n",
       " '„Wir waren exotisch!“ – Der Linguist Gisbert Fanselow und der Psychologe Reinhold Kliegl im Gespräch über löchrige Dächer, schwierige Anfänge und die richtigen Forschungsfragen': 'https://www.uni-potsdam.de/de/nachrichten/detail/2021-04-13-wir-waren-exotisch-der-linguist-gisbert-fanselow-und-der-psychologe-reinhold-klie',\n",
       " 'Eine Brücke in den Arbeitsmarkt: Warum Betriebswirtin Kristina Nistor noch einmal zur Uni ging': 'https://www.uni-potsdam.de/de/nachrichten/detail/2021-04-12-eine-bruecke-in-den-arbeitsmarkt-warum-betriebswirtin-kristina-nistor-noch-einmal-zur-uni-g',\n",
       " 'Die Klima-Uhr tickt – Der Wirtschaftswissenschaftler Matthias Kalkuhl erforscht, wie die Klimawende gelingen kann': 'https://www.uni-potsdam.de/de/nachrichten/detail/2021-04-08-die-klima-uhr-tickt-der-wirtschaftswissenschaftler-matthias-kalkuhl-erforscht-wie-die-k',\n",
       " 'Viele Schlüssel zum Erfolg – Wie sich das Zessko vom Sprachen- zum Kompetenzzentrum entwickelte': 'https://www.uni-potsdam.de/de/nachrichten/detail/2021-04-06-viele-schluessel-zum-erfolg-wie-sich-das-zessko-vom-sprachen-zum-kompetenzzentrum-entwi',\n",
       " 'Im Interview: Sven Dinklage – Im Einsatz als Liaison-Officer für die UP in Brasilien': 'https://www.uni-potsdam.de/de/nachrichten/detail/2021-03-30-im-interview-sven-dinklage-im-einsatz-als-liaison-officer-fuer-die-up-in-brasilien',\n",
       " '„Studier was Vernünftiges!“ – „SciVisTo“-Gründerin Franziska Schwarz über einen ungewöhnlichen Weg in die Selbstständigkeit': 'https://www.uni-potsdam.de/de/nachrichten/detail/2021-03-29-studier-was-vernuenftiges-scivisto-gruenderin-franziska-schwarz-ueber-einen',\n",
       " '„Ich würde meine Verteidigung auch lieber live durchführen“ – Luise Krompholz macht ihren Abschluss an der Uni fern der Uni': 'https://www.uni-potsdam.de/de/nachrichten/detail/2021-03-25-ich-wuerde-meine-verteidigung-auch-lieber-live-durchfuehren-luise-krompholz-macht'}"
      ]
     },
     "execution_count": 64,
     "metadata": {},
     "output_type": "execute_result"
    }
   ],
   "source": [
    "news_dict"
   ]
  },
  {
   "cell_type": "markdown",
   "metadata": {},
   "source": [
    "## Pagination\n",
    "You have probably realised that the articles presented on the first news page are not the entire collection of the University of Potsdam. Your goal is to retrieve a complete collection of all articles that are available on the university's website and you can easily apply your new knowledge in a repetive manner."
   ]
  },
  {
   "cell_type": "markdown",
   "metadata": {},
   "source": [
    "16. Figure out how many pages containing articles content there are in total. You can do it manually by e.g. inspecting the URL when you proceed through the collection in your browser or by checking it programmatically by writing a `while` loop that continues until some condition, such as a status returned from your request, is violated. Make sure to include a short pause (1 second) in order not to overcharge the server that in some cases could lead to a temporary ban of your device."
   ]
  },
  {
   "cell_type": "code",
   "execution_count": 68,
   "metadata": {},
   "outputs": [
    {
     "name": "stdout",
     "output_type": "stream",
     "text": [
      "Scraping page 0.\n",
      "Scraping page 1.\n",
      "Scraping page 2.\n",
      "Scraping page 3.\n",
      "Scraping page 4.\n",
      "Scraping page 5.\n",
      "Scraping page 6.\n",
      "Scraping page 7.\n",
      "Scraping page 8.\n",
      "Scraping page 9.\n",
      "Scraping page 10.\n",
      "Scraping page 11.\n",
      "Scraping page 12.\n",
      "Scraping page 13.\n",
      "Scraping page 14.\n",
      "Scraping page 15.\n",
      "Scraping page 16.\n",
      "Scraping page 17.\n",
      "Scraping page 18.\n",
      "Scraping page 19.\n",
      "Scraping page 20.\n",
      "Scraping page 21.\n",
      "Scraping page 22.\n",
      "Scraping page 23.\n",
      "Scraping page 24.\n",
      "Scraping page 25.\n",
      "Scraping page 26.\n",
      "Scraping page 27.\n",
      "Scraping page 28.\n",
      "Scraping page 29.\n",
      "Scraping page 30.\n",
      "Scraping page 31.\n",
      "Scraping page 32.\n",
      "Scraping page 33.\n",
      "Scraping page 34.\n",
      "Scraping page 35.\n",
      "Scraping page 36.\n",
      "Scraping page 37.\n",
      "Scraping page 38.\n",
      "Scraping page 39.\n",
      "Scraping page 40.\n",
      "Scraping page 41.\n",
      "Scraping page 42.\n",
      "Scraping page 43.\n",
      "Scraping page 44.\n",
      "Scraping page 45.\n",
      "Scraping page 46.\n",
      "Scraping page 47.\n",
      "Scraping page 48.\n",
      "Scraping page 49.\n",
      "Scraping page 50.\n",
      "Scraping page 51.\n",
      "Scraping page 52.\n",
      "Scraping page 53.\n",
      "Scraping page 54.\n",
      "Scraping page 55.\n",
      "Scraping page 56.\n",
      "Scraping page 57.\n",
      "Scraping page 58.\n",
      "Scraping page 59.\n",
      "Scraping page 60.\n",
      "Scraping page 61.\n",
      "Scraping page 62.\n",
      "Scraping page 63.\n",
      "Scraping page 64.\n",
      "Scraping page 65.\n",
      "Scraping page 66.\n",
      "Scraping page 67.\n",
      "Scraping page 68.\n",
      "Scraping page 69.\n",
      "Scraping page 70.\n",
      "Scraping page 71.\n",
      "Scraping page 72.\n",
      "Scraping page 73.\n",
      "Scraping page 74.\n",
      "Scraping page 75.\n",
      "Scraping page 76.\n",
      "Scraping page 77.\n",
      "Scraping page 78.\n",
      "Scraping page 79.\n",
      "Scraping page 80.\n",
      "Scraping page 81.\n",
      "Scraping page 82.\n",
      "Scraping page 83.\n",
      "Scraping page 84.\n",
      "Scraping page 85.\n",
      "Scraping page 86.\n",
      "Scraping page 87.\n",
      "Scraping page 88.\n",
      "Scraping page 89.\n",
      "Scraping page 90.\n",
      "Scraping page 91.\n",
      "Scraping page 92.\n",
      "Scraping page 93.\n",
      "Scraping page 94.\n",
      "Scraping page 95.\n",
      "Scraping page 96.\n",
      "Scraping page 97.\n",
      "Scraping page 98.\n",
      "Scraping page 99.\n",
      "Scraping page 100.\n"
     ]
    }
   ],
   "source": [
    "# Long code block\n",
    "\n",
    "import time\n",
    "\n",
    "articles_links = []\n",
    "\n",
    "counter = 0\n",
    "\n",
    "test_seed = 'https://www.uni-potsdam.de/de/nachrichten/'\n",
    "test_html = requests.get(seed)\n",
    "status = test_html.status_code\n",
    "\n",
    "while status == 200:\n",
    "    \n",
    "    print('Scraping page ' + str(counter) + '.')\n",
    "    \n",
    "    if counter < 1:\n",
    "        \n",
    "        seed = 'https://www.uni-potsdam.de/de/nachrichten/'\n",
    "        \n",
    "        html = requests.get(seed)\n",
    "        \n",
    "        status = html.status_code\n",
    "        \n",
    "        soup = BeautifulSoup(html.text, \"html.parser\")\n",
    "        \n",
    "        news_list = list(map(lambda x: x, soup.select('.up-news-list-item')))\n",
    "        \n",
    "        link_list = []\n",
    "        title_list = []\n",
    "        \n",
    "        for link_num in range(len(news_list)):\n",
    "    \n",
    "            sub_link = news_list[link_num].findChild(\"a\")['href']\n",
    "            sub_title = news_list[link_num].findChild(\"a\")['title']\n",
    "    \n",
    "            if type(sub_link) is str and 'www' not in sub_link:\n",
    "        \n",
    "                link_list.append('https://www.uni-potsdam.de' + sub_link)\n",
    "                title_list.append(sub_title)\n",
    "        \n",
    "        articles_links.extend(link_list)\n",
    "        \n",
    "    elif counter >= 1:\n",
    "        \n",
    "        seed = 'https://www.uni-potsdam.de/de/nachrichten/page-{}'.format(str(counter+1))\n",
    "        \n",
    "        html = requests.get(seed)\n",
    "        \n",
    "        status = html.status_code\n",
    "        \n",
    "        soup = BeautifulSoup(html.text, \"html.parser\")\n",
    "        \n",
    "        news_list = list(map(lambda x: x, soup.select('.up-news-list-item')))\n",
    "        \n",
    "        link_list = []\n",
    "        title_list = []\n",
    "\n",
    "        for link_num in range(len(news_list)):\n",
    "    \n",
    "            sub_link = news_list[link_num].findChild(\"a\")['href']\n",
    "            sub_title = news_list[link_num].findChild(\"a\")['title']\n",
    "    \n",
    "            if type(sub_link) is str and 'www' not in sub_link:\n",
    "        \n",
    "                link_list.append('https://www.uni-potsdam.de' + sub_link)\n",
    "                title_list.append(sub_title)\n",
    "        \n",
    "        articles_links.extend(link_list)\n",
    "        \n",
    "    counter += 1\n",
    "    \n",
    "    time.sleep(1)"
   ]
  },
  {
   "cell_type": "code",
   "execution_count": 69,
   "metadata": {},
   "outputs": [
    {
     "data": {
      "text/plain": [
       "'https://www.uni-potsdam.de/de/nachrichten/detail/2021-04-15-studio-days-2021-digitale-studienorientierungswoche-der-staatlichen-brandenburgischen'"
      ]
     },
     "execution_count": 69,
     "metadata": {},
     "output_type": "execute_result"
    }
   ],
   "source": [
    "articles_links[0]"
   ]
  },
  {
   "cell_type": "code",
   "execution_count": 70,
   "metadata": {},
   "outputs": [],
   "source": [
    "with open('articles_links.txt', 'w') as output:\n",
    "    \n",
    "    output.writelines(\"%s\\n\" % line for line in articles_links)"
   ]
  },
  {
   "cell_type": "markdown",
   "metadata": {},
   "source": [
    "17. Read in the JSON file you stored in step 17 and iterate over each hyperlink. Split the list into 4 evenly sized chunks and iterate over each chunk. In each iteration, obtain the HTML, parse it and identify the elements of the publication date, the contact, the contact's email address, the image's hyperlink/reference and the main text body's length. Note that some, or even all, of these elements may not be available. Define an appropriate data type for each field and append it **as a dictionary** in each iteration to a list."
   ]
  },
  {
   "cell_type": "code",
   "execution_count": 4,
   "metadata": {},
   "outputs": [
    {
     "name": "stdout",
     "output_type": "stream",
     "text": [
      "['https://www.uni-potsdam.de/de/nachrichten/detail/2021-04-15-studio-days-2021-digitale-studienorientierungswoche-der-staatlichen-brandenburgischen', 'https://www.uni-potsdam.de/de/nachrichten/detail/2021-04-15-hoppla-jetzt-kommt-koppla-die-revolution-fuers-handwerk', 'https://www.uni-potsdam.de/de/nachrichten/detail/2021-04-13-science-fiction-experimentelle-kooperation-von-germanistik-und-food4future', 'https://www.uni-potsdam.de/de/nachrichten/detail/2021-04-13-wir-waren-exotisch-der-linguist-gisbert-fanselow-und-der-psychologe-reinhold-klie', 'https://www.uni-potsdam.de/de/nachrichten/detail/2021-04-12-eine-bruecke-in-den-arbeitsmarkt-warum-betriebswirtin-kristina-nistor-noch-einmal-zur-uni-g', 'https://www.uni-potsdam.de/de/nachrichten/detail/2021-04-08-die-klima-uhr-tickt-der-wirtschaftswissenschaftler-matthias-kalkuhl-erforscht-wie-die-k', 'https://www.uni-potsdam.de/de/nachrichten/detail/2021-04-06-viele-schluessel-zum-erfolg-wie-sich-das-zessko-vom-sprachen-zum-kompetenzzentrum-entwi', 'https://www.uni-potsdam.de/de/nachrichten/detail/2021-03-30-im-interview-sven-dinklage-im-einsatz-als-liaison-officer-fuer-die-up-in-brasilien', 'https://www.uni-potsdam.de/de/nachrichten/detail/2021-03-29-studier-was-vernuenftiges-scivisto-gruenderin-franziska-schwarz-ueber-einen', 'https://www.uni-potsdam.de/de/nachrichten/detail/2021-03-25-ich-wuerde-meine-verteidigung-auch-lieber-live-durchfuehren-luise-krompholz-macht', 'https://www.uni-potsdam.de/de/nachrichten/detail/2021-03-25-33-fragen-an-die-psychologin-prof-dr-barbara-krah%C3%A9', 'https://www.uni-potsdam.de/de/nachrichten/detail/2021-03-23-portal-2303-der-physiker-dr-ralf-toenjes-antwortet-auf-die-frage-inwiefern-beeinfluss', 'https://www.uni-potsdam.de/de/nachrichten/detail/2021-03-22-wieder-an-bord-weltklasse-kanute-ronald-verch-sieht-beim-hochschulsport-seine-berufliche', 'https://www.uni-potsdam.de/de/nachrichten/detail/2021-03-19-dinge-an-die-ich-mich-gewoehnen-koennte-aber-nicht-moechte-marcellina-massenbach', 'https://www.uni-potsdam.de/de/nachrichten/detail/2021-03-19-auf-der-suche-nach-einem-gemeinsamen-nenner-forschungsnetzwerk-va-cure-untersuch', 'https://www.uni-potsdam.de/de/nachrichten/detail/2021-03-18-finanzminister-olaf-scholz-zu-besuch-im-potsdam-science-park', 'https://www.uni-potsdam.de/de/nachrichten/detail/2021-03-18-leitbild-wird-lehre-dritte-auflage-der-foerderung-innovativer-lehrprojekte-an-der-univer', 'https://www.uni-potsdam.de/de/nachrichten/detail/2021-03-18-proteinkristalle-in-einem-anderen-licht-serielle-proteinkristallographie-an-xfels-und-sy', 'https://www.uni-potsdam.de/de/nachrichten/detail/2021-03-17-tim-dietrich-zum-max-planck-fellow-berufen-zusammenarbeit-zwischen-dem-max-planck-instit', 'https://www.uni-potsdam.de/de/nachrichten/detail/2021-03-16-unseren-fragenbogen-beantwortet-heute-barbara-hoehle', 'https://www.uni-potsdam.de/de/nachrichten/detail/2021-03-15-potenzial-fuer-krise-und-innovation-historikerin-marcia-schenck-nutzt-die-moeglich', 'https://www.uni-potsdam.de/de/nachrichten/detail/2021-03-15-die-vermittlerin-claudia-spies-hat-sich-an-der-universitaet-potsdam-zur-mediatorin-ausbi', 'https://www.uni-potsdam.de/de/nachrichten/detail/2021-03-12-universitaetsgesellschaft-potsdam-ev-schreibt-better-world-award-up-aus', 'https://www.uni-potsdam.de/de/nachrichten/detail/2021-03-11-was-den-dingen-innewohnt-comic-kunst-und-kulinaristik-als-juniorprofessorin-fuer-kultu', 'https://www.uni-potsdam.de/de/nachrichten/detail/2021-03-10-spitzensport-und-studium-im-digitalen-semester-jacob-schopf-im-interview', 'https://www.uni-potsdam.de/de/nachrichten/detail/2021-03-09-die-universitaet-potsdam-und-der-verband-deutscher-maschinen-und-anlagenbau-starten-ein-gem', 'https://www.uni-potsdam.de/de/nachrichten/detail/2021-03-09-gemeinsam-zum-schutz-der-artenvielfalt-promovieren-im-verbund', 'https://www.uni-potsdam.de/de/nachrichten/detail/2021-03-08-hightech-to-go-vom-forschungslabor-ins-klassenzimmer-warum-chemielehrerin-vivien-meggye', 'https://www.uni-potsdam.de/de/nachrichten/detail/2021-03-05-raum-fuer-andere-lerntypen-antonia-baskakov-ueber-ein-studium-mit-herausforderungen-und', 'https://www.uni-potsdam.de/de/nachrichten/detail/2021-03-05-spitze-auch-ohne-empfang-glueckwuensche-fuer-leistungssportler-der-universitaet-pots', 'https://www.uni-potsdam.de/de/nachrichten/detail/2021-03-04-gibt-es-ein-recht-auf-klimaschutz-der-jurist-christian-bickenbach-untersucht-die-rechtl', 'https://www.uni-potsdam.de/de/nachrichten/detail/2021-03-02-online-oder-praesenz-gute-lehre-ist-immer-zeitaufwendig-sagt-chemieprofessor-bernd', 'https://www.uni-potsdam.de/de/nachrichten/detail/2021-03-02-wir-tun-alle-dasselbe-wenn-auch-auf-unterschiedlichen-wegen-der-israelische-theol', 'https://www.uni-potsdam.de/de/nachrichten/detail/2021-03-01-laut-werden-und-zugleich-ganz-ruhig-ein-vierteljahrhundert-singt-petra-ceglarek-im-u', 'https://www.uni-potsdam.de/de/nachrichten/detail/2021-02-26-auch-im-alter-fit-bleiben-meta-analyse-belegt-den-effekt-von-heimtraining-in-zeiten-der', 'https://www.uni-potsdam.de/de/nachrichten/detail/2021-02-25-vielfalt-verstehen-linda-juang-forscht-zur-entwicklung-von-kindern-mit-migrationshinterg', 'https://www.uni-potsdam.de/de/nachrichten/detail/2021-02-24-missionsorientierung-als-neuer-politikansatz-expertenkommission-forschung-und-inno', 'https://www.uni-potsdam.de/de/nachrichten/detail/2021-02-24-corona-hat-uns-geboostet-von-null-auf-hundert-ins-onlinezeitalter-ein-bildungs', 'https://www.uni-potsdam.de/de/nachrichten/detail/2021-02-23-die-grenzen-des-digitalen-liegen-im-zwischenmenschlichen-ein-digitaler-arbeitstag-in-der', 'https://www.uni-potsdam.de/de/nachrichten/detail/2021-02-22-mein-arbeitstag-im-bermudadreieck-zwischen-homeoffice-homeschooling-und-homekita', 'https://www.uni-potsdam.de/de/nachrichten/detail/2021-02-22-krisenfest-krankenhausprokuristin-friederike-roeder-zwischen-pandemie-plan-und-masterpr', 'https://www.uni-potsdam.de/de/nachrichten/detail/2021-02-18-die-chance-endlich-die-technischen-moeglichkeiten-einzusetzen-die-wir-schon-seit-jahrze', 'https://www.uni-potsdam.de/de/nachrichten/detail/2021-02-18-zehn-fragen-fuer-ein-buch-lehre-und-lernen-entwickeln-eine-frage-der-gestaltung-v', 'https://www.uni-potsdam.de/de/nachrichten/detail/2021-02-18-planeten-als-profession-und-passion-prof-dr-katja-poppenhaeger-fand-ihre-nische-in-der', 'https://www.uni-potsdam.de/de/nachrichten/detail/2021-02-16-kleine-brille-grosse-wirkung-warum-ar-brillen-das-zentrum-industrie-40-einen-gro', 'https://www.uni-potsdam.de/de/nachrichten/detail/2021-02-15-pt-1502-gesundheit-geht-durch-den-magen-auf-dem-weg-zum-internet-der-kuehe-d', 'https://www.uni-potsdam.de/de/nachrichten/detail/2021-02-12-ich-freue-mich-wenn-in-zukunft-mehr-balance-moeglich-sein-wird-was-die-universit', 'https://www.uni-potsdam.de/de/nachrichten/detail/2021-02-11-wo-der-hase-laeuft-wie-die-bewegungen-von-tieren-zur-biodiversitaet-in-agrarlandschaften', 'https://www.uni-potsdam.de/de/nachrichten/detail/2021-02-09-faszination-gehoer-und-sprache-outi-tuomainen-erforscht-die-komplexitaet-von-sprachentwi', 'https://www.uni-potsdam.de/de/nachrichten/detail/2021-02-08-er-nimmt-es-sportlich-prof-urs-granacher-zur-digitalen-lehre', 'https://www.uni-potsdam.de/de/nachrichten/detail/2021-02-04-extrem-schnell-wie-kommen-erdnahe-elektronen-auf-beinahe-lichtgeschwindigkeit', 'https://www.uni-potsdam.de/de/nachrichten/detail/2021-02-04-mit-licht-und-nanopartikeln-optized-arbeitet-an-der-medizin-der-zukunft', 'https://www.uni-potsdam.de/de/nachrichten/detail/2021-01-29-hochschulen-setzen-auf-alternative-pruefungsformate-wissenschaftsministerium-und-hochsch', 'https://www.uni-potsdam.de/de/nachrichten/detail/2021-01-29-von-riesen-und-zwergen-potsdamer-hortkinder-testeten-die-digitale-kinderuni-und-machten', 'https://www.uni-potsdam.de/de/nachrichten/detail/2021-01-28-kleinste-atome-untersuchen-um-gewaltige-bergketten-zu-verstehen-peter-van-der-beek-fors', 'https://www.uni-potsdam.de/de/nachrichten/detail/2021-01-28-nur-sicher-ist-sicher-ein-deutschlandweites-forschungsprojekt-untersucht-wie-sicherhe', 'https://www.uni-potsdam.de/de/nachrichten/detail/2021-01-26-welten-schaffen-studierende-entwickeln-im-seminar-virtuelle-geografieexkursionen', 'https://www.uni-potsdam.de/de/nachrichten/detail/2021-01-23-zum-90-geburtstag-von-rolf-mitzner-ich-hatte-30-jahre-lang-zeit-zu-ueberlegen-wie-e', 'https://www.uni-potsdam.de/de/nachrichten/detail/2021-01-21-jetzt-bewerben-design-thinking-an-der-hpi-d-school', 'https://www.uni-potsdam.de/de/nachrichten/detail/2021-01-20-zehn-fragen-fuer-ein-buch-wir-alle-treffen-entscheidungen-im-leben-aber-letztendlich', 'https://www.uni-potsdam.de/de/nachrichten/detail/2021-01-18-european-digital-univercity-viele-stimmen-fuer-eine-allianz', 'https://www.uni-potsdam.de/de/nachrichten/detail/2021-01-14-33-fragen-an-prof-dr-andr%C3%A9-kleinridders', 'https://www.uni-potsdam.de/de/nachrichten/detail/2021-01-12-aus-einer-hand-neues-dezernat-forschungs-und-publikationsunterstuetzung-verbindet', 'https://www.uni-potsdam.de/de/nachrichten/detail/2021-01-12-es-geht-nicht-um-anwaltsdeutsch-was-juristen-von-germanisten-lernen-koennen', 'https://www.uni-potsdam.de/de/nachrichten/detail/2021-01-08-perowskit-kann-was-solarzellenforschung-made-in-potsdam', 'https://www.uni-potsdam.de/de/nachrichten/detail/2021-01-08-nur-mit-vernunft-und-temperament-prof-logi-gunnarsson-philosophiert-ueber-die-philosoph', 'https://www.uni-potsdam.de/de/nachrichten/detail/2021-01-05-die-menschen-sind-grundlegend-verunsichert-der-soziologe-juergen-mackert-ueber-ein', 'https://www.uni-potsdam.de/de/nachrichten/detail/2020-12-22-von-heute-auf-morgen-digital-dennoch-benoetigt-die-uni-bei-der-digitalisierung-der', 'https://www.uni-potsdam.de/de/nachrichten/detail/2020-12-21-die-reha-landschaft-ist-mehr-als-kur-landschaft-gesundheitswissenschaften-und-pat', 'https://www.uni-potsdam.de/de/nachrichten/detail/2020-12-17-klimaschutz-an-der-uni-angelika-von-pressentin-und-jana-meier-managen-die-umsetzung-des', 'https://www.uni-potsdam.de/de/nachrichten/detail/2020-12-17-vom-trotz-und-der-liebe-zur-slavischen-literatur-alexander-woell-hat-seine-leidenschaft', 'https://www.uni-potsdam.de/de/nachrichten/detail/2020-12-15-zweite-potsblitz-befragung-zur-online-lehre-2020-umfrage-des-zentrums-fuer-qualitaetsent', 'https://www.uni-potsdam.de/de/nachrichten/detail/2020-12-15-handlevr-berufsausbildung-mit-simulator-neues-lernprogramm-fuer-angehende-fahrzeugla', 'https://www.uni-potsdam.de/de/nachrichten/detail/2020-12-14-im-gespraech-potsdamer-studentin-beim-buergerdialog-mit-bundeskanzlerin-angela-merkel', 'https://www.uni-potsdam.de/de/nachrichten/detail/2020-12-14-verschwoerungsmythen-und-corona-krise-wie-lehrkraefte-darauf-reagieren-koennen', 'https://www.uni-potsdam.de/de/nachrichten/detail/2020-12-14-der-groesste-baum-der-welt-der-kustos-des-botanischen-gartens-erzaehlt-die-geschichte-de', 'https://www.uni-potsdam.de/de/nachrichten/detail/2020-12-14-jetzt-bewerben-qualifizierung-fuer-lehrkraefte-mit-flucht-und-migrationsgeschichte-an-d', 'https://www.uni-potsdam.de/de/nachrichten/detail/2020-12-10-mathematisch-naturwissenschaftliche-fakultaet-vergibt-preise-fuer-herausragende-lehre-2020', 'https://www.uni-potsdam.de/de/nachrichten/detail/2020-12-10-zehn-fragen-fuer-ein-buch-jewish-gay-and-proud-the-founding-of-beth-chayim-chadashi', 'https://www.uni-potsdam.de/de/nachrichten/detail/2020-12-10-druckfrisch-und-aktuell-wie-studierende-gegenwartsliteratur-aus-einer-praxisorientierten', 'https://www.uni-potsdam.de/de/nachrichten/detail/2020-12-10-hunderter-im-buendel-wie-sich-mit-einer-mathe-app-der-stellenwert-von-zahlen-verstehen-l', 'https://www.uni-potsdam.de/de/nachrichten/detail/2020-12-08-der-ernaehrungswissenschaftler-prof-dr-florian-schweigert-antwortet-auf-die-frage-sollen', 'https://www.uni-potsdam.de/de/nachrichten/detail/2020-12-05-better-world-award-up-universitaetsgesellschaft-potsdam-ev-und-land-brandenburg-lotto', 'https://www.uni-potsdam.de/de/nachrichten/detail/2020-12-04-vernetzung-der-juedischen-studien-in-der-wissenschaftsregion-berlin-brandenburg-mit-der-hebr', 'https://www.uni-potsdam.de/de/nachrichten/detail/2020-12-04-angehende-geschichtslehrer-und-lehrerinnen-in-der-virtual-reality-ein-innovatives-lehrp', 'https://www.uni-potsdam.de/de/nachrichten/detail/2020-12-03-von-der-wurzel-aus-gesehen-humboldt-stipendiat-gautier-nicoli-erforscht-den', 'https://www.uni-potsdam.de/de/nachrichten/detail/2020-12-01-cubelingvr-virtual-reality-im-mathematikunterricht-dr-lena-florian-ueber-vr-anwendun', 'https://www.uni-potsdam.de/de/nachrichten/detail/2020-11-30-exzellenter-nachwuchs-postdoc-preise-2020-gehen-an-die-universitaet-potsdam', 'https://www.uni-potsdam.de/de/nachrichten/detail/2020-11-27-aufstehen-gemeinsam-gegen-rassistische-diskriminierung-an-der-hochschule', 'https://www.uni-potsdam.de/de/nachrichten/detail/2020-11-26-von-schauspielpatienten-und-echten-studierenden-dr-franziska-kuehne-ueber-ihr-innovativ', 'https://www.uni-potsdam.de/de/nachrichten/detail/2020-11-26-mehr-als-eine-luftnummer-physiker-und-mediziner-entwickeln-einen-sensor-zur-atemgasanaly', 'https://www.uni-potsdam.de/de/nachrichten/detail/2020-11-25-prof-miriam-ruerup-zur-neuen-direktorin-des-mendelssohn-zentrums-ernannt', 'https://www.uni-potsdam.de/de/nachrichten/detail/2020-11-25-universitaet-potsdam-zeigt-flagge-zeichen-gegen-gewalt-an-frauen', 'https://www.uni-potsdam.de/de/nachrichten/detail/2020-11-24-app-ins-studium-mit-actionbound-die-brandenburgischen-hochschulen-entdecken', 'https://www.uni-potsdam.de/de/nachrichten/detail/2020-11-24-naturkatastrophenaus-dem-rechner-mit-digitalen-modellen-trainieren-retter-den-einsatz-be', 'https://www.uni-potsdam.de/de/nachrichten/detail/2020-11-20-ausgezeichnet-drei-landeslehrpreise-gehen-an-die-universitaet-potsdam', 'https://www.uni-potsdam.de/de/nachrichten/detail/2020-11-20-sanfte-verhaltenssteuerung-studierende-der-universitaet-potsdam-werden-zu-forschenden', 'https://www.uni-potsdam.de/de/nachrichten/detail/2020-11-19-verbundprojekt-fdnext-foerdert-spezifisches-forschungsdatenmanagement-sechs-universitaet', 'https://www.uni-potsdam.de/de/nachrichten/detail/2020-11-19-eine-schere-fuers-erbgut-lena-hochrein-optimiert-molekulare-methoden', 'https://www.uni-potsdam.de/de/nachrichten/detail/2020-11-17-gemeinsam-gedanken-sortieren-nightline-potsdam-laedt-bei-redebedarf-zum-telefonges', 'https://www.uni-potsdam.de/de/nachrichten/detail/2020-11-17-prof-dr-ulrich-buller-verstorben', 'https://www.uni-potsdam.de/de/nachrichten/detail/2020-11-17-brandenburgs-waelder-im-wandel-europaeisches-forschungsnetzwerkprofitiert-von-regionalen', 'https://www.uni-potsdam.de/de/nachrichten/detail/2020-11-16-neues-aus-forschung-und-lehre-beilage-der-universitaet-potsdam-im-tagesspiegel-und-den-p', 'https://www.uni-potsdam.de/de/nachrichten/detail/2020-11-13-maskenspende-universitaet-potsdam-erhaelt-1000-stoffmasken', 'https://www.uni-potsdam.de/de/nachrichten/detail/2020-11-12-der-kampf-um-neue-technologien-und-um-altes-prestige-ein-gespraech-ueber-buecher', 'https://www.uni-potsdam.de/de/nachrichten/detail/2020-11-12-gemeinsame-sache-wissenschaft-kennt-keine-alters-grenzen', 'https://www.uni-potsdam.de/de/nachrichten/detail/2020-11-10-zwischen-potsdam-und-kfar-saba-wie-collaborative-online-international-learning-hilft-re', 'https://www.uni-potsdam.de/de/nachrichten/detail/2020-11-09-hinter-den-kulissen-wie-das-zim-die-digitale-kinder-universitaet-produziert', 'https://www.uni-potsdam.de/de/nachrichten/detail/2020-11-05-wissenschaft-online-praesentieren-potsdamer-forscherinnen-waren-auf-der-analytica', 'https://www.uni-potsdam.de/de/nachrichten/detail/2020-11-05-wo-sich-kudu-und-springbock-gute-nacht-sagen-potsdamer-forschende-untersuchen-ob-gutes', 'https://www.uni-potsdam.de/de/nachrichten/detail/2020-11-05-potsblitz-zentrum-fuer-qualitaetsentwicklung-in-lehre-und-studium-startet-zweite-umfrage', 'https://www.uni-potsdam.de/de/nachrichten/detail/2020-11-03-neue-events-veranstaltungen-digital-2020-an-der-up', 'https://www.uni-potsdam.de/de/nachrichten/detail/2020-11-02-geowissenschaften-auf-hoechstem-nivau-manfred-strecker-und-eva-eibl-ausgezeichnet', 'https://www.uni-potsdam.de/de/nachrichten/detail/2020-10-29-vom-suchen-und-finden-der-worte-ein-sprachpsychologisches-experiment', 'https://www.uni-potsdam.de/de/nachrichten/detail/2020-10-28-krise-als-weckruf-potsdamer-expertise-im-jahresbericht-2020-des-nationalen-normenk', 'https://www.uni-potsdam.de/de/nachrichten/detail/2020-10-27-kilometersammler-radlerteam-des-hgp-erhaelt-wanderpokal-im-stadtradeln', 'https://www.uni-potsdam.de/de/nachrichten/detail/2020-10-27-im-handumdrehen-digitalisiert-wie-die-universitaet-potsdam-ein-digitalsemester-aus-dem', 'https://www.uni-potsdam.de/de/nachrichten/detail/2020-10-26-gemeinsam-aufstehen-gegen-diskriminierung-ringvorlesung-zu-strategien-gegen-rassismus-un', 'https://www.uni-potsdam.de/de/nachrichten/detail/2020-10-23-ueberraschender-entwicklungsschub-fruehzeitlicher-menschen-durch-umweltveraenderungen-verurs', 'https://www.uni-potsdam.de/de/nachrichten/detail/2020-10-23-wie-kommt-man-dazu-open-access-zu-publizieren-ein-interview-mit-prof-r-metzler-lehr', 'https://www.uni-potsdam.de/de/nachrichten/detail/2020-10-22-politik-und-ethik-gehen-hand-in-hand-fuer-fabian-schuppert-ist-politische-theorie-uebera', 'https://www.uni-potsdam.de/de/nachrichten/detail/2020-10-22-die-grosse-freiheit-warum-man-open-access-publizieren-sollte', 'https://www.uni-potsdam.de/de/nachrichten/detail/2020-10-21-mit-grosser-eigeninitiative-aber-nicht-allein-open-access-zeitschriften-herausgeben', 'https://www.uni-potsdam.de/de/nachrichten/detail/2020-10-20-magnetfeld-auf-dem-mond-ist-ueberbleibsel-eines-uralten-kerndynamos', 'https://www.uni-potsdam.de/de/nachrichten/detail/2020-10-20-in-der-uni-mit-1200-kindern-der-geowissenschaftler-martin-trauth-ueber-seine-online-live', 'https://www.uni-potsdam.de/de/nachrichten/detail/2020-10-20-golden-books-open-access-buecher-im-universitaetsverlag', 'https://www.uni-potsdam.de/de/nachrichten/detail/2020-10-19-endlich-vor-der-pay-wall-postprints-auf-publikationsserver-publishup', 'https://www.uni-potsdam.de/de/nachrichten/detail/2020-10-15-ehrung-der-besten-absolventen-des-jahrgangs-an-der-mathematisch-naturwissenschaftlichen-faku', 'https://www.uni-potsdam.de/de/nachrichten/detail/2020-10-14-alternative-milch-aus-der-erbse-start-up-vlyfoods-setzt-auf-naehrwert-und-umweltsc', 'https://www.uni-potsdam.de/de/nachrichten/detail/2020-10-13-aussen-lockdown-innen-stillstand-ein-probestunde-beim-yoga-sup-kurs-des-hochschulspo', 'https://www.uni-potsdam.de/de/nachrichten/detail/2020-10-12-aus-der-forschung-in-die-praxis-foewitec-unterstuetzt-transferprojekte', 'https://www.uni-potsdam.de/de/nachrichten/detail/2020-10-12-von-alten-hasen-und-versuchskaninchen-die-kinder-uni-ist-2020-digital-und-an-vielen-orte', 'https://www.uni-potsdam.de/de/nachrichten/detail/2020-10-09-schatzsuche-mit-gps-zum-earthcache-day-2020-auf-tour-mit-dem-geoinformatiker-dr-harald', 'https://www.uni-potsdam.de/de/nachrichten/detail/2020-10-08-mit-kuehlem-kopf-durch-die-hitzewelle-wie-staedte-besser-durch-den-klimawandel-kommen', 'https://www.uni-potsdam.de/de/nachrichten/detail/2020-10-06-wir-wuenschen-uns-eine-professionalisierung', 'https://www.uni-potsdam.de/de/nachrichten/detail/2020-10-02-zweite-amtszeit-prof-dr-andreas-borowski-als-direktor-des-zentrums-fuer-lehrerbildung', 'https://www.uni-potsdam.de/de/nachrichten/detail/2020-10-02-hautvertraeglich-warum-eine-creme-nicht-einfach-eine-creme-ist', 'https://www.uni-potsdam.de/de/nachrichten/detail/2020-10-01-die-kamera-laeuft-auch-in-zeiten-der-pandemie-am-filmset-campus-griebnitzsee-der', 'https://www.uni-potsdam.de/de/nachrichten/detail/2020-10-01-ein-heilender-geist-die-psychologin-petra-warschburger-untersucht-was-chronisch-kranken', 'https://www.uni-potsdam.de/de/nachrichten/detail/2020-09-29-potsblitz-wie-lief-das-digitale-semester-eine-blitzumfrage-des-zentrums-fuer-qualitaet', 'https://www.uni-potsdam.de/de/nachrichten/detail/2020-09-25-ausstellung-und-film-zum-leben-und-wirken-w%C5%82adys%C5%82aw-bartoszewskis', 'https://www.uni-potsdam.de/de/nachrichten/detail/2020-09-24-die-medizinische-schatztruhe-der-natur-chemiker-aus-potsdam-erforschen-mit-afrikanischen', 'https://www.uni-potsdam.de/de/nachrichten/detail/2020-09-22-ambitioniert-evaluiert-ba-studentin-ariane-lehmann-wird-im-master-lab-gefoerdert', 'https://www.uni-potsdam.de/de/nachrichten/detail/2020-09-22-jetzt-geht-es-los-bewegt-studieren', 'https://www.uni-potsdam.de/de/nachrichten/detail/2020-09-22-toene-sehen-bilder-hoeren-visualisierte-musik-in-einer-konzertausstellung-fuer-ludwig-v', 'https://www.uni-potsdam.de/de/nachrichten/detail/2020-09-21-prof-reinhold-kliegl-fuer-wissenschaftliches-lebenswerk-geehrt-potsdamer-psychologe-erh', 'https://www.uni-potsdam.de/de/nachrichten/detail/2020-09-17-verstehen-und-entscheiden-harding-zentrum-fuer-risikokompetenz-forscht-jetzt-in-potsdam', 'https://www.uni-potsdam.de/de/nachrichten/detail/2020-09-16-wissenschaft-ist-gesellschaftlich-bedeutsam-voltaire-preis-traeger-2020-dr-g%C3%A1bor', 'https://www.uni-potsdam.de/de/nachrichten/detail/2020-09-15-mit-tandem-buddy-am-virtuellen-lagerfeuer-fremdsprachenlernen-in-social-virtual-reality', 'https://www.uni-potsdam.de/de/nachrichten/detail/2020-09-14-space-mining-rohstoffe-aus-dem-kosmos', 'https://www.uni-potsdam.de/de/nachrichten/detail/2020-09-11-bewegt-studieren-studieren-bewegt-20-auftakt-in-potsdam', 'https://www.uni-potsdam.de/de/nachrichten/detail/2020-09-11-gigantischer-teilchenbeschleuniger-am-himmel-neue-studie-zeigt-elektronen-werden-in-den', 'https://www.uni-potsdam.de/de/nachrichten/detail/2020-09-10-10-ordinationsfeier-des-abraham-geiger-kollegs', 'https://www.uni-potsdam.de/de/nachrichten/detail/2020-09-10-wissenstransfer-im-bahnhof-velten-uni-potsdam-und-th-brandenburg-betreiben-neue-praesenz', 'https://www.uni-potsdam.de/de/nachrichten/detail/2020-09-10-good-news-wie-data-science-dabei-hilft-die-corona-pandemie-besser-zu-verstehen', 'https://www.uni-potsdam.de/de/nachrichten/detail/2020-09-09-neutronensonden-im-park-sanssouci-potsdamer-umweltwissenschaftler-messen-bodenfeuchte-im', 'https://www.uni-potsdam.de/de/nachrichten/detail/2020-09-08-solidarisch-durch-die-krise-studierende-unterstuetzen-schuelerinnen-schueler-und-lehrkr', 'https://www.uni-potsdam.de/de/nachrichten/detail/2020-09-07-sanssouci-avec-shakespeare-erhaelt-integrationspreis-2020', 'https://www.uni-potsdam.de/de/nachrichten/detail/2020-09-07-spielend-lernen-lehramtsstudent-johannes-mueller-in-der-sommerschule-im-hort-am-schul', 'https://www.uni-potsdam.de/de/nachrichten/detail/2020-09-04-potsdamer-ernaehrungsforscher-prof-tilman-grune-erhaelt-grossen-preis-der-deutschen-gesells', 'https://www.uni-potsdam.de/de/nachrichten/detail/2020-09-03-wir-koennen-etwas-beitragen-zum-besseren-verstaendnis-unserer-zeit-der-historiker', 'https://www.uni-potsdam.de/de/nachrichten/detail/2020-09-01-abbrueche-der-kreidefelsen-auf-ruegen-seismisch-belauscht-trockene-sommer-erhoehen-langf', 'https://www.uni-potsdam.de/de/nachrichten/detail/2020-09-01-unermuedlicher-einsatz-fuer-toleranz-bundesverdienstkreuz-fuer-julius-schoeps', 'https://www.uni-potsdam.de/de/nachrichten/detail/2020-08-31-auf-dem-weg-zu-100-prozent-universitaet-potsdam-baut-mit-dfg-foerderung-den-anteil-der-o', 'https://www.uni-potsdam.de/de/nachrichten/detail/2020-08-28-eine-frage-der-mode-studierende-gruenden-eigenes-label-s%C3%A6x', 'https://www.uni-potsdam.de/de/nachrichten/detail/2020-08-27-im-kampf-gegen-krankheitserreger-der-chemiker-matthias-hartlieb-entwickelt-stoffe-die-e', 'https://www.uni-potsdam.de/de/nachrichten/detail/2020-08-25-mit-abstand-praesent-mba-kurse-an-der-universitaet-potsdam-wieder-in-praesenz', 'https://www.uni-potsdam.de/de/nachrichten/detail/2020-08-21-schleimpilze-sind-seine-welt-zu-besuch-im-labor-bei-prof-dr-ralph-graef', 'https://www.uni-potsdam.de/de/nachrichten/detail/2020-08-20-nicht-jedem-tut-sport-automatisch-gut-ein-psychologe-und-ein-mediziner-ueber-gewoh', 'https://www.uni-potsdam.de/de/nachrichten/detail/2020-08-19-berliner-hochschul-start-ups-schaffen-62600-arbeitsplaetze-und-erwirtschaften-einen-umsatz', 'https://www.uni-potsdam.de/de/nachrichten/detail/2020-08-19-virtuelle-spurensuche-ein-audioguide-zur-kolonialgeschichte-potsdams', 'https://www.uni-potsdam.de/de/nachrichten/detail/2020-08-14-kreuz-und-quer-mit-sachverstand-potsdamer-bildungsforscher-untersuchen-kompetenzen-von-q', 'https://www.uni-potsdam.de/de/nachrichten/detail/2020-08-11-der-bon-ohne-zettel-studentisches-start-up-neobon-gewinnt-start-up-preis', 'https://www.uni-potsdam.de/de/nachrichten/detail/2020-08-10-gemeinsam-fuer-die-wissenschaft-kodex-der-dfg-soll-gute-wissenschaftliche-praxis-sichern', 'https://www.uni-potsdam.de/de/nachrichten/detail/2020-08-06-nicht-alternativlos-bioplastik-aus-abfall-ersetzt-herkoemmliche-kunststoffe', 'https://www.uni-potsdam.de/de/nachrichten/detail/2020-08-04-time-to-say-goodbye-mosaic-scholle-hat-ihr-lebensende-erreicht-und-die-polarstern', 'https://www.uni-potsdam.de/de/nachrichten/detail/2020-08-04-uni-wort-von-wortungetuemen-und-strangulierten-verben', 'https://www.uni-potsdam.de/de/nachrichten/detail/2020-07-30-neue-wege-fuer-solarenergie-von-der-suche-nach-den-besten-materialien-fuer', 'https://www.uni-potsdam.de/de/nachrichten/detail/2020-07-28-portal-endlich-zu-hause-warum-das-hpi-auch-2020-seinen-20-feiern-kann', 'https://www.uni-potsdam.de/de/nachrichten/detail/2020-07-24-mein-studium-funktioniert-auch-im-online-semester-sehr-gut-studieren-in-zeiten-von', 'https://www.uni-potsdam.de/de/nachrichten/detail/2020-07-23-der-blick-von-oben-der-geoforscher-bodo-bookhagen-setzt-drohnen-in-der-geologischen-fern', 'https://www.uni-potsdam.de/de/nachrichten/detail/2020-07-22-universitaet-erhaelt-erneut-das-praedikat-total-equality-erstmals-mit-dem-zusatz-dive', 'https://www.uni-potsdam.de/de/nachrichten/detail/2020-07-22-der-literaturwissenschaftler-johannes-ungelenk-antwortet-auf-die-frage-wie-ist-das-wetter-b', 'https://www.uni-potsdam.de/de/nachrichten/detail/2020-07-16-wie-lief-die-online-lehre-ergebnisse-der-potsblitz-umfrage-liegen-vor', 'https://www.uni-potsdam.de/de/nachrichten/detail/2020-07-16-rhythmus-im-kopf-wie-sich-das-gehirn-mit-sprache-und-musik-synchronisiert', 'https://www.uni-potsdam.de/de/nachrichten/detail/2020-07-15-weder-altmodisch-noch-ueberholt-starke-botanik-an-der-universitaet', 'https://www.uni-potsdam.de/de/nachrichten/detail/2020-07-14-staub-eis-und-gestein-potsdamer-astrophysiker-haben-den-kometen-neowise-im-blick', 'https://www.uni-potsdam.de/de/nachrichten/detail/2020-07-14-transformation-neuer-blog-an-der-universitaet-potsdam', 'https://www.uni-potsdam.de/de/nachrichten/detail/2020-07-13-robuste-hochleistungs-datenspeicher-durch-magnetische-anisotropie', 'https://www.uni-potsdam.de/de/nachrichten/detail/2020-07-10-ministerin-schuele-nimmt-online-pruefungen-in-den-blick', 'https://www.uni-potsdam.de/de/nachrichten/detail/2020-07-09-prickelt-und-schmeckt-start-up-noa-drinks-entwickelt-einen-gin-ohne-alkohol', 'https://www.uni-potsdam.de/de/nachrichten/detail/2020-07-07-von-alten-sorten-und-jungem-gemuese-studierende-gaertnern-am-uni-campus-golm', 'https://www.uni-potsdam.de/de/nachrichten/detail/2020-07-02-erinnerungshilfe-gefuehl-der-emotions-und-biopsychologe-mathias-weymar-erkundet-die-wir', 'https://www.uni-potsdam.de/de/nachrichten/detail/2020-06-30-diskriminierung-beenden-elisabeth-kaneza-forscht-zu-strukturellem-rassismus-und-zur-rech', 'https://www.uni-potsdam.de/de/nachrichten/detail/2020-06-30-ehrenamt-aus-leidenschaft-maimouna-ouattara-setzt-sich-fuer-die-belange-von-auslaendisch', 'https://www.uni-potsdam.de/de/nachrichten/detail/2020-06-25-allen-widrigkeiten-zum-trotz-mba-abschluss-in-pandemiezeiten', 'https://www.uni-potsdam.de/de/nachrichten/detail/2020-06-25-aus-der-ferne-ganz-nah-die-kognitionswissenschaftlerin-melinda-mende-ueber-leben-und-for', 'https://www.uni-potsdam.de/de/nachrichten/detail/2020-06-25-pw-2506-tote-sprache-wichtige-sprache-dfg-projekt-untersucht-die-bedeutung-von-al', 'https://www.uni-potsdam.de/de/nachrichten/detail/2020-06-24-bunt-mit-grund-miriam-schwarzenthal-untersucht-interkulturelle-kompetenz-und-kritisches', 'https://www.uni-potsdam.de/de/nachrichten/detail/2020-06-23-portal-2306-hilft-vitamin-c-gegen-krebs-der-potsdamer-uni-professor-burkhard-kleus', 'https://www.uni-potsdam.de/de/nachrichten/detail/2020-06-22-uni-beilage-erschienen', 'https://www.uni-potsdam.de/de/nachrichten/detail/2020-06-18-vom-rand-zur-mitte-david-chemeta-erforscht-das-selbstverstaendnis-einer-generation-mit-a', 'https://www.uni-potsdam.de/de/nachrichten/detail/2020-06-16-klischee-oder-chance-die-psychologin-andrea-hasl-erforscht-den-amerikanischen-traum', 'https://www.uni-potsdam.de/de/nachrichten/detail/2020-06-15-studie-zur-berufsorientierung-brandenburgs-jugend-sieht-zukunft-in-brandenburg', 'https://www.uni-potsdam.de/de/nachrichten/detail/2020-06-12-wie-innovativ-kann-e-learning-sein-innovationsexperte-lars-groeger-wollte-und-musste', 'https://www.uni-potsdam.de/de/nachrichten/detail/2020-06-11-erste-studie-zum-umgang-von-familienunternehmen-mit-der-corona-krise-veroeffentlicht', 'https://www.uni-potsdam.de/de/nachrichten/detail/2020-06-11-zwischen-gesetz-und-praxis-wie-gleichbehandlung-in-der-bundeswehr-und-anderen-maenner', 'https://www.uni-potsdam.de/de/nachrichten/detail/2020-06-10-supportyourlocals-uniclever-unterstuetzt-unternehmen', 'https://www.uni-potsdam.de/de/nachrichten/detail/2020-06-09-lernen-mit-gutem-gefuehl-die-bildungswissenschaftlerin-rebecca-lazarides-will-roboter-zu', 'https://www.uni-potsdam.de/de/nachrichten/detail/2020-06-08-ausgerechnet-warum-sich-mitten-in-afrika-eine-ganze-region-dreht', 'https://www.uni-potsdam.de/de/nachrichten/detail/2020-06-08-die-betreuung-der-internationalen-studierenden-an-der-uni-potsdam-ist-exzellent-co', 'https://www.uni-potsdam.de/de/nachrichten/detail/2020-06-04-potsblitz-zur-online-lehre-2020-umfrage-des-zentrums-fuer-qualitaetsentwicklung-in-lehre', 'https://www.uni-potsdam.de/de/nachrichten/detail/2020-06-04-ins-ewige-eis-ricarda-winkelmann-ist-klimaforscherin-und-juniorprofessorin-an-der-univer', 'https://www.uni-potsdam.de/de/nachrichten/detail/2020-06-02-am-ende-des-tages-sieht-man-was-man-geschafft-hat-kirsten-beyer-und-kiron-wahl-si', 'https://www.uni-potsdam.de/de/nachrichten/detail/2020-05-28-energie-warum-einer-der-populaersten-begriffe-unserer-zeit-so-schwer-zu-fassen-ist', 'https://www.uni-potsdam.de/de/nachrichten/detail/2020-05-26-global-mit-blick-auf-afrika-migrationsbewegungen-stehen-im-mittelpunkt-der-forschung-von', 'https://www.uni-potsdam.de/de/nachrichten/detail/2020-05-22-erster-digitaler-wissenschaftlicher-salon-ug-startet-neues-veranstaltungsformat', 'https://www.uni-potsdam.de/de/nachrichten/detail/2020-05-21-so-jemanden-wollen-wir-hier-nicht-erste-studie-zu-hate-speech-an-deutschen-schulen', 'https://www.uni-potsdam.de/de/nachrichten/detail/2020-05-20-online-ueber-nacht-wie-das-zim-das-digitale-semester-moeglich-macht', 'https://www.uni-potsdam.de/de/nachrichten/detail/2020-05-20-untergangsstimmung-oder-boom-time-was-die-corona-krise-fuer-start-ups-bedeutet', 'https://www.uni-potsdam.de/de/nachrichten/detail/2020-05-19-es-war-einmal-75-jahre-potsdamer-konferenz', 'https://www.uni-potsdam.de/de/nachrichten/detail/2020-05-15-neue-rollen-dank-online-lehre-vom-professor-zum-videodarsteller-von-der-studiengangskoo', 'https://www.uni-potsdam.de/de/nachrichten/detail/2020-05-14-neutronen-zaehlen-fuer-die-umweltforschung-wie-forschende-mithilfe-von-teilchen-aus-dem', 'https://www.uni-potsdam.de/de/nachrichten/detail/2020-05-12-die-medizinische-schatztruhe-der-natur-potsdamer-chemiker-erforschen-mit-afrikanischen-k', 'https://www.uni-potsdam.de/de/nachrichten/detail/2020-05-07-aufsatteln-mit-dem-campusrad-von-golm-nach-griebnitzsee', 'https://www.uni-potsdam.de/de/nachrichten/detail/2020-05-07-feuer-und-eis-warum-eva-eibl-mitten-im-winter-in-island-forscht', 'https://www.uni-potsdam.de/de/nachrichten/detail/2020-05-07-laut-fuer-laut-zum-wort-lola-macht-sprachenlernen-sichtbar', 'https://www.uni-potsdam.de/de/nachrichten/detail/2020-05-06-jetzt-bewerben-mentoring-plus-fuer-studentinnen-startet-im-september', 'https://www.uni-potsdam.de/de/nachrichten/detail/2020-05-06-universitaetsgesellschaft-potsdam-ev-schreibt-better-world-award-up-aus', 'https://www.uni-potsdam.de/de/nachrichten/detail/2020-05-05-zukunft-aus-biomasse-wie-potsdamer-chemiker-aus-zellulose-plastik-herstellen', 'https://www.uni-potsdam.de/de/nachrichten/detail/2020-05-02-zwischen-homeschooling-und-homeoffice-die-soziologin-und-dezentrale-gleichstellungsbeauf', 'https://www.uni-potsdam.de/de/nachrichten/detail/2020-04-30-energie-geht-alle-an-der-umweltwissenschaftler-johann-lilliestam-ist-zuversichtlic', 'https://www.uni-potsdam.de/de/nachrichten/detail/2020-04-28-engagiert-fuer-ein-potsdamer-modell-der-lehrerbildung-der-bildungswissenschaftler-prof', 'https://www.uni-potsdam.de/de/nachrichten/detail/2020-04-28-war-alexander-von-humboldt-biooekonom-der-romanist-ottmar-ette-ueber-das-transdisziplin', 'https://www.uni-potsdam.de/de/nachrichten/detail/2020-04-24-innehalten-und-hinterfragen-schule-und-demokratie-in-der-coronakrise', 'https://www.uni-potsdam.de/de/nachrichten/detail/2020-04-24-eine-rezession-ist-unvermeidlich-wirtschaftsforscher-marco-caliendo-ueber-den-arbe', 'https://www.uni-potsdam.de/de/nachrichten/detail/2020-04-24-im-stillen-kaemmerlein-von-der-schwierigkeit-mitten-in-der-coronakrise-eine-doktorarbei', 'https://www.uni-potsdam.de/de/nachrichten/detail/2020-04-23-der-gespraechsbedarf-ist-hoch-wie-das-welcome-center-in-der-corona-krise-fuer-fors', 'https://www.uni-potsdam.de/de/nachrichten/detail/2020-04-23-schnappschuesse-aus-dem-nanokosmos-wie-markus-guehr-mit-lichtblitzen-die-dynamik-von-mol', 'https://www.uni-potsdam.de/de/nachrichten/detail/2020-04-22-was-kommt-uni-kanzler-karsten-gerlof-ueber-die-derzeitige-corona-phase-und-langsame-sch', 'https://www.uni-potsdam.de/de/nachrichten/detail/2020-04-21-nicht-sprachlos-wie-das-zessko-ins-sommersemester-startet', 'https://www.uni-potsdam.de/de/nachrichten/detail/2020-04-21-erdoel-war-gestern-was-kommt-morgen-potsdamer-forschende-entwickeln-regionale-zukunfts', 'https://www.uni-potsdam.de/de/nachrichten/detail/2020-04-17-auf-einmal-digital-warum-deutschland-seine-verwaltung-jetzt-neu-erfindet', 'https://www.uni-potsdam.de/de/nachrichten/detail/2020-04-16-das-beste-aus-der-situation-machen-wie-die-corona-pandemie-die-wissenschaft-durche', 'https://www.uni-potsdam.de/de/nachrichten/detail/2020-04-16-pflanzen-im-alarmzustand-wie-gene-und-molekuele-pflanzen-bei-hitze-schuetzen', 'https://www.uni-potsdam.de/de/nachrichten/detail/2020-04-15-erst-online-dann-kontaktarm-potsdamer-hochschulsport-in-corona-zeiten', 'https://www.uni-potsdam.de/de/nachrichten/detail/2020-04-14-emissionen-deutlich-reduzieren-die-universitaet-hat-ein-klimaschutzkonzept-aufgestellt', 'https://www.uni-potsdam.de/de/nachrichten/detail/2020-04-10-zugang-zu-verschlossenen-schatzkammern-wie-die-universitaetsbibliothek-ihre-nutzer-trotz', 'https://www.uni-potsdam.de/de/nachrichten/detail/2020-04-09-sport-in-corona-zeiten-der-trainingswissenschaftler-urs-granacher-ueber-die-richtige-bew', 'https://www.uni-potsdam.de/de/nachrichten/detail/2020-04-09-strafe-gesetz-die-forschungsstelle-russisches-recht-sorgt-fuer-regen-austausch-zwische', 'https://www.uni-potsdam.de/de/nachrichten/detail/2020-04-08-jubilaeumsfest-wird-nachgeholt-70-jahre-botanischer-garten-in-potsdam', 'https://www.uni-potsdam.de/de/nachrichten/detail/2020-04-07-essen-fuer-die-zukunft-warum-algen-und-salzpflanzen-mehr-und-mehr-unseren-speiseplan-bes', 'https://www.uni-potsdam.de/de/nachrichten/detail/2020-04-06-digitalisierung-im-schnellverfahren-online-lehre-in-zeiten-von-corona', 'https://www.uni-potsdam.de/de/nachrichten/detail/2020-04-06-vom-studieninteressierten-bis-zum-alumni-digitale-beratungsformate-in-der-coronakrise', 'https://www.uni-potsdam.de/de/nachrichten/detail/2020-04-05-recht-im-ausnahmezustand-wie-sich-die-corona-krise-auf-die-menschenrechte-auswirkt', 'https://www.uni-potsdam.de/de/nachrichten/detail/2020-04-05-so-fing-ich-vor-mehr-als-15-jahren-mit-einem-lehrbuch-an-wie-aus-forschung-ein-gut', 'https://www.uni-potsdam.de/de/nachrichten/detail/2020-04-03-ohne-haette-wenn-und-aber-was-zu-tun-ist-und-was-sich-kuenftig-aendern-muss-um-p', 'https://www.uni-potsdam.de/de/nachrichten/detail/2020-04-03-mich-begeistert-die-offenheit-mit-der-digitale-medien-ausprobiert-werden-informat', 'https://www.uni-potsdam.de/de/nachrichten/detail/2020-04-02-ordnung-im-chaos-eine-mathematikerin-bringt-daten-und-modelle-mit-verbesserten-methoden', 'https://www.uni-potsdam.de/de/nachrichten/detail/2020-04-01-es-geht-darum-den-demokratischen-rechtsstaat-in-und-nach-der-krise-zu-bewahren-de', 'https://www.uni-potsdam.de/de/nachrichten/detail/2020-03-31-spenden-fuer-die-kulturelle-vielfalt-sechs-informatik-studenten-unterstuetzen-kultureinr', 'https://www.uni-potsdam.de/de/nachrichten/detail/2020-03-31-demokratie-verteidigt-man-mit-demokratie-der-rechtsextremismus-forscher-gideon-bot', 'https://www.uni-potsdam.de/de/nachrichten/detail/2020-03-30-masken-naehen-gegen-den-virus-studierende-der-universitaet-potsdam-entwickeln-plattform', 'https://www.uni-potsdam.de/de/nachrichten/detail/2020-03-30-es-ist-das-unerklaerliche-das-die-angst-erzeugt-wie-eltern-ihren-kindern-helfen-k', 'https://www.uni-potsdam.de/de/nachrichten/detail/2020-03-30-ein-test-der-wandlungsfaehigkeit-wirtschaftsinformatiker-norbert-gronau-ueber-die-digita', 'https://www.uni-potsdam.de/de/nachrichten/detail/2020-03-30-wir-machen-aktuell-nur-randstaendig-gebrauch-von-digitalen-medien-prof-dr-dirk-r', 'https://www.uni-potsdam.de/de/nachrichten/detail/2020-03-27-wir-sollten-die-schwaechsten-in-der-gesellschaft-am-besten-schuetzen-wie-die-coron', 'https://www.uni-potsdam.de/de/nachrichten/detail/2020-03-27-auf-die-ungewohnten-umstaende-besonnen-reagieren-uni-praesident-prof-oliver-guent', 'https://www.uni-potsdam.de/de/nachrichten/detail/2020-03-27-frei-raum-gedanken-paedagogik-und-architektur-im-dialog-fuer-eine-universitaetsschul', 'https://www.uni-potsdam.de/de/nachrichten/detail/2020-03-27-gemeinsam-nicht-einsam-studierende-der-universitaet-potsdam-entwickeln-die-app-weso', 'https://www.uni-potsdam.de/de/nachrichten/detail/2020-03-26-wege-aus-der-krise-prof-dr-maik-heinemann-ueber-die-wirtschaftlichen-folgen-der-corona', 'https://www.uni-potsdam.de/de/nachrichten/detail/2020-03-26-europa-digital-wie-es-sich-in-zeiten-der-digitalisierung-regiert', 'https://www.uni-potsdam.de/de/nachrichten/detail/2020-03-25-ideen-fuer-die-gesundheitswirtschaft-von-morgen-gewinner-des-idea-hubb-wettbewerbs', 'https://www.uni-potsdam.de/de/nachrichten/detail/2020-03-25-tieroekologen-im-home-office-was-tun-wenn-forschende-nicht-experimentieren-koennen', 'https://www.uni-potsdam.de/de/nachrichten/detail/2020-03-24-jedes-virus-entwickelt-eigene-ueberlebensstrategien-die-biochemikerin-prof-katja', 'https://www.uni-potsdam.de/de/nachrichten/detail/2020-03-24-alles-bio-aber-oekonomisch-und-digital-warum-die-biooekonomie-mit-den-mitteln-der-digi', 'https://www.uni-potsdam.de/de/nachrichten/detail/2020-03-23-die-menschen-sind-aufgefordert-sich-gegenseitig-zu-unterstuetzen-der-sozialwissen', 'https://www.uni-potsdam.de/de/nachrichten/detail/2020-03-21-hochschulen-schalten-auf-praesenznotbetrieb-um-hochschulen-und-ministerium-verabreden-we', 'https://www.uni-potsdam.de/de/nachrichten/detail/2020-03-20-kontrollverlust-und-unvorhersehbarkeit-prof-dr-barbara-krah%C3%A9-ueber-die-psychosozialen', 'https://www.uni-potsdam.de/de/nachrichten/detail/2020-03-19-hautsache-ziele-huerden-und-erfolge-der-weg-zum-unternehmer-steckt-voller-arbeit-und', 'https://www.uni-potsdam.de/de/nachrichten/detail/2020-03-17-lehrerzimmerplausch-zwei-absolventen-tauschen-sich-jeden-freitag-im-eigenen-podcast-uebe', 'https://www.uni-potsdam.de/de/nachrichten/detail/2020-03-13-informationen-fuer-angehoerige-der-universitaet-potsdam-im-zusammenhang-mit-dem-coronavirus', 'https://www.uni-potsdam.de/de/nachrichten/detail/2020-03-12-wissenschaft-zum-selbermachen-im-schuelerlabor-der-chemiedidaktik-werden-lernende-mit-b', 'https://www.uni-potsdam.de/de/nachrichten/detail/2020-03-10-ein-zeichen-setzen-friede-springer-ueber-ihr-engagement-fuer-die-wissenschaft-und', 'https://www.uni-potsdam.de/de/nachrichten/detail/2020-03-06-profi-mit-profil-marvin-dogue-ist-profisportler-und-studiert-bwl-an-der-uni-potsdam', 'https://www.uni-potsdam.de/de/nachrichten/detail/2020-03-06-kritische-freunde-beim-schulbesuch-prof-miriam-vock-in-der-jury-fuer-den-deutsche', 'https://www.uni-potsdam.de/de/nachrichten/detail/2020-03-05-30-brandenburgische-frauenwoche-vom-4-bis-22-maerz-universitaet-potsdam-ist-mit-dabei', 'https://www.uni-potsdam.de/de/nachrichten/detail/2020-03-05-potsdamer-kongresspreise-2019-verliehen', 'https://www.uni-potsdam.de/de/nachrichten/detail/2020-02-20-da-lernten-sich-ziege-und-kaninchen-gut-kennen-warum-die-verhaltensbiologin-madlen-zieg', 'https://www.uni-potsdam.de/de/nachrichten/detail/2020-02-20-wir-alle-sollten-fuer-soziale-gerechtigkeit-streiten-der-sozialwissenschaftler-roland-v', 'https://www.uni-potsdam.de/de/nachrichten/detail/2020-02-20-potsdamer-expertise-fuer-die-bundesregierung-expertenkommission-forschung-und-innovatio', 'https://www.uni-potsdam.de/de/nachrichten/detail/2020-02-20-wollen-wir-dass-eine-kuenstliche-intelligenz-recht-spricht-it-und-medienrechtler-bjoern', 'https://www.uni-potsdam.de/de/nachrichten/detail/2020-02-20-neues-release-judaica-portal-berlin-brandenburg-ueberschreitet-grenzen-der-wissenschaft', 'https://www.uni-potsdam.de/de/nachrichten/detail/2020-02-20-schritt-fuer-schritt-warum-sporttherapie-bei-depressionen-helfen-kann', 'https://www.uni-potsdam.de/de/nachrichten/detail/2020-02-19-schoen-wars-the-new-twenties-impressionen-vom-8-ball-der-universitaet-potsdam', 'https://www.uni-potsdam.de/de/nachrichten/detail/2020-02-13-fuer-die-menschenrechte-starkmachen-die-politikwissenschaftlerin-dr-nina-reiners-erhael', 'https://www.uni-potsdam.de/de/nachrichten/detail/2020-02-13-zehn-fragen-fuer-ein-buch-so-sie-meinen-also-es-gibt-ihn-nicht-der-teufel-in-der-russis', 'https://www.uni-potsdam.de/de/nachrichten/detail/2020-02-13-zum-schutz-aller-menschen-die-juristen-andreas-zimmermann-und-norman-weiss-ueber-das-me', 'https://www.uni-potsdam.de/de/nachrichten/detail/2020-02-06-von-odysseus-reisebuero-bis-aquaman-warum-die-antike-bis-heute-begeistert', 'https://www.uni-potsdam.de/de/nachrichten/detail/2020-02-03-mehr-als-schnuppern-juniorstudierende-an-der-uni-potsdam', 'https://www.uni-potsdam.de/de/nachrichten/detail/2020-01-30-ich-sehe-was-was-du-siehst-kognitionswissenschaftler-entwickeln-modelle-zur-vorhersage-', 'https://www.uni-potsdam.de/de/nachrichten/detail/2020-01-29-komplett-normal-zwei-aeltere-semester-berichten-wie-es-sich-mit-ueber-60-jahren-studier', 'https://www.uni-potsdam.de/de/nachrichten/detail/2020-01-27-hinter-den-zeichen-prof-dr-eva-kimminich-ueber-die-internationale-woche-der-semiotik', 'https://www.uni-potsdam.de/de/nachrichten/detail/2020-01-23-hochdruck-mineralogie-mit-dem-supercomputer-potsdamer-geoforscher-modellieren-materiali', 'https://www.uni-potsdam.de/de/nachrichten/detail/2020-01-23-wie-technologien-unsere-gefuehle-veraendern-forschende-untersuchen-den-einfluss-von-sen', 'https://www.uni-potsdam.de/de/nachrichten/detail/2020-01-17-lest-sprecht-seid-polemisch-pierre-heli-monot-forscht-zu-einer-populaeren-philologie-al', 'https://www.uni-potsdam.de/de/nachrichten/detail/2020-01-16-der-maerkische-eulenspiegel-warum-ein-brandenburgischer-schalk-eine-literarische-gattun', 'https://www.uni-potsdam.de/de/nachrichten/detail/2020-01-16-so-lehren-wir-streitkultur-neujahrsempfang-2020-an-der-universitaet-potsdam', 'https://www.uni-potsdam.de/de/nachrichten/detail/2020-01-15-erfolgreich-im-spitzen-und-freizeitsport-empfang-fuer-die-aktiven-der-universitaet-pots', 'https://www.uni-potsdam.de/de/nachrichten/detail/2020-01-14-zehn-fragen-fuer-ein-buch-gut-gestimmt-diagnostik-und-therapie-bei-dysphonie', 'https://www.uni-potsdam.de/de/nachrichten/detail/2020-01-14-wissenschaft-unter-freiem-himmel-nationale-geoparks-vermitteln-geologie-als-naturerlebn', 'https://www.uni-potsdam.de/de/nachrichten/detail/2020-01-14-der-linguist-gisbert-fanselow-antwortet-auf-die-frage-wie-redet-man-mit-aliens', 'https://www.uni-potsdam.de/de/nachrichten/detail/2020-01-13-deutsch-britisches-forschungsprojekt-widmet-sich-der-korruption-im-alten-griechenland-u', 'https://www.uni-potsdam.de/de/nachrichten/detail/2020-01-09-seminar-zur-sprachbildung-in-der-mathematik-mit-dem-e-learning-award-2019-ausgezeichnet', 'https://www.uni-potsdam.de/de/nachrichten/detail/2020-01-07-turn-turn-turn-oder-warum-braucht-wissenschaft-eine-wende', 'https://www.uni-potsdam.de/de/nachrichten/detail/2019-12-20-im-zeichen-der-zeichen-semiotische-woche-an-der-universitaet-potsdam', 'https://www.uni-potsdam.de/de/nachrichten/detail/2019-12-20-von-globalen-positionsdaten-zur-geodynamik-wie-messungen-an-der-oberflaeche-helfen-erdb', 'https://www.uni-potsdam.de/de/nachrichten/detail/2019-12-17-schichtwechsel-am-nordpol', 'https://www.uni-potsdam.de/de/nachrichten/detail/2019-12-17-zuhause-studierende-und-beschaeftigte-erzaehlen-persoenliche-geschichten-rund-um-ihr-zu', 'https://www.uni-potsdam.de/de/nachrichten/detail/2019-12-16-neues-forschungsprojekt-nutzt-augmented-reality-fuer-weiterbildung-im-katastrophenschut', 'https://www.uni-potsdam.de/de/nachrichten/detail/2019-12-16-boxen-gegen-die-angst-120-kinder-und-jugendliche-trainieren-im-projekt-fair-in-potsdam-', 'https://www.uni-potsdam.de/de/nachrichten/detail/2019-12-11-erc-grant-fuer-potsdamer-geoforscherin', 'https://www.uni-potsdam.de/de/nachrichten/detail/2019-12-11-religioese-vielfalt-in-irakisch-kurdistan-ueber-eine-deutsch-irakische-zusammenarbeit', 'https://www.uni-potsdam.de/de/nachrichten/detail/2019-12-11-medien-sind-kultur-der-bildungsforscher-bjoern-egbert-ueber-die-herausforderungen-im-um', 'https://www.uni-potsdam.de/de/nachrichten/detail/2019-12-10-vorwuerfe-und-aufbruchsstimmung-im-gespraech-mit-christina-wolff-und-dr-kaethe-von-bose', 'https://www.uni-potsdam.de/de/nachrichten/detail/2019-12-10-parkplaetze-parks-und-plaetze-wie-sich-golm-in-einen-lebenswerten-wissenschafts-park-ve', 'https://www.uni-potsdam.de/de/nachrichten/detail/2019-12-09-zehn-fragen-fuer-ein-buch-ficcion-heretica-disimulaciones-insulares-en-la-cuba-contempo', 'https://www.uni-potsdam.de/de/nachrichten/detail/2019-12-09-vom-fussball-zum-experiment-wie-kinder-wissenschaftlich-denken-lernen', 'https://www.uni-potsdam.de/de/nachrichten/detail/2019-12-04-wenn-informatiker-pilze-zuechten-biooekonomie-als-nachhaltiges-wirtschaftsprinzip', 'https://www.uni-potsdam.de/de/nachrichten/detail/2019-12-03-auf-der-erde-und-im-all-physik-studentin-ida-sigusch-engagiert-sich-im-fakultaetsrat', 'https://www.uni-potsdam.de/de/nachrichten/detail/2019-12-03-unterwegs-in-sansibar-tag-7-nochmal-taka-taka-nun-in-kikwajuni', 'https://www.uni-potsdam.de/de/nachrichten/detail/2019-12-02-unterwegs-in-sansibar-tag-6-solarpumpen-und-schulgaerten', 'https://www.uni-potsdam.de/de/nachrichten/detail/2019-11-29-unterwegs-in-sansibar-tag-5-feierlichkeiten-im-park', 'https://www.uni-potsdam.de/de/nachrichten/detail/2019-11-28-mit-dem-puls-des-lichts-humboldt-stipendiat-marwan-deb-forscht-zu-ultraschnellem-magnet', 'https://www.uni-potsdam.de/de/nachrichten/detail/2019-11-28-unterwegs-in-sansibar-tag-4-besuch-im-totalreservat-chumbe-island', 'https://www.uni-potsdam.de/de/nachrichten/detail/2019-11-27-sportspass-auf-dem-trampolin-bei-der-jumpingr-party-des-hochschulsports', 'https://www.uni-potsdam.de/de/nachrichten/detail/2019-11-27-asean-qa-gemeinsam-fuer-eine-nachhaltige-qualitaetskultur', 'https://www.uni-potsdam.de/de/nachrichten/detail/2019-11-27-unterwegs-in-sansibar-tag-3-plattenbau-auf-afrikanisch', 'https://www.uni-potsdam.de/de/nachrichten/detail/2019-11-26-es-war-einmal-100-jahre-frauenwahlrecht', 'https://www.uni-potsdam.de/de/nachrichten/detail/2019-11-26-20-jahre-unicontact-ein-messebesuch', 'https://www.uni-potsdam.de/de/nachrichten/detail/2019-11-25-unterwegs-in-sansibar-tag-2-seife-aus-seegras', 'https://www.uni-potsdam.de/de/nachrichten/detail/2019-11-25-eine-generationelle-frage-universitaet-potsdam-mit-forschungsprojekt-zur-eigenen-geschi', 'https://www.uni-potsdam.de/de/nachrichten/detail/2019-11-25-kleine-faecher-grosse-relevanz-die-slavistin-susanne-straetling-ueber-die-kleine-faeche', 'https://www.uni-potsdam.de/de/nachrichten/detail/2019-11-25-unterwegs-in-sansibar-tag-1-karibu-mit-taka-taka-party', 'https://www.uni-potsdam.de/de/nachrichten/detail/2019-11-22-verhandlungsforschung-auf-dem-vormarsch-fuenf-jahre-negotiation-academy', 'https://www.uni-potsdam.de/de/nachrichten/detail/2019-11-22-von-punkten-und-wellen-geoforscher-bodo-bookhagen-erklaert-wofuer-wir-digitale-gelaende', 'https://www.uni-potsdam.de/de/nachrichten/detail/2019-11-21-mein-arbeitstag-heike-stadler-leitet-die-abteilung-abonnements-in-der-universitaetsbibl', 'https://www.uni-potsdam.de/de/nachrichten/detail/2019-11-21-vom-ungewissen-beruehrt-der-literaturwissenschaftler-johannes-ungelenk-geht-ungewoehnli', 'https://www.uni-potsdam.de/de/nachrichten/detail/2019-11-21-unterwegs-in-sansibar', 'https://www.uni-potsdam.de/de/nachrichten/detail/2019-11-19-popcorn-und-schneckenhaeuser-wie-stefanie-kaboth-bahr-mit-mikrofossilien-und-statistike', 'https://www.uni-potsdam.de/de/nachrichten/detail/2019-11-18-deutschlandstipendien-vergeben', 'https://www.uni-potsdam.de/de/nachrichten/detail/2019-11-18-neues-aus-forschung-und-lehre-beilage-der-universitaet-potsdam-im-tagesspiegel-und-den-', 'https://www.uni-potsdam.de/de/nachrichten/detail/2019-11-18-die-neuordnung-der-welt-wissenschaftlicher-workshop-des-recs-zur-potsdamer-konferenz-19', 'https://www.uni-potsdam.de/de/nachrichten/detail/2019-11-15-zusammen-ist-man-weniger-allein-die-astrophysikerin-ingrid-pelisoli-erforscht-was-doppe', 'https://www.uni-potsdam.de/de/nachrichten/detail/2019-11-12-warum-auch-weltpolitik-regeln-braucht-thomas-doerfler-untersucht-wie-internationale-ins', 'https://www.uni-potsdam.de/de/nachrichten/detail/2019-11-12-zehn-fragen-fuer-ein-buch-angeles-que-cantan-de-continuo-la-legitimacion-teologica-de-l', 'https://www.uni-potsdam.de/de/nachrichten/detail/2019-11-12-17-neuberufene-begruesst-grosses-professorium-informierte-ueber-die-european-digital-un', 'https://www.uni-potsdam.de/de/nachrichten/detail/2019-11-12-modelle-des-denkens-der-kognitionswissenschaftler-reinhold-kliegl-erhaelt-seniorprofess', 'https://www.uni-potsdam.de/de/nachrichten/detail/2019-11-12-europaeisch-digital-inklusiv-der-vizepraesident-fuer-internationales-prof-florian-schwe', 'https://www.uni-potsdam.de/de/nachrichten/detail/2019-11-06-ehrenbrief-der-polnischen-universitaet-opole-fuer-professor-frank-tosch', 'https://www.uni-potsdam.de/de/nachrichten/detail/2019-11-05-wo-wohnen-der-sozialwissenschaftler-roland-verwiebe-spricht-ueber-die-ware-wohnung-und-', 'https://www.uni-potsdam.de/de/nachrichten/detail/2019-11-05-auf-nach-boston-tag-7-das-grosse-finale', 'https://www.uni-potsdam.de/de/nachrichten/detail/2019-11-05-auf-nach-boston-tag-56-the-big-day', 'https://www.uni-potsdam.de/de/nachrichten/detail/2019-11-04-europas-kulturerbe-eine-neue-hochschulpartnerschaft-widmet-sich-der-digitalen-erschlies', 'https://www.uni-potsdam.de/de/nachrichten/detail/2019-11-04-auf-nach-boston-tag-4-the-giant-competition', 'https://www.uni-potsdam.de/de/nachrichten/detail/2019-11-02-auf-nach-boston-tag-3-diners-paradise', 'https://www.uni-potsdam.de/de/nachrichten/detail/2019-11-02-ideenwettbewerb-ideahubb-ausgerufen-bewerbungen-bis-30-januar-2020-moeglich', 'https://www.uni-potsdam.de/de/nachrichten/detail/2019-11-01-auf-nach-boston-tag-2-heisse-nacht-und-langer-tag', 'https://www.uni-potsdam.de/de/nachrichten/detail/2019-11-01-exzellenter-forschungsnachwuchs-das-potsdamer-postdoc-programm', 'https://www.uni-potsdam.de/de/nachrichten/detail/2019-10-30-weniger-buerokratie-bessere-gesetze-potsdamer-expertise-im-jahresbericht-2019-des-natio', 'https://www.uni-potsdam.de/de/nachrichten/detail/2019-10-30-auf-nach-boston-tag-1-dies-ist-amerika-unsere-igem-reise-beginnt', 'https://www.uni-potsdam.de/de/nachrichten/detail/2019-10-30-last-call-wer-leitbild-sagt-muss-auch-lehre-sagen-hochschuloeffentliche-diskussionsvera', 'https://www.uni-potsdam.de/de/nachrichten/detail/2019-10-30-diaspora-und-gesetz-kultur-religion-und-recht-jenseits-der-souveraenitaet-das-selma-ste', 'https://www.uni-potsdam.de/de/nachrichten/detail/2019-10-29-erinnerung-soll-wachsen-vor-dem-fontane-archiv-steht-ein-baum-im-gedenken-an-klaus-fabe', 'https://www.uni-potsdam.de/de/nachrichten/detail/2019-10-29-grimm-preis-fuer-potsdamer-germanisten', 'https://www.uni-potsdam.de/de/nachrichten/detail/2019-10-29-auf-nach-boston-potsdamer-igem-team-berichtet-im-online-tagebuch-von-der-grossen-abschl', 'https://www.uni-potsdam.de/de/nachrichten/detail/2019-10-29-golms-groesste-wg-studieren-und-wohnen-am-wissenschaftsstandort', 'https://www.uni-potsdam.de/de/nachrichten/detail/2019-10-28-kinder-bewegen-wie-wirkt-sportfoerderunterricht-bei-grundschulkindern', 'https://www.uni-potsdam.de/de/nachrichten/detail/2019-10-28-ueber-grenzen-hinweg-neuer-weiterbildender-masterstudiengang-interkulturelle-wirtschaft', 'https://www.uni-potsdam.de/de/nachrichten/detail/2019-10-24-zehn-fragen-fuer-ein-buch-integrationsbedarfe-und-einstellungsmuster-von-gefluechteten-', 'https://www.uni-potsdam.de/de/nachrichten/detail/2019-10-23-stabile-proteine-im-modell-potsdamer-studierende-nehmen-wieder-an-internationalem-biote', 'https://www.uni-potsdam.de/de/nachrichten/detail/2019-10-23-fokus-suedamerika-erdsystem-forscher-intensivieren-zusammenarbeit-mit-forschungseinrich', 'https://www.uni-potsdam.de/de/nachrichten/detail/2019-10-22-die-mathematik-der-musik-stephanie-probst-erforscht-selbstspielende-klaviere', 'https://www.uni-potsdam.de/de/nachrichten/detail/2019-10-22-schule-virtuell-ein-seminar-bereitet-lehramtsstudierende-mit-der-virtual-reality-brille', 'https://www.uni-potsdam.de/de/nachrichten/detail/2019-10-17-sieben-neue-fahrradreparaturstationen-auf-dem-campus', 'https://www.uni-potsdam.de/de/nachrichten/detail/2019-10-17-fachkollegienwahl-2019-der-deutschen-forschungsgemeinschaft', 'https://www.uni-potsdam.de/de/nachrichten/detail/2019-10-17-verborgene-schaetze-die-juedischen-studien-praesentieren-sich-bei-einer-ausstellung-zu-', 'https://www.uni-potsdam.de/de/nachrichten/detail/2019-10-15-zur-zukunft-von-sonnen-die-astrophysikerin-nicole-reindl-forscht-im-neuen-postdoc-progr', 'https://www.uni-potsdam.de/de/nachrichten/detail/2019-10-15-bruetende-hitze-geflutete-keller-umweltforscher-untersuchen-staedte-im-klimawandel', 'https://www.uni-potsdam.de/de/nachrichten/detail/2019-10-14-ein-loch-im-system-oder-die-suche-nach-der-evidenz', 'https://www.uni-potsdam.de/de/nachrichten/detail/2019-10-14-spurensuche-ernaehrungsforscher-wollen-die-wissensluecken-ueber-spurenelemente-schliess', 'https://www.uni-potsdam.de/de/nachrichten/detail/2019-10-11-profilgebundene-wissenschecks-20-sieben-brandenburgische-hochschulen-unterzeichnen-koop', 'https://www.uni-potsdam.de/de/nachrichten/detail/2019-10-11-potsdamer-studierende-bei-igem-in-boston', 'https://www.uni-potsdam.de/de/nachrichten/detail/2019-10-08-unterwegs-im-anatolischen-hochplateau-tag-10-resuemee', 'https://www.uni-potsdam.de/de/nachrichten/detail/2019-10-08-mit-allen-sinnen-forschen-wissenschaft-zum-anfassen-im-extavium', 'https://www.uni-potsdam.de/de/nachrichten/detail/2019-10-07-unterwegs-im-anatolischen-hochplateau-tag-9-entlang-der-stoerung-ohne-stoerung-geologis', 'https://www.uni-potsdam.de/de/nachrichten/detail/2019-10-07-tastend-ins-internet-informatiker-erleichtern-blinden-den-zugang-zu-onlinediensten', 'https://www.uni-potsdam.de/de/nachrichten/detail/2019-10-04-unterwegs-im-anatolischen-hochplateau-tag-8-von-hoehlenluft-und-safranduft', 'https://www.uni-potsdam.de/de/nachrichten/detail/2019-10-02-unterwegs-im-anatolischen-hochplateau-tag-7-ilgaz-anadolunun-sen-yuece-bir-dagisin-ilga', 'https://www.uni-potsdam.de/de/nachrichten/detail/2019-10-01-unterwegs-im-anatolischen-hochplateau-tag-6-von-feuer-und-salz', 'https://www.uni-potsdam.de/de/nachrichten/detail/2019-10-01-ran-an-den-ruecken-das-forschungsnetzwerk-mispex-hat-ein-training-entwickelt-mit-dem-si', 'https://www.uni-potsdam.de/de/nachrichten/detail/2019-09-30-unterwegs-im-anatolischen-hochplateau-tag-5-kappadokien-das-land-der-schoenen-pferde', 'https://www.uni-potsdam.de/de/nachrichten/detail/2019-09-30-uni-campus-am-neuen-palais-wird-entwickelt-erster-bauabschnitt-startet-anfang-oktober', 'https://www.uni-potsdam.de/de/nachrichten/detail/2019-09-30-unterwegs-im-anatolischen-hochplateau-tag-4-anatolia-ein-mikrokontinent-auf-der-flucht', 'https://www.uni-potsdam.de/de/nachrichten/detail/2019-09-27-it-nachwuchs-verabschiedet-absolventen-der-digital-engineering-fakultaet-ausgezeichnet', 'https://www.uni-potsdam.de/de/nachrichten/detail/2019-09-27-unterwegs-im-anatolischen-hochplateau-tag-3-dag-ovanin-suet-anasidir-der-berg-ist-die-m', 'https://www.uni-potsdam.de/de/nachrichten/detail/2019-09-26-unterwegs-im-anatolischen-hochplateau-tag-2-von-tsunamis-foraminiferen-und-schluckloech', 'https://www.uni-potsdam.de/de/nachrichten/detail/2019-09-26-islands-brodelnde-erde-wie-vulkanausbrueche-frueher-vorhergesagt-werden-koennen', 'https://www.uni-potsdam.de/de/nachrichten/detail/2019-09-25-unterwegs-im-anatolischen-hochplateau-tag-1-das-mittelmeer-war-eine-wueste', 'https://www.uni-potsdam.de/de/nachrichten/detail/2019-09-25-unterwegs-im-anatolischen-hochplateau', 'https://www.uni-potsdam.de/de/nachrichten/detail/2019-09-24-am-zebrafischherz-forscher-entdecken-neue-form-der-gewebe-kommunikation', 'https://www.uni-potsdam.de/de/nachrichten/detail/2019-09-24-digitalisierung-der-wirtschaft-noch-nicht-in-unternehmensverhandlungen-angekommen', 'https://www.uni-potsdam.de/de/nachrichten/detail/2019-09-24-im-dienste-der-menschenrechte-absolventin-der-juristischen-fakultaet-mit-fritz-bauer-st', 'https://www.uni-potsdam.de/de/nachrichten/detail/2019-09-23-der-fels-in-der-brandung-probenbesuch-bei-den-potsdamer-instrumentalisten', 'https://www.uni-potsdam.de/de/nachrichten/detail/2019-09-20-gute-fahrt-polarstern-unter-leitung-von-prof-markus-rex-startet-die-groesste-arktisexpe', 'https://www.uni-potsdam.de/de/nachrichten/detail/2019-09-19-mit-asche-gepudert-oder-von-eis-bedeckt-von-vulkanausbruechen-und-schmelzwasserseen', 'https://www.uni-potsdam.de/de/nachrichten/detail/2019-09-16-alles-fuer-die-zukunft-der-klima-aktivist-sebastian-grieme-studiert-physik-an-der-uni-p', 'https://www.uni-potsdam.de/de/nachrichten/detail/2019-09-13-zehn-fragen-fuer-ein-buch-of-trees-and-birds-a-festschrift-for-gisbert-fanselow', 'https://www.uni-potsdam.de/de/nachrichten/detail/2019-09-12-sturm-im-all-wie-die-datenassimilation-dazu-beitragen-kann-das-weltraumwetter-vorherzus', 'https://www.uni-potsdam.de/de/nachrichten/detail/2019-09-09-trainee-programm-fuer-uni-absolventen-in-der-ihk-geplant', 'https://www.uni-potsdam.de/de/nachrichten/detail/2019-09-09-50-prozent-der-glaeubigen-sind-von-leitenden-funktionen-ausgeschlossen-frauen-wollen-di', 'https://www.uni-potsdam.de/de/nachrichten/detail/2019-09-06-brandenburgische-landesrektorenkonferenz-fuer-verbleib-des-ministeriums-fuer-wissenscha', 'https://www.uni-potsdam.de/de/nachrichten/detail/2019-09-05-das-beste-aus-beiden-welten-was-mathematik-mit-dem-wetter-amoeben-und-dem-menschlichen-', 'https://www.uni-potsdam.de/de/nachrichten/detail/2019-09-05-auf-der-flucht-der-astrophysiker-prof-dr-stephan-geier-erklaert-die-begeisterung-fuer-d', 'https://www.uni-potsdam.de/de/nachrichten/detail/2019-09-05-in-potsdam-zu-gast-online-befragung-fuer-internationals-gestartet', 'https://www.uni-potsdam.de/de/nachrichten/detail/2019-09-03-wenn-zwaenge-den-alltag-beherrschen-franziska-kuehne-hilft-bei-zwangserkrankungen', 'https://www.uni-potsdam.de/de/nachrichten/detail/2019-08-29-streiken-in-der-mittagspause-mit-einem-forschungsstreik-engagieren-sich-potsdamer-und-b', 'https://www.uni-potsdam.de/de/nachrichten/detail/2019-08-27-durch-nacht-und-eis-mosaic-eine-expedition-zum-epizentrum-der-globalen-erwaermung', 'https://www.uni-potsdam.de/de/nachrichten/detail/2019-08-26-ein-paradies-fuer-potsdam', 'https://www.uni-potsdam.de/de/nachrichten/detail/2019-08-20-wir-machen-weiter-der-schueler-und-klimaaktivist-jaro-abraham-im-gespraech-mit-dem-klim', 'https://www.uni-potsdam.de/de/nachrichten/detail/2019-08-19-tastemint-universitaetspraesident-ueberreichte-zertifikate-an-15-schuelerinnen-aus-bran', 'https://www.uni-potsdam.de/de/nachrichten/detail/2019-08-19-pilotprojekt-studierende-treffen-filmauswahl-fuer-das-29-filmfestival-cottbus', 'https://www.uni-potsdam.de/de/nachrichten/detail/2019-08-16-20-jahre-abraham-geiger-kolleg-an-der-universitaet-potsdam-zwischen-erfolg-und-unsicher', 'https://www.uni-potsdam.de/de/nachrichten/detail/2019-08-15-die-welt-besser-machen-bei-upride-engagieren-sich-junge-menschen-fuer-toleranz-und-viel', 'https://www.uni-potsdam.de/de/nachrichten/detail/2019-08-13-im-auftrag-des-rechts-marek-kneis-ist-der-neue-datenschutzbeauftragte-an-der-uni-potsda', 'https://www.uni-potsdam.de/de/nachrichten/detail/2019-08-12-wie-halten-sie-es-mit-der-gleichstellung-brandenburger-parteien-zu-gleichstellungsfrage', 'https://www.uni-potsdam.de/de/nachrichten/detail/2019-08-08-brandenburg-foerdert-freien-zugang-zu-wissenschaftlichen-publikationen-open-access-stra', 'https://www.uni-potsdam.de/de/nachrichten/detail/2019-08-07-zehntausend-mal-publishup-und-kein-bisschen-muede-ein-gespraech-mit-dem-jubilaeumsautor', 'https://www.uni-potsdam.de/de/nachrichten/detail/2019-08-07-immer-einen-schritt-voraus-warum-proaktiv-zu-arbeiten-besser-und-zufriedener-macht', 'https://www.uni-potsdam.de/de/nachrichten/detail/2019-08-06-goldnanopartikel-und-kurzgeschichten-der-chemiker-ferenc-liebig-beherrscht-die-kunst-de', 'https://www.uni-potsdam.de/de/nachrichten/detail/2019-08-02-zu-gast-auf-der-start-up-messe-tmti-summit-2019-in-israel', 'https://www.uni-potsdam.de/de/nachrichten/detail/2019-08-02-glueckwunsch-zum-10000-publikationsserver-der-universitaet-potsdam-verzeichnet-die-zehn', 'https://www.uni-potsdam.de/de/nachrichten/detail/2019-08-01-unterwegs-in-hongkong-ein-tag-im-buero', 'https://www.uni-potsdam.de/de/nachrichten/detail/2019-07-31-staedte-als-boersenersatz-gentrifizierung-zwischen-aufwertung-und-finanzialisierung', 'https://www.uni-potsdam.de/de/nachrichten/detail/2019-07-30-auf-dem-wasser-mit-dem-hochschulsport-im-sommer-zum-paddeln-rudern-und-schwimmen', 'https://www.uni-potsdam.de/de/nachrichten/detail/2019-07-30-alles-was-recht-ist-der-voelkerrechtler-andreas-zimmermann-arbeitet-im-menschenrechtsau', 'https://www.uni-potsdam.de/de/nachrichten/detail/2019-07-24-wahlpruefsteine-an-die-parteien-brandenburger-hochschulen-fragen-positionen-zur-bildung', 'https://www.uni-potsdam.de/de/nachrichten/detail/2019-07-24-alle-fuer-einen-christoph-lippert-erklaert-wie-mit-daten-von-millionen-dem-einzelnen-pa', 'https://www.uni-potsdam.de/de/nachrichten/detail/2019-07-23-den-ausbau-gestalten-diskussion-mit-studierenden-zum-hochschulentwicklungsplan-und-zum-', 'https://www.uni-potsdam.de/de/nachrichten/detail/2019-07-23-unterwegs-in-hongkong-hot-yoga-red-market-und-jede-menge-dumplings', 'https://www.uni-potsdam.de/de/nachrichten/detail/2019-07-23-starke-wurzeln-starke-frauen', 'https://www.uni-potsdam.de/de/nachrichten/detail/2019-07-17-erwachsen-werden-das-heranwachsen-im-fokus-der-forschung', 'https://www.uni-potsdam.de/de/nachrichten/detail/2019-07-16-ein-grosser-schritt-fuer-die-menschheit-vor-50-jahren-betraten-die-ersten-menschen-den-', 'https://www.uni-potsdam.de/de/nachrichten/detail/2019-07-16-tedxunipotsdam-ein-studentischer-verein-gibt-kreativen-denkerinnen-und-machern-eine-bue', 'https://www.uni-potsdam.de/de/nachrichten/detail/2019-07-15-sommer-universiade-bronze-fuer-den-potsdamer-diskuswerfer-henning-pruefer', 'https://www.uni-potsdam.de/de/nachrichten/detail/2019-07-15-zentrum-fuer-digitale-transformation-startet', 'https://www.uni-potsdam.de/de/nachrichten/detail/2019-07-15-typisierungsaktion-am-neuen-palais', 'https://www.uni-potsdam.de/de/nachrichten/detail/2019-07-15-unterwegs-in-hongkong-premiere-mit-eiscreme', 'https://www.uni-potsdam.de/de/nachrichten/detail/2019-07-12-schmierende-sedimente-versetzten-kontinente-in-bewegung', 'https://www.uni-potsdam.de/de/nachrichten/detail/2019-07-10-erdsystemforschung-braucht-interdisziplinaeres-umfeld-der-geowissenschaftler-manfred-st', 'https://www.uni-potsdam.de/de/nachrichten/detail/2019-07-10-wenn-die-nacht-zum-tag-wird-kooperationsprojekt-erforscht-restless-legs-syndrom-bei-kin', 'https://www.uni-potsdam.de/de/nachrichten/detail/2019-07-09-wie-sich-mit-e-assessment-zeit-papier-und-aufwand-sparen-laesst', 'https://www.uni-potsdam.de/de/nachrichten/detail/2019-07-09-laborbesuch-die-seismologie-der-stimme', 'https://www.uni-potsdam.de/de/nachrichten/detail/2019-07-09-unterwegs-in-hongkong-von-soho-nach-peking', 'https://www.uni-potsdam.de/de/nachrichten/detail/2019-07-09-206-einreichungen-fuer-den-innovationspreis-berlin-brandenburg-uni-praesident-ist-jury-', 'https://www.uni-potsdam.de/de/nachrichten/detail/2019-07-08-hpi-bachelorpodium-mit-13-innovativen-it-projekten', 'https://www.uni-potsdam.de/de/nachrichten/detail/2019-07-03-stress-lass-nach-eine-psychologische-studie-erforscht-wie-selbstmitgefuehl-und-achtsamk', 'https://www.uni-potsdam.de/de/nachrichten/detail/2019-07-02-zehn-fragen-fuer-ein-buch-der-universitaetscampus-golm', 'https://www.uni-potsdam.de/de/nachrichten/detail/2019-07-02-naschen-auf-dem-campus', 'https://www.uni-potsdam.de/de/nachrichten/detail/2019-07-01-unterwegs-in-hongkong-auf-einen-hot-pot-mit-milla-jovovich', 'https://www.uni-potsdam.de/de/nachrichten/detail/2019-06-28-bunt-und-feierlich-universitaet-verabschiedete-ihre-absolventinnen-und-absolventen', 'https://www.uni-potsdam.de/de/nachrichten/detail/2019-06-27-asyl-und-integration-wie-sich-die-migrationsverwaltung-seit-2015-veraendert-hat', 'https://www.uni-potsdam.de/de/nachrichten/detail/2019-06-26-austausch-jubliaeum-studierende-des-college-of-william-mary-zum-zehnten-mal-in-potsdam', 'https://www.uni-potsdam.de/de/nachrichten/detail/2019-06-26-potsdamer-rugby-team-ist-hochschulmeister', 'https://www.uni-potsdam.de/de/nachrichten/detail/2019-06-26-schafe-im-park-sanssouci-biologen-begleiten-beweidungsprojekt', 'https://www.uni-potsdam.de/de/nachrichten/detail/2019-06-25-im-vergleich-zu-den-sternen-sind-wir-wie-eintagsfliegen-der-astrophysiker-dr-joris-vos-', 'https://www.uni-potsdam.de/de/nachrichten/detail/2019-06-25-kein-verbohrter-ideologe-theodor-fontanes-schwieriges-verhaeltnis-zum-judentum', 'https://www.uni-potsdam.de/de/nachrichten/detail/2019-06-21-von-potsdam-nach-hongkong-potsdamer-auszubildende-geht-mit-ausbildungweltweit-programm-', 'https://www.uni-potsdam.de/de/nachrichten/detail/2019-06-20-gesundheitsministerin-karawanskij-besucht-die-universitaet-potsdam', 'https://www.uni-potsdam.de/de/nachrichten/detail/2019-06-19-queere-universitaet-die-hochschulgruppe-upride-feiert-das-stonewall-jubilaeum-mit-einer', 'https://www.uni-potsdam.de/de/nachrichten/detail/2019-06-19-richtfest-am-neuen-palais-herrichtung-des-nordtorgebaeudes-und-der-orangerie', 'https://www.uni-potsdam.de/de/nachrichten/detail/2019-06-19-studieren-fuer-die-digitale-zukunft', 'https://www.uni-potsdam.de/de/nachrichten/detail/2019-06-19-batterien-aus-dem-drucker-chemiker-aus-potsdam-und-karlsruhe-entwickeln-neuartige-elekt', 'https://www.uni-potsdam.de/de/nachrichten/detail/2019-06-17-neues-aus-forschung-und-lehre', 'https://www.uni-potsdam.de/de/nachrichten/detail/2019-06-17-jeder-buchstabe-ein-glueckwunsch-theodor-fontanes-geburtstagsgedichte', 'https://www.uni-potsdam.de/de/nachrichten/detail/2019-06-14-fontane-blaetter-frei-zugaenglich-50-jahre-fontane-forschung-im-netz', 'https://www.uni-potsdam.de/de/nachrichten/detail/2019-06-12-fruchtbare-partnerschaft-mathematiker-aus-der-ukraine-und-potsdam-loesen-stochastische-', 'https://www.uni-potsdam.de/de/nachrichten/detail/2019-06-12-es-muss-nicht-alles-100-prozent-autonom-sein', 'https://www.uni-potsdam.de/de/nachrichten/detail/2019-06-11-zehn-fragen-fuer-ein-buch-hin-alexander-von-humboldt-im-netz', 'https://www.uni-potsdam.de/de/nachrichten/detail/2019-06-06-gotthard-erler-erhaelt-fontane-wissenschaftspreis', 'https://www.uni-potsdam.de/de/nachrichten/detail/2019-06-05-gleichstellung-ist-ein-stetiger-dialog-christina-wolff-macht-sich-stark-fuer-geschlecht', 'https://www.uni-potsdam.de/de/nachrichten/detail/2019-06-05-fontanes-medien-1819-2019-internationaler-kongress-des-theodor-fontane-archivs-vom-13-b', 'https://www.uni-potsdam.de/de/nachrichten/detail/2019-06-05-musterhaft-wie-kuenstliche-neuronale-netzwerke-die-geoforschung-revolutionieren-koennen', 'https://www.uni-potsdam.de/de/nachrichten/detail/2019-06-04-im-dickicht-der-medien-das-theodor-fontane-archiv-entdeckt-den-jubilar-im-kontext-seine', 'https://www.uni-potsdam.de/de/nachrichten/detail/2019-05-28-alexander-von-humboldt-die-ganze-welt-der-ganze-mensch-jubilaeumstagung-in-der-berlin-b', 'https://www.uni-potsdam.de/de/nachrichten/detail/2019-05-27-fuer-eine-bessere-verwaltung-wissenschaftspreis-buerokratie-fuer-potsdamer-forscherteam', 'https://www.uni-potsdam.de/de/nachrichten/detail/2019-05-27-abgeraeumt-team-der-universitaet-potsdam-holt-zehn-medaillen-bei-den-deutschen-hochschu', 'https://www.uni-potsdam.de/de/nachrichten/detail/2019-05-27-informatik-olympiade-am-potsdamer-campus-griebnitzsee-das-sind-die-besten-nachwuchsinfo', 'https://www.uni-potsdam.de/de/nachrichten/detail/2019-05-24-sportlich-begeistert-am-neuen-palais-das-campus-festival-2019', 'https://www.uni-potsdam.de/de/nachrichten/detail/2019-05-24-licht-an-im-modul-kunstpaedagogik-spielen-angehende-grundschullehrerinnen-und-lehrer-th', 'https://www.uni-potsdam.de/de/nachrichten/detail/2019-05-23-potsdamer-nachwuchsbiologen-bei-jugend-forscht-ausgezeichnet', 'https://www.uni-potsdam.de/de/nachrichten/detail/2019-05-23-deutsch-argentinisches-erfolgsmodell-internationales-graduiertekolleg-strategy-fuer-zwe', 'https://www.uni-potsdam.de/de/nachrichten/detail/2019-05-22-ukrainischer-botschafter-zu-gast-an-der-universitaet-potsdam', 'https://www.uni-potsdam.de/de/nachrichten/detail/2019-05-22-neues-forschungsgebaeude-fuer-die-ernaehrungswissenschaft', 'https://www.uni-potsdam.de/de/nachrichten/detail/2019-05-22-humboldts-reise-in-die-digitale-welt-vom-handgeschriebenen-tagebuch-zur-digitalen-editi', 'https://www.uni-potsdam.de/de/nachrichten/detail/2019-05-21-wie-schuelerinnen-und-schueler-fontane-fuer-sich-entdecken-koennen', 'https://www.uni-potsdam.de/de/nachrichten/detail/2019-05-20-waldgaerten-fuer-die-stadt-umweltwissenschaftler-entwickeln-staedtische-gruenflaechen-d', 'https://www.uni-potsdam.de/de/nachrichten/detail/2019-05-20-die-uni-potsdam-beim-11-aok-firmenlauf', 'https://www.uni-potsdam.de/de/nachrichten/detail/2019-05-15-fachstelle-antisemitismus-am-moses-mendelssohn-zentrum-gegruendet', 'https://www.uni-potsdam.de/de/nachrichten/detail/2019-05-15-dem-islam-auf-der-spur-wie-leben-muslime-in-brandenburg', 'https://www.uni-potsdam.de/de/nachrichten/detail/2019-05-14-ki-an-bord-ms-wissenschaft-mit-ausstellung-zu-kuenstlicher-intelligenz-ist-vom-20-bis-2', 'https://www.uni-potsdam.de/de/nachrichten/detail/2019-05-13-wahl-o-mat-zum-aufkleben-an-der-uni-potsdam', 'https://www.uni-potsdam.de/de/nachrichten/detail/2019-05-13-wege-des-wassers-wissenschaftlerinnen-und-wissenschaftler-der-dfg-forschungsgruppe-cosm', 'https://www.uni-potsdam.de/de/nachrichten/detail/2019-05-13-zehn-fragen-fuer-ein-buch-alles-auf-anfang-befunde-und-perspektiven-zum-studieneingang', 'https://www.uni-potsdam.de/de/nachrichten/detail/2019-05-09-facetten-der-arbeitswelt-kennenlernen-jetzt-bewerben-fuer-mentoring-plus-fuer-studentin', 'https://www.uni-potsdam.de/de/nachrichten/detail/2019-05-07-erste-schritte-interview-mit-der-gewinnerin-des-gain-awards-2018-katharina-schultebrauc', 'https://www.uni-potsdam.de/de/nachrichten/detail/2019-05-07-von-friedersdorf-zur-jannowitzbruecke-wie-theodor-fontane-laendliche-und-staedtische-ar', 'https://www.uni-potsdam.de/de/nachrichten/detail/2019-05-03-zum-tode-von-klaus-faber', 'https://www.uni-potsdam.de/de/nachrichten/detail/2019-05-03-fuer-chemie-begeistern-manfred-und-wolfgang-flad-preis-fuer-dr-marc-soeren-homeyer', 'https://www.uni-potsdam.de/de/nachrichten/detail/2019-04-30-damit-arbeit-nicht-krank-macht-ein-gruender-team-an-der-universitaet-potsdam-entwickelt', 'https://www.uni-potsdam.de/de/nachrichten/detail/2019-04-29-putzdam-sportlicher-fruehjahrsputz', 'https://www.uni-potsdam.de/de/nachrichten/detail/2019-04-23-zehn-fragen-fuer-ein-buch-ns-raubgut-forschungsbericht-zur-provenienzforschung-an-der-u', 'https://www.uni-potsdam.de/de/nachrichten/detail/2019-04-17-gemeinsam-besser-universitaet-potsdam-startet-kooperation-mit-kolumbianischen-hochschul', 'https://www.uni-potsdam.de/de/nachrichten/detail/2019-04-17-signale-im-sekundentakt-astrophysiker-entwickeln-ein-teleskop-alarmsystem-fuer-ein-ganz', 'https://www.uni-potsdam.de/de/nachrichten/detail/2019-04-16-universitaet-potsdam-als-erstes-deutsches-mitglied-der-conahec-auf-der-jahrestagung-201', 'https://www.uni-potsdam.de/de/nachrichten/detail/2019-04-16-gemeinsame-forschung-fuer-eine-gesunde-ernaehrung-wissenschaftsministerin-muench-eroeff', 'https://www.uni-potsdam.de/de/nachrichten/detail/2019-04-15-werkzeuge-fuer-mehr-transparenz-bei-forschungsdaten', 'https://www.uni-potsdam.de/de/nachrichten/detail/2019-04-12-ein-tag-in-der-stadt-des-autos-deutschlandstipendiaten-besuchen-volkswagenwerk-in-wolfs', 'https://www.uni-potsdam.de/de/nachrichten/detail/2019-04-11-sommer-im-unicamp-ferienprogramm-fuer-kinder-von-beschaeftigten-und-studierenden', 'https://www.uni-potsdam.de/de/nachrichten/detail/2019-04-11-im-fluss-der-zeit-umweltwissenschaftler-bringen-sedimente-zum-leuchten', 'https://www.uni-potsdam.de/de/nachrichten/detail/2019-04-10-gruene-allianz-botaniker-aus-sansibar-zu-gast-in-potsdam', 'https://www.uni-potsdam.de/de/nachrichten/detail/2019-04-10-der-universale-problemloeser-ki-made-in-potsdam-auf-dem-siegeszug-rund-um-die-welt', 'https://www.uni-potsdam.de/de/nachrichten/detail/2019-04-05-starthilfe-gewinnerin-des-ersten-gain-start-up-pitch-zu-gast-bei-potsdam-transfer', 'https://www.uni-potsdam.de/de/nachrichten/detail/2019-04-03-innovationen-foerdern-wissenschaftsdelegation-aus-jordanien-und-palaestina-zu-gast-bei-', 'https://www.uni-potsdam.de/de/nachrichten/detail/2019-04-03-wissenschaft-im-zentrum-einblicke-in-aktuelle-forschung-aus-potsdam', 'https://www.uni-potsdam.de/de/nachrichten/detail/2019-04-03-das-auf-und-ab-der-berge-peter-van-der-beek-gast-professor-an-der-universitaet-potsdam-', 'https://www.uni-potsdam.de/de/nachrichten/detail/2019-04-03-die-wichtigste-eigenschaft-eines-forschers-ist-neugier-philip-wigge-interessiert-wie-pf', 'https://www.uni-potsdam.de/de/nachrichten/detail/2019-04-02-angewandte-mathematik-prof-sebastian-reich-als-siam-fellow-geehrt', 'https://www.uni-potsdam.de/de/nachrichten/detail/2019-04-01-innovative-roentgenspektroskopie-koennte-raetsel-im-erdinnern-loesen-geowissenschaftler', 'https://www.uni-potsdam.de/de/nachrichten/detail/2019-03-29-sonnencreme-im-labor-mit-prof-dr-bernd-herzog-forscht-ein-renommierter-gastwissenschaft', 'https://www.uni-potsdam.de/de/nachrichten/detail/2019-03-29-brandenburgs-ministerpraesident-dietmar-woidke-besucht-mit-eu-kommissarin-corina-cretu-', 'https://www.uni-potsdam.de/de/nachrichten/detail/2019-03-27-paragrafen-auf-der-umlaufbahn-wie-ein-vertrag-dafuer-sorgt-dass-der-weltraum-zum-wohle-', 'https://www.uni-potsdam.de/de/nachrichten/detail/2019-03-21-unterwegs-in-den-anden-9-maerz-2019-abschied', 'https://www.uni-potsdam.de/de/nachrichten/detail/2019-03-20-forschungspreistraeger-zu-gast-polymerchemiker-yusuf-yagci-forscht-an-der-universitaet-', 'https://www.uni-potsdam.de/de/nachrichten/detail/2019-03-20-europa-mitgestalten-am-26-mai-stehen-die-wahl-zum-europaparlament-an', 'https://www.uni-potsdam.de/de/nachrichten/detail/2019-03-19-unterwegs-in-den-anden-8-maerz-2019-zwischen-vulkanen-salzseen-zuris-und-guanacos', 'https://www.uni-potsdam.de/de/nachrichten/detail/2019-03-18-alexa-bist-du-intelligent-von-kuenstlicher-intelligenz-und-wofuer-man-sie-braucht', 'https://www.uni-potsdam.de/de/nachrichten/detail/2019-03-15-unterwegs-in-den-anden-7-maerz-2019-von-salzseen-und-elektromobilitaet', 'https://www.uni-potsdam.de/de/nachrichten/detail/2019-03-15-wie-gewalt-eskaliert-eine-forschungsgruppe-hat-die-geschehnisse-rund-um-den-g20-gipfel-', 'https://www.uni-potsdam.de/de/nachrichten/detail/2019-03-15-unterwegs-in-den-anden-6-maerz-2019-der-teufel-ist-im-berg-von-extremen-klimabedingunge', 'https://www.uni-potsdam.de/de/nachrichten/detail/2019-03-14-ein-guter-plan-potsdamer-forschungsdatenmanagement-nimmt-konturen-an-und-wird-ausgezeic', 'https://www.uni-potsdam.de/de/nachrichten/detail/2019-03-14-unterwegs-in-den-anden-5-maerz-2019-die-zwillinge-von-la-poma', 'https://www.uni-potsdam.de/de/nachrichten/detail/2019-03-13-unterwegs-in-den-anden-4-maerz-2019-ein-wink-des-himmels', 'https://www.uni-potsdam.de/de/nachrichten/detail/2019-03-12-unterwegs-in-den-anden-3-maerz-2019-wo-ist-gabi-von-lamas-pferden-guerteltieren-und-and', 'https://www.uni-potsdam.de/de/nachrichten/detail/2019-03-11-unterwegs-in-den-anden-2-maerz-2019-rio-de-las-conchas', 'https://www.uni-potsdam.de/de/nachrichten/detail/2019-03-11-nachwuchs-foerdern-32-film-und-fernsehwissenschaftliches-kolloquium-an-der-filmuniversi', 'https://www.uni-potsdam.de/de/nachrichten/detail/2019-03-07-unterwegs-in-den-anden-1-maerz-2019-von-punktwolken-falten-und-erdbeben', 'https://www.uni-potsdam.de/de/nachrichten/detail/2019-03-06-pitch-universitaet-bildet-internationalen-entrepreneurship-hub', 'https://www.uni-potsdam.de/de/nachrichten/detail/2019-03-06-unterwegs-in-den-anden-28-februar-2019-cafayate-aus-der-luft', 'https://www.uni-potsdam.de/de/nachrichten/detail/2019-03-05-unterwegs-in-den-anden-27-februar-2019-sensores-remotos-y-casa-de-empanadas', 'https://www.uni-potsdam.de/de/nachrichten/detail/2019-03-05-this-is-not-a-thornbush-kunst-am-bau-fuer-die-rabbiner-ausbildung', 'https://www.uni-potsdam.de/de/nachrichten/detail/2019-03-04-unterwegs-in-den-anden-26-februar-2019-aqui-vive-el-sol', 'https://www.uni-potsdam.de/de/nachrichten/detail/2019-03-04-unterwegs-in-den-anden-25-februar-2019-casa-de-los-loros', 'https://www.uni-potsdam.de/de/nachrichten/detail/2019-03-02-unterwegs-in-den-anden-2324-februar-2019-bienvenido-a-argentina', 'https://www.uni-potsdam.de/de/nachrichten/detail/2019-03-01-empfehlungen-zu-forschung-und-innovation-expertenkommission-uebergibt-ihr-12-jahresguta', 'https://www.uni-potsdam.de/de/nachrichten/detail/2019-03-01-kongresspreis-2018-fuer-das-refugee-teachers-program', 'https://www.uni-potsdam.de/de/nachrichten/detail/2019-02-28-unterwegs-in-den-anden-doktoranden-des-graduiertenkollegs-strategy-auf-exkursion-in-wes', 'https://www.uni-potsdam.de/de/nachrichten/detail/2019-02-27-ein-leitbild-fuer-die-lehre-gestalten', 'https://www.uni-potsdam.de/de/nachrichten/detail/2019-02-25-offene-universitaet-gesellschaftscampus-golm-testet-virtuellen-rundgang-durch-den-wisse', 'https://www.uni-potsdam.de/de/nachrichten/detail/2019-02-19-das-potenzial-von-humboldt-fuer-internationale-beziehungen-wurde-lange-nicht-genutzt-po', 'https://www.uni-potsdam.de/de/nachrichten/detail/2019-02-18-zehn-fragen-fuer-ein-buch-philosophie-der-menschenrechte-in-theorie-und-praxis-ueber-au', 'https://www.uni-potsdam.de/de/nachrichten/detail/2019-02-14-mit-dem-richtigen-gen-gegen-stress-wie-ein-europaeisches-graduiertenprogramm-die-stress', 'https://www.uni-potsdam.de/de/nachrichten/detail/2019-02-11-land-staerkt-lehrerbildung-plaene-zum-ausbau-der-studienkapazitaeten-vorgestellt', 'https://www.uni-potsdam.de/de/nachrichten/detail/2019-02-08-unterstuetzung-fuer-den-fakultaetsausbau-uni-potsdam-nimmt-am-future-lab-kooperationsgo', 'https://www.uni-potsdam.de/de/nachrichten/detail/2019-02-08-bundesverdienstkreuz-fuer-prof-georg-ebersbach', 'https://www.uni-potsdam.de/de/nachrichten/detail/2019-02-06-zum-wissen-sensibler-medien-forschungskolleg-sensing-bei-der-transmediale', 'https://www.uni-potsdam.de/de/nachrichten/detail/2019-02-05-hightech-strategie-2025-wissenschaftsministerium-beruft-prof-katharina-hoelzle-und-prof', 'https://www.uni-potsdam.de/de/nachrichten/detail/2019-01-30-unbehagen-wagen-erstes-tedxunipotsdam-event-regt-zum-umdenken-an', 'https://www.uni-potsdam.de/de/nachrichten/detail/2019-01-24-besuch-aus-potsdams-partnerstadt-sioux-falls', 'https://www.uni-potsdam.de/de/nachrichten/detail/2019-01-23-nicht-ohne-experimente-brigitte-duvinage-bereitet-angehende-lehrkraefte-in-chemie-auf-d', 'https://www.uni-potsdam.de/de/nachrichten/detail/2019-01-23-erfolgreich-im-spitzen-und-freizeitsport-empfang-fuer-die-aktiven-der-universitaet-pots', 'https://www.uni-potsdam.de/de/nachrichten/detail/2019-01-21-herzlichen-glueckwunsch-hasso-plattner-feiert-seinen-75-geburtstag', 'https://www.uni-potsdam.de/de/nachrichten/detail/2019-01-21-wissenschaft-im-zentrum-open-air-ausstellung-in-der-stadtmitte-zeigt-die-vielfalt-der-f', 'https://www.uni-potsdam.de/de/nachrichten/detail/2019-01-17-die-ideale-der-aufklaerung-hochhalten-neujahrsempfang-2019-mit-appell-zur-teilhabe', 'https://www.uni-potsdam.de/de/nachrichten/detail/2019-01-15-deutscher-olympischer-sportbund-verleiht-wissenschaftspreis-in-potsdam', 'https://www.uni-potsdam.de/de/nachrichten/detail/2019-01-15-zehn-fragen-fuer-ein-buch-digitale-oeffentlichkeiten-und-intelligente-kooperation-zur-a', 'https://www.uni-potsdam.de/de/nachrichten/detail/2019-01-09-buergeraemter-bereit-fuer-die-digitale-zukunft', 'https://www.uni-potsdam.de/de/nachrichten/detail/2018-12-13-neues-forschungsgebaeude-am-campus-golm', 'https://www.uni-potsdam.de/de/nachrichten/detail/2018-12-12-zum-wohle-der-dynastien-was-briefe-ueber-die-herrschaft-brandenburgischer-kurfuerstinne', 'https://www.uni-potsdam.de/de/nachrichten/detail/2018-12-04-ein-planet-mit-vielen-unbekannten-frank-spahn-ueber-die-aktuelle-mars-mission-und-einen', 'https://www.uni-potsdam.de/de/nachrichten/detail/2018-12-04-fuenf-jahre-school-of-jewish-theology', 'https://www.uni-potsdam.de/de/nachrichten/detail/2018-12-04-matlab-und-oxygen-universitaet-potsdam-erwirbt-campuslizenzen', 'https://www.uni-potsdam.de/de/nachrichten/detail/2018-12-03-mit-qualitaet-in-die-offensive-berufsbezogen-praxisorientiert-inklusionspaedagogisch-wi', 'https://www.uni-potsdam.de/de/nachrichten/detail/2018-11-30-potsdamer-monopoly-edition-erschienen-die-universitaet-potsdam-ist-mit-drei-standorten-', 'https://www.uni-potsdam.de/de/nachrichten/detail/2018-11-28-jedes-tier-ist-anders-biologinnen-erforschen-das-individuelle-verhalten-von-kleinsaeuge', 'https://www.uni-potsdam.de/de/nachrichten/detail/2018-11-21-hochschulsport-frei-vollversammlung-des-allgemeinen-deutschen-hochschulsportverbandes-i', 'https://www.uni-potsdam.de/de/nachrichten/detail/2018-11-19-boston-calling-potsdamer-studierende-nehmen-an-internationalem-biotechnologie-wettbewer', 'https://www.uni-potsdam.de/de/nachrichten/detail/2018-11-19-neues-aus-forschung-und-lehre', 'https://www.uni-potsdam.de/de/nachrichten/detail/2018-11-16-in-bewegung-allgemeiner-deutscher-hochschulsportverband-tagt-in-potsdam', 'https://www.uni-potsdam.de/de/nachrichten/detail/2018-11-15-besuch-aus-holland-lehramtsstudierende-der-mathematik-zu-gast-in-potsdam', 'https://www.uni-potsdam.de/de/nachrichten/detail/2018-11-14-grosses-professorium-empfang-der-neuberufenen-an-der-universitaet-potsdam', 'https://www.uni-potsdam.de/de/nachrichten/detail/2018-11-14-kann-pornografie-fair-sein-lisa-andergassen-ueber-gerechtigkeit-in-einer-umstrittenen-b', 'https://www.uni-potsdam.de/de/nachrichten/detail/2018-11-13-ein-kind-seiner-zeit-fontane-ein-jahrhundert-in-bewegung', 'https://www.uni-potsdam.de/de/nachrichten/detail/2018-11-13-volle-hoersaele-der-potsdamer-student-felix-lobrecht-startet-als-comedian-durch', 'https://www.uni-potsdam.de/de/nachrichten/detail/2018-11-13-zehn-fragen-fuer-ein-buch-pardes-bd-24-cultures-of-wissenschaft-des-judentums-at-200', 'https://www.uni-potsdam.de/de/nachrichten/detail/2018-11-07-durchblick-im-gruendungsdschungel-potsdam-transfer-beraet-gruender-und-solche-die-es-we', 'https://www.uni-potsdam.de/de/nachrichten/detail/2018-11-05-4-jahrestagung-des-verbundprojekts-nutriact-am-deutschen-institut-fuer-ernaehrungsforsc', 'https://www.uni-potsdam.de/de/nachrichten/detail/2018-11-01-das-beharrungsvermoegen-des-religioesen-im-saekularen-vi-jahrestagung-des-selma-stern-z', 'https://www.uni-potsdam.de/de/nachrichten/detail/2018-11-01-zum-arbeiten-ueber-die-grenze-soziologen-wollen-mehr-ueber-die-situation-polnischer-pfl', 'https://www.uni-potsdam.de/de/nachrichten/detail/2018-10-30-unterm-kapokbaum-wie-michael-burkart-hilft-den-botanischen-garten-von-sansibar-wiederzu', 'https://www.uni-potsdam.de/de/nachrichten/detail/2018-10-30-freiheit-auf-suedafrikanisch-wie-zwei-lehramtsstudentinnen-ihr-praxissemester-im-auslan', 'https://www.uni-potsdam.de/de/nachrichten/detail/2018-10-26-hoch-auf-den-roten-adler-neuer-kletterfelsen-auf-dem-campus-golm-eingeweiht', 'https://www.uni-potsdam.de/de/nachrichten/detail/2018-10-26-integrieren-statt-abschrecken-verwaltungswissenschaftlerin-sabine-kuhlmann-an-studie-de', 'https://www.uni-potsdam.de/de/nachrichten/detail/2018-10-26-innovative-ideen-auf-gutem-weg-beste-geschaeftskonzepte-im-senior-coaching-service-wett', 'https://www.uni-potsdam.de/de/nachrichten/detail/2018-10-24-voll-motiviert-potsdamer-forscherinnen-untersuchen-die-motivation-im-unterricht', 'https://www.uni-potsdam.de/de/nachrichten/detail/2018-10-23-botschafter-sri-lankas-im-botanischen-garten-heiliger-baum-im-fokus', 'https://www.uni-potsdam.de/de/nachrichten/detail/2018-10-22-international-war-studies-gestartet-erste-studierende-im-neuen-double-degree-masterstud', 'https://www.uni-potsdam.de/de/nachrichten/detail/2018-10-19-verstehen-hilft-heilen-das-europaweite-forschungsnetzwerk-vacure-soll-seltene-krankheit', 'https://www.uni-potsdam.de/de/nachrichten/detail/2018-10-18-der-lange-kampf-der-frauen-ringvorlesung-zum-schwangerschaftsabbruch-startet', 'https://www.uni-potsdam.de/de/nachrichten/detail/2018-10-17-wie-viel-offenheit-braucht-wissenschaft-von-den-verlockungen-der-open-science-und-ihren', 'https://www.uni-potsdam.de/de/nachrichten/detail/2018-10-16-mehr-macht-fuer-wenige-grosse-der-jurist-tobias-lettl-beobachtet-machtkonzentrationen-a', 'https://www.uni-potsdam.de/de/nachrichten/detail/2018-10-12-das-geheimnis-der-intelligenz-potsdamer-bildungswissenschaftlerin-an-berliner-exzellenz', 'https://www.uni-potsdam.de/de/nachrichten/detail/2018-10-12-prof-guenther-neuer-vorsitzender-der-landesrektorenkonferenz-praesident-der-universitae', 'https://www.uni-potsdam.de/de/nachrichten/detail/2018-10-04-was-wirkt-was-bleibt-was-kommt-workshop-zur-studieneingangsphase', 'https://www.uni-potsdam.de/de/nachrichten/detail/2018-10-04-beziehungskarussell-im-kosmos-stephan-geier-erforscht-doppelsternsysteme', 'https://www.uni-potsdam.de/de/nachrichten/detail/2018-10-02-paragrafen-auf-der-umlaufbahn-wie-ein-vertrag-sichert-dass-der-weltraum-zum-wohle-aller', 'https://www.uni-potsdam.de/de/nachrichten/detail/2018-10-02-das-glimmende-universum-veroeffentlichung-in-nature', 'https://www.uni-potsdam.de/de/nachrichten/detail/2018-09-28-it-nachwuchsingenieure-an-der-digital-engineering-fakultaet-feierlich-verabschiedet', 'https://www.uni-potsdam.de/de/nachrichten/detail/2018-09-27-aus-dem-dunkel-ins-licht-forschungsinitiative-rueckt-die-potsdamer-astrophysik-in-den-f', 'https://www.uni-potsdam.de/de/nachrichten/detail/2018-09-26-sich-wehren-lernen-wie-im-hochschulsportkurs-realistische-selbstverteidigung-im-kleinen', 'https://www.uni-potsdam.de/de/nachrichten/detail/2018-09-14-schultueten-fuer-alle-austauschstudierende-aus-aller-welt-beim-zweiwoechigen-deutschlan', 'https://www.uni-potsdam.de/de/nachrichten/detail/2018-09-13-weltweit-auf-talentsuche-universitaet-potsdam-stiftet-start-up-preis-auf-der-diesjaehri', 'https://www.uni-potsdam.de/de/nachrichten/detail/2018-09-12-forschung-am-fliessband-im-anwendungszentrum-industrie-40-untersuchen-wissenschaftler-d', 'https://www.uni-potsdam.de/de/nachrichten/detail/2018-09-11-20-jahre-deutsch-ungarischer-doppelabschluss-500-absolventen-im-studiengang-deutsches-r', 'https://www.uni-potsdam.de/de/nachrichten/detail/2018-09-10-forscher-identifizieren-moegliches-medikament-fuer-seltene-erkrankung', 'https://www.uni-potsdam.de/de/nachrichten/detail/2018-09-05-die-mathematik-der-natur-gunnar-lischeid-erforscht-die-umwelt-mit-modernen-methoden-des', 'https://www.uni-potsdam.de/de/nachrichten/detail/2018-08-30-potsdamer-rechtswissenschaftler-ist-mitglied-im-un-menschenrechtsausschuss', 'https://www.uni-potsdam.de/de/nachrichten/detail/2018-08-29-wie-literatur-und-kunst-erinnern-ein-deutsch-polnisches-projekt-ist-dem-gedaechtnis-auf', 'https://www.uni-potsdam.de/de/nachrichten/detail/2018-08-23-ein-stellarer-exot-gibt-ausblick-auf-ein-moegliches-schicksal-unserer-sonne', 'https://www.uni-potsdam.de/de/nachrichten/detail/2018-08-23-leuchtende-gasnebel-astrophysiker-erforschen-die-huellen-von-galaxien-im-jungen-univers', 'https://www.uni-potsdam.de/de/nachrichten/detail/2018-08-22-netzwerk-havarie', 'https://www.uni-potsdam.de/de/nachrichten/detail/2018-08-20-hassrede-und-fake-news-die-suedkoreanische-juristin-jungnyum-lee-forscht-als-gastprofes', 'https://www.uni-potsdam.de/de/nachrichten/detail/2018-08-17-neu-bewilligt-das-netzwerk-digitale-geisteswissenschaften', 'https://www.uni-potsdam.de/de/nachrichten/detail/2018-08-15-weniger-ist-mehr-jedenfalls-beim-konsum-wirtschaftswissenschaftler-wollen-mehr-verstaen', 'https://www.uni-potsdam.de/de/nachrichten/detail/2018-08-14-die-pariserin-fotoausstellung-des-alumnus-jean-baptiste-lhuillier', 'https://www.uni-potsdam.de/de/nachrichten/detail/2018-08-14-zehn-fragen-fuer-ein-buch-die-migration-bulgarischer-staatsbuerger-nach-deutschland-urs', 'https://www.uni-potsdam.de/de/nachrichten/detail/2018-08-13-zur-sicherheitspolitik-europas-vortrag-des-politikwissenschaftlers-herfried-muenkler', 'https://www.uni-potsdam.de/de/nachrichten/detail/2018-08-09-ein-birnbaum-fuer-fontane-brandenburgs-ministerpraesident-dietmar-woidke-zu-besuch-im-f', 'https://www.uni-potsdam.de/de/nachrichten/detail/2018-08-08-dem-roboter-so-nah-forscher-untersuchen-die-beziehung-zwischen-mensch-und-maschine', 'https://www.uni-potsdam.de/de/nachrichten/detail/2018-08-07-millionenfache-verstaerkung-elektromagnetischer-wellen-nahe-jupitermond-ganymed', 'https://www.uni-potsdam.de/de/nachrichten/detail/2018-08-02-mehr-leistung-forscher-der-universitaet-potsdam-und-des-helmholtz-zentrums-berlin-gewin', 'https://www.uni-potsdam.de/de/nachrichten/detail/2018-07-31-das-raetsel-um-den-regenwald-geoforscher-zeigen-dass-menschen-bereits-vor-2600-jahren-d', 'https://www.uni-potsdam.de/de/nachrichten/detail/2018-07-30-gebildet-durch-den-sommer-das-ferienprogramm-der-universitaet-zieht-zahlreiche-studiere', 'https://www.uni-potsdam.de/de/nachrichten/detail/2018-07-30-zehn-fragen-fuer-ein-buch-bildlichkeit-und-metaphorik-in-den-spaetmittelalterlichen-fas', 'https://www.uni-potsdam.de/de/nachrichten/detail/2018-07-18-geoforscher-christoph-reigber-erhaelt-die-cospar-william-nordberg-medaille', 'https://www.uni-potsdam.de/de/nachrichten/detail/2018-07-16-9-internationaler-summer-course-mit-den-college-students-of-william-mary', 'https://www.uni-potsdam.de/de/nachrichten/detail/2018-07-13-neuberufung-von-katharina-hoelzle-in-die-expertenkommission-forschung-und-innovation', 'https://www.uni-potsdam.de/de/nachrichten/detail/2018-07-12-der-fontane-code-hackathon-in-der-villa-quandt', 'https://www.uni-potsdam.de/de/nachrichten/detail/2018-07-10-un-women-ein-beispiel-fuer-gelungene-reformen-innerhalb-der-vereinten-nationen', 'https://www.uni-potsdam.de/de/nachrichten/detail/2018-07-09-einmischen-immer-wieder-politikprofessor-heinz-kleger-beendet-sein-letztes-semester-an-', 'https://www.uni-potsdam.de/de/nachrichten/detail/2018-07-06-hpi-bachelorpodium-studierende-der-digital-engineering-fakultaet-praesentieren-14-innov', 'https://www.uni-potsdam.de/de/nachrichten/detail/2018-07-05-erosion-durch-klimaveraenderungen-geoforscher-entdecken-fehler-bei-der-interpretation-t', 'https://www.uni-potsdam.de/de/nachrichten/detail/2018-06-29-myanmar-themenwoche-der-unigruppe-terre-des-hommes-ab-dem-2-juli', 'https://www.uni-potsdam.de/de/nachrichten/detail/2018-06-28-den-abschluss-im-blick-orientierung-von-anfang-an-fuer-ein-erfolgreiches-studium', 'https://www.uni-potsdam.de/de/nachrichten/detail/2018-06-27-ein-mrt-kommt-zum-patienten-die-universitaet-potsdam-ist-an-einem-kooperationsprojekt-b', 'https://www.uni-potsdam.de/de/nachrichten/detail/2018-06-25-gremienwahlen', 'https://www.uni-potsdam.de/de/nachrichten/detail/2018-06-25-gesundheitscampus-gegruendet-land-unterstuetzt-die-neue-fakultaet-mit-jaehrlich-66-mill', 'https://www.uni-potsdam.de/de/nachrichten/detail/2018-06-25-unterwegs-in-den-alpen-13-juni-2018', 'https://www.uni-potsdam.de/de/nachrichten/detail/2018-06-25-im-gewissenskonflikt-sportpsychologen-der-uni-potsdam-widmen-sich-der-dopingpraevention', 'https://www.uni-potsdam.de/de/nachrichten/detail/2018-06-25-unterwegs-in-den-alpen-12-juni-2018', 'https://www.uni-potsdam.de/de/nachrichten/detail/2018-06-25-unterwegs-in-den-alpen-11-juni-2018', 'https://www.uni-potsdam.de/de/nachrichten/detail/2018-06-25-unterwegs-in-den-alpen-10-juni-2018', 'https://www.uni-potsdam.de/de/nachrichten/detail/2018-06-25-unterwegs-in-den-alpen-9-juni-2018', 'https://www.uni-potsdam.de/de/nachrichten/detail/2018-06-25-unterwegs-in-den-alpen-8-juni-2018', 'https://www.uni-potsdam.de/de/nachrichten/detail/2018-06-25-unterwegs-in-den-alpen-7-juni-2018', 'https://www.uni-potsdam.de/de/nachrichten/detail/2018-06-25-unterwegs-in-den-alpen-6-juni-2018', 'https://www.uni-potsdam.de/de/nachrichten/detail/2018-06-22-universitaet-verabschiedete-feierlich-ihre-absolventen', 'https://www.uni-potsdam.de/de/nachrichten/detail/2018-06-20-tag-der-juristischen-fakultaet-wolf-ruediger-bub-preis-fuer-die-besten-absolventen', 'https://www.uni-potsdam.de/de/nachrichten/detail/2018-06-18-dreiwoechiger-intensivsprachkurs-fuer-modernes-hebraeisch', 'https://www.uni-potsdam.de/de/nachrichten/detail/2018-06-18-nuetzliches-feedback-in-einem-projekt-an-der-humanwissenschaftlichen-fakultaet-bewerten', 'https://www.uni-potsdam.de/de/nachrichten/detail/2018-06-13-absolventin-der-uni-potsdam-wird-erste-juedische-kantorin-in-niedersachsen-das-abraham-', 'https://www.uni-potsdam.de/de/nachrichten/detail/2018-06-13-licht-ins-dunkel-bringen-nachwuchsgruppe-angewandte-analytische-photonik-testet-neuarti', 'https://www.uni-potsdam.de/de/nachrichten/detail/2018-06-11-aufwind-fuers-e-learning-immer-mehr-potsdamer-lehrende-und-studierende-nutzen-digitale-', 'https://www.uni-potsdam.de/de/nachrichten/detail/2018-06-08-universitaetsbibliothek-potsdam-praesentiert-neue-version-des-judaica-portals-auf-dem-d', 'https://www.uni-potsdam.de/de/nachrichten/detail/2018-06-07-ehrung-fuer-potsdamer-geologen-manfred-strecker-ist-gsa-thompson-international-distingu', 'https://www.uni-potsdam.de/de/nachrichten/detail/2018-06-06-mehr-als-kaffeeklatsch-uni-potsdam-erneut-mit-programm-mentoring-plus-fuer-studentinnen', 'https://www.uni-potsdam.de/de/nachrichten/detail/2018-06-06-games-ueber-geschichte-gegenwart-und-zukunft-eines-jungen-mediums', 'https://www.uni-potsdam.de/de/nachrichten/detail/2018-06-04-schafe-im-park-sanssouci-universitaet-potsdam-begleitet-das-beweidungsprojekt-wissensch', 'https://www.uni-potsdam.de/de/nachrichten/detail/2018-06-04-neues-aus-forschung-und-lehre', 'https://www.uni-potsdam.de/de/nachrichten/detail/2018-06-04-auf-nach-indien-ein-forschungs-und-austauschprogramm-verbindet-die-universitaeten-potsd', 'https://www.uni-potsdam.de/de/nachrichten/detail/2018-05-31-welcher-studiengang-passt-zu-mir-online-self-assessments-in-rechts-und-ernaehrungswisse', 'https://www.uni-potsdam.de/de/nachrichten/detail/2018-05-30-elion-feiert-premiere-student-tobias-wilke-bringt-mit-kommilitonen-ein-eigenes-musical-', 'https://www.uni-potsdam.de/de/nachrichten/detail/2018-05-30-mit-nase-ohr-und-herz-dem-hunger-auf-der-spur-psychologen-untersuchen-einen-vielverspre', 'https://www.uni-potsdam.de/de/nachrichten/detail/2018-05-28-die-besten-nachwuchsinformatiker-informatik-olympiade-kuert-junge-it-talente', 'https://www.uni-potsdam.de/de/nachrichten/detail/2018-05-28-es-funktioniert-nicht-von-allein-studiendekan-prof-dr-bernd-schmidt-engagiert-sich-fuer', 'https://www.uni-potsdam.de/de/nachrichten/detail/2018-05-28-zehn-fragen-fuer-ein-buch-jewbus-jewish-hindus-other-jewish-encounters-with-east-asian-', 'https://www.uni-potsdam.de/de/nachrichten/detail/2018-05-24-neunmal-gold-universitaet-potsdam-bei-deutschen-hochschulmeisterschaften-im-schwimmen-u', 'https://www.uni-potsdam.de/de/nachrichten/detail/2018-05-24-kunst-um-1930-potsdamer-studierende-fuehren-durch-das-haus-der-kulturen-der-welt', 'https://www.uni-potsdam.de/de/nachrichten/detail/2018-05-23-zehnjaehrige-freundschaft-studierende-aus-den-usa-zu-gast-an-der-universitaet-potsdam', 'https://www.uni-potsdam.de/de/nachrichten/detail/2018-05-23-zum-beispiel-mord-alix-giraud-vergleicht-deutsches-und-franzoesisches-strafrecht', 'https://www.uni-potsdam.de/de/nachrichten/detail/2018-05-18-hollyhood-hip-hop-social-justice-filmfestival', 'https://www.uni-potsdam.de/de/nachrichten/detail/2018-05-16-amerika-zwischen-sklaverei-und-demokratie-hannah-spahn-untersucht-afroamerikanische-lit', 'https://www.uni-potsdam.de/de/nachrichten/detail/2018-05-14-unter-den-wolken-unbemannte-fluggeraete-im-dienste-der-wissenschaft', 'https://www.uni-potsdam.de/de/nachrichten/detail/2018-05-09-freiheit-on-demand-wie-sich-das-fernsehen-40-inszeniert', 'https://www.uni-potsdam.de/de/nachrichten/detail/2018-05-07-gesetze-sind-wie-mathematische-formeln-warum-es-die-georgierin-nazi-tsirekidze-zum-jura', 'https://www.uni-potsdam.de/de/nachrichten/detail/2018-05-07-forschung-zum-mitmachen-universitaet-war-gastgeberin-des-potsdamer-tags-der-wissenschaf', 'https://www.uni-potsdam.de/de/nachrichten/detail/2018-05-03-neue-tierart-in-der-nordsee', 'https://www.uni-potsdam.de/de/nachrichten/detail/2018-05-02-bewerbungsphase-fuer-ihp-sommerschule-gestartet', 'https://www.uni-potsdam.de/de/nachrichten/detail/2018-05-02-tore-teams-und-theorie-mathematiker-ulrich-kortenkamp-bringt-wahrscheinlichkeitsrechnun', 'https://www.uni-potsdam.de/de/nachrichten/detail/2018-04-30-ein-gefuehl-fuer-schule', 'https://www.uni-potsdam.de/de/nachrichten/detail/2018-04-30-zehn-fragen-fuer-ein-buch-geographien-des-fussballs', 'https://www.uni-potsdam.de/de/nachrichten/detail/2018-04-26-bessel-forschungspreistraeger-thorsten-wagener-zu-gast-in-potsdam', 'https://www.uni-potsdam.de/de/nachrichten/detail/2018-04-25-gemuese-einmal-anders-sprachenvielfalt-auf-einem-staedtischen-wochenmarkt', 'https://www.uni-potsdam.de/de/nachrichten/detail/2018-04-25-volle-pulle-leben-standortmanagerin-agnes-von-matuschka-hat-ambitionierte-ziele-fuer-de', 'https://www.uni-potsdam.de/de/nachrichten/detail/2018-04-25-unterwegs-in-nordamerika-28-maerz-kanadische-gastlichkeit', 'https://www.uni-potsdam.de/de/nachrichten/detail/2018-04-24-fuer-einen-guten-start-workshop-bereitet-neue-mitarbeiterinnen-und-mitarbeiter-auf-die-', 'https://www.uni-potsdam.de/de/nachrichten/detail/2018-04-24-zurueck-in-den-beruf-neue-absolventen-des-qualifizierungsprogramms-fuer-gefluechtete-le', 'https://www.uni-potsdam.de/de/nachrichten/detail/2018-04-24-widmungsfeier-neues-domizil-fuer-die-juedische-theologie', 'https://www.uni-potsdam.de/de/nachrichten/detail/2018-04-18-kakteen-in-infrarot-fernerkundung-im-botanischen-garten', 'https://www.uni-potsdam.de/de/nachrichten/detail/2018-04-18-schau-mich-an-wie-sich-digitale-kommunikation-auf-unseren-alltag-auswirkt', 'https://www.uni-potsdam.de/de/nachrichten/detail/2018-04-17-partner-in-china-gewinnen', 'https://www.uni-potsdam.de/de/nachrichten/detail/2018-04-13-die-drohne-als-vogel-biologen-und-geowissenschaftler-wollen-umweltdaten-mit-unbemannten', 'https://www.uni-potsdam.de/de/nachrichten/detail/2018-04-12-prof-dr-klaus-toepfer-erhielt-ehrendoktorwuerde', 'https://www.uni-potsdam.de/de/nachrichten/detail/2018-04-11-gruene-doerfer-fuer-suedafrika-universitaet-unterstuetzt-mit-oekotechnologie-und-sommer', 'https://www.uni-potsdam.de/de/nachrichten/detail/2018-04-11-pollenjagd-in-sibirien-natalia-rudaya-rekonstruiert-die-vegetation-und-das-klima-suedsi', 'https://www.uni-potsdam.de/de/nachrichten/detail/2018-04-11-mut-zum-risiko-und-freude-an-der-innovation-alexander-kritikos-forscht-und-lehrt-am-deu', 'https://www.uni-potsdam.de/de/nachrichten/detail/2018-04-04-wechselspiele-der-natur-wie-artenvielfalt-und-oekologische-dynamik-zusammenhaengen', 'https://www.uni-potsdam.de/de/nachrichten/detail/2018-04-04-digitale-zukunft-mitgestalten-neue-studiengaenge-an-der-digital-engineering-fakultaet-v', 'https://www.uni-potsdam.de/de/nachrichten/detail/2018-04-03-zehn-fragen-fuer-ein-buch-lebensweltliche-erfahrungen-und-kollektive-zuschreibungen-bei', 'https://www.uni-potsdam.de/de/nachrichten/detail/2018-03-29-was-macht-eigentlich-das-zfq-wie-sich-qualitaet-messen-und-verbessern-laesst', 'https://www.uni-potsdam.de/de/nachrichten/detail/2018-03-29-vom-copyshop-zum-verlagshaus-der-potsdamer-universitaetsverlag-wird-20', 'https://www.uni-potsdam.de/de/nachrichten/detail/2018-03-28-unterwegs-in-nordamerika-27-maerz-boote-auf-dem-ozean', 'https://www.uni-potsdam.de/de/nachrichten/detail/2018-03-28-alles-am-richtigen-platz-pflanzenphysiologen-untersuchen-steuermechanismen-der-pflanzen', 'https://www.uni-potsdam.de/de/nachrichten/detail/2018-03-28-unterwegs-in-nordamerika-26-maerz-zentral-oder-dezentral', 'https://www.uni-potsdam.de/de/nachrichten/detail/2018-03-27-neu-bewilligt-das-forschungskolleg-sensing-zum-wissen-sensibler-medien', 'https://www.uni-potsdam.de/de/nachrichten/detail/2018-03-26-unterwegs-in-nordamerika-25-maerz-2018-lernraeume-und-laermraeume', 'https://www.uni-potsdam.de/de/nachrichten/detail/2018-03-26-arbeitskreis-evaluation-und-qualitaetssicherung-tagte-in-potsdam', 'https://www.uni-potsdam.de/de/nachrichten/detail/2018-03-26-humboldt-gastprofessor-peter-van-der-beek-an-der-universitaet-potsdam', 'https://www.uni-potsdam.de/de/nachrichten/detail/2018-03-22-umgestellt-und-ausgebaut-universitaetsverlag-praesentiert-sich-zum-20-geburtstag-mit-ne', 'https://www.uni-potsdam.de/de/nachrichten/detail/2018-03-21-gemuetlichkeit-in-der-petrischale-potsdamer-biowissenschaftler-gehen-neue-wege-in-der-a', 'https://www.uni-potsdam.de/de/nachrichten/detail/2018-03-19-neues-altes-von-fontane', 'https://www.uni-potsdam.de/de/nachrichten/detail/2018-03-15-lebensnotwendig-und-doch-nicht-ueberall-verfuegbar-prof-dr-axel-bronstert-koordiniert-e', 'https://www.uni-potsdam.de/de/nachrichten/detail/2018-03-15-mut-zu-entwicklungen-arbeitskreis-evaluation-und-qualitaetssicherung-tagt-in-potsdam', 'https://www.uni-potsdam.de/de/nachrichten/detail/2018-03-08-walter-homolka-als-versoehner-des-jahres-geehrt', 'https://www.uni-potsdam.de/de/nachrichten/detail/2018-03-07-urs-granacher-vorsitzender-der-potas-kommission-stellt-attribute-fuer-die-potenzialanal', 'https://www.uni-potsdam.de/de/nachrichten/detail/2018-03-07-zehn-fragen-fuer-ein-buch-musikarbeit-im-kontext-von-inklusion-und-integration-wissensc', 'https://www.uni-potsdam.de/de/nachrichten/detail/2018-03-07-der-club-der-mitdenkenden-wissenschaftliches-netzwerk-erforscht-politische-auseinanders', 'https://www.uni-potsdam.de/de/nachrichten/detail/2018-03-05-forschen-entdecken-mitmachen-6-potsdamer-tag-der-wissenschaften-zu-gast-auf-dem-univers', 'https://www.uni-potsdam.de/de/nachrichten/detail/2018-03-01-selber-schuld-gemeinsam-gegen-individualisierte-schuldzuweisungen', 'https://www.uni-potsdam.de/de/nachrichten/detail/2018-02-28-was-sprachen-ueber-sprache-verraten-die-linguistin-doreen-georgi-erforscht-grammatische', 'https://www.uni-potsdam.de/de/nachrichten/detail/2018-02-27-vive-la-ballance-6-universitaetsball-der-uni-potsdam', 'https://www.uni-potsdam.de/de/nachrichten/detail/2018-02-21-eine-vision-vom-passenden-beruf-start-up-visionyou-verbindet-soziale-verantwortung-mit-', 'https://www.uni-potsdam.de/de/nachrichten/detail/2018-02-20-unterwegs-in-kenia-1718-februar-2018-he-who-goes-gently-goes-safely-he-who-goes-safely', 'https://www.uni-potsdam.de/de/nachrichten/detail/2018-02-19-unterwegs-in-kenia-16-februar-2018-elmentaita-ort-des-staubes', 'https://www.uni-potsdam.de/de/nachrichten/detail/2018-02-16-unterwegs-in-kenia-15-februar-2018-oloonongot-berg-der-vielen-kaemme', 'https://www.uni-potsdam.de/de/nachrichten/detail/2018-02-15-unterwegs-in-kenia-14-februar-2018-enemenenga-tor-zur-hoelle', 'https://www.uni-potsdam.de/de/nachrichten/detail/2018-02-14-open-access-universitaet-potsdam-weltweit-auf-platz-drei-bei-der-nutzung-von-knowledge-', 'https://www.uni-potsdam.de/de/nachrichten/detail/2018-02-14-unterwegs-in-kenia-13-februar-2018-conna-barridi-oder-die-kalte-ecke', 'https://www.uni-potsdam.de/de/nachrichten/detail/2018-02-14-unterwegs-in-kenia-12-februar-2018-una-fanya-nini-hapa-hii-ni-shamba-letu', 'https://www.uni-potsdam.de/de/nachrichten/detail/2018-02-12-unterwegs-in-kenia-11-februar-2018-begegnung-im-land-der-massai', 'https://www.uni-potsdam.de/de/nachrichten/detail/2018-02-07-grenzgaenger-sonderforschungsbereich-untersucht-wie-flexibel-sprache-wirklich-ist', 'https://www.uni-potsdam.de/de/nachrichten/detail/2018-02-06-zusammenarbeit-mit-suedafrika-verstaerken', 'https://www.uni-potsdam.de/de/nachrichten/detail/2018-02-01-ueber-die-gnade-im-recht-abschiedsvorlesung-von-prof-dr-detlev-w-belling', 'https://www.uni-potsdam.de/de/nachrichten/detail/2018-01-30-abrupte-veraenderungen-entdecken-ob-bei-ozeanwaerme-oder-finanzmaerkten', 'https://www.uni-potsdam.de/de/nachrichten/detail/2018-01-30-der-beste-kam-aus-koeln-battle-of-universities-2018-erfolgreich-beendet', 'https://www.uni-potsdam.de/de/nachrichten/detail/2018-01-29-faszination-vietnam-multivisions-schau-am-campus-griebnitzsee', 'https://www.uni-potsdam.de/de/nachrichten/detail/2018-01-24-mitgemacht-charity-aktion-des-hochschulsports', 'https://www.uni-potsdam.de/de/nachrichten/detail/2018-01-24-international-erfolgreich-sportlerempfang-2018-ehrte-die-besten', 'https://www.uni-potsdam.de/de/nachrichten/detail/2018-01-24-schau-mir-in-die-augen-eine-sozialpsychologische-studie-geht-dem-beruehmten-ersten-eind', 'https://www.uni-potsdam.de/de/nachrichten/detail/2018-01-18-grenzen-ueberwinden-potenziale-nutzen-deutsch-russischer-studierendenaustausch-als-schl', 'https://www.uni-potsdam.de/de/nachrichten/detail/2018-01-16-kostbares-gut-an-der-universitaet-potsdam-werden-ausgefuellten-frageboegen-des-brandenb', 'https://www.uni-potsdam.de/de/nachrichten/detail/2018-01-12-universitaeten-mainz-und-potsdam-kooperieren-mit-vietnamesischen-hochschulen-internatio', 'https://www.uni-potsdam.de/de/nachrichten/detail/2018-01-10-botschafterin-frankreichs-zu-gast-an-der-universitaet-potsdam', 'https://www.uni-potsdam.de/de/nachrichten/detail/2018-01-10-frischer-wind-in-der-kommune-verwaltungswissenschaftler-bilden-ein-europaeisches-netzwe', 'https://www.uni-potsdam.de/de/nachrichten/detail/2018-01-09-international-meetup-subsahara-afrika', 'https://www.uni-potsdam.de/de/nachrichten/detail/2018-01-04-potsdamer-physiker-prof-dr-reimund-gerhard-ist-praesident-der-ieee-dielectrics-and-elec', 'https://www.uni-potsdam.de/de/nachrichten/detail/2018-01-03-die-schule-im-schatten-was-nachhilfe-in-japan-und-anderswo-leisten-kann-und-was-nicht', 'https://www.uni-potsdam.de/de/nachrichten/detail/2017-12-20-mit-allen-sinnen-forschen-eva-kimminich-ueber-rap-flow-und-filterblasen', 'https://www.uni-potsdam.de/de/nachrichten/detail/2017-12-20-weihnachts-charity-aktion-2017-des-vereins-zur-foerderung-des-hochschulsports', 'https://www.uni-potsdam.de/de/nachrichten/detail/2017-12-20-prof-dr-manfred-strecker-als-praesident-der-geounion-wiedergewaehlt', 'https://www.uni-potsdam.de/de/nachrichten/detail/2017-12-18-10-dak-firmenlauf-am-neuen-palais-hochschulsport-stellt-startplaetze-fuer-mitarbeiterin', 'https://www.uni-potsdam.de/de/nachrichten/detail/2017-12-18-leibniz-preis-fuer-physikerin-allesandra-buonanno-honorarprofessorin-der-uni-potsdam-mi', 'https://www.uni-potsdam.de/de/nachrichten/detail/2017-12-15-selbstlernzone-am-neuen-palais-eroeffnet', 'https://www.uni-potsdam.de/de/nachrichten/detail/2017-12-14-studienstart-mit-kennenlernspiel-studentin-des-it-systems-engineering-gewinnt-freshup-2', 'https://www.uni-potsdam.de/de/nachrichten/detail/2017-12-14-portal-alumni-2017-aktuelle-ausgabe-des-absolventenmagazins-der-universitaet-potsdam-er', 'https://www.uni-potsdam.de/de/nachrichten/detail/2017-12-13-hochschulentwicklung-weltweit-internationaler-multiplikatoren-workshop-an-der-universit', 'https://www.uni-potsdam.de/de/nachrichten/detail/2017-12-13-gemeinsam-gegen-die-angst-florian-weck-forscht-zur-uebertriebenen-furcht-vor-krankheite', 'https://www.uni-potsdam.de/de/nachrichten/detail/2017-12-11-sind-die-lichter-angezuendet-campus-cantabile-und-sinfonietta-potsdam-musizieren-am-18-', 'https://www.uni-potsdam.de/de/nachrichten/detail/2017-12-11-alt-aber-bitte-nicht-krank-forscher-suchen-nach-sicheren-vorboten-von-altersbedingten-e', 'https://www.uni-potsdam.de/de/nachrichten/detail/2017-12-07-eine-frage-der-gene-ernaehrungsforscher-suchen-nach-interaktionen-zwischen-lebensstil-u', 'https://www.uni-potsdam.de/de/nachrichten/detail/2017-12-06-diw-und-uni-potsdam-veroeffentlichen-studie-zum-mindestlohn-rund-18-millionen-beschaeft', 'https://www.uni-potsdam.de/de/nachrichten/detail/2017-12-06-schoen-heiss-schoen-kalt-der-geomikrobiologe-dirk-wagner-erforscht-kleinstes-leben-in-e', 'https://www.uni-potsdam.de/de/nachrichten/detail/2017-12-04-fruehe-diagnose-von-pankreatitis-ermoeglicht-innovationspreis-berlin-brandenburg-2017-a', 'https://www.uni-potsdam.de/de/nachrichten/detail/2017-12-04-einatmen-ausatmen-in-der-hochschulambulanz-der-universitaet-werden-nachwuchsathleten-be', 'https://www.uni-potsdam.de/de/nachrichten/detail/2017-12-01-davon-koennen-viele-studierende-nur-traeumen-potsdamer-team-beim-biotechnologie-wettbew', 'https://www.uni-potsdam.de/de/nachrichten/detail/2017-12-01-forschung-weltweit-das-praesidium-schreibt-erneut-anschubfinanzierung-fuer-internationa', 'https://www.uni-potsdam.de/de/nachrichten/detail/2017-11-30-morsche-knochen-wo-stress-im-koerper-seine-spuren-hinterlaesst', 'https://www.uni-potsdam.de/de/nachrichten/detail/2017-11-29-alles-chemie-heisenberg-stipendiatin-dr-claudia-pacholski-ist-in-vielen-labors-zu-hause', 'https://www.uni-potsdam.de/de/nachrichten/detail/2017-11-27-fit-vor-dem-bildschirm-mediziner-sportwissenschaftler-und-ingenieure-entwickeln-ein-tel', 'https://www.uni-potsdam.de/de/nachrichten/detail/2017-11-24-mit-rosa-brille-am-alten-markt-potsdamer-studierende-gewinnen-den-deutschen-multimediap', 'https://www.uni-potsdam.de/de/nachrichten/detail/2017-11-23-balance-im-detail-dfg-forschergruppe-traceage-untersucht-das-zusammenspiel-von-spurenel', 'https://www.uni-potsdam.de/de/nachrichten/detail/2017-11-22-verleihung-des-potsdamer-kongresspreises-2017', 'https://www.uni-potsdam.de/de/nachrichten/detail/2017-11-22-die-balance-halten-didaktiker-entwickeln-konzepte-fuer-zeitgemaessen-grundschulunterric', 'https://www.uni-potsdam.de/de/nachrichten/detail/2017-11-22-international-meetup-russland', 'https://www.uni-potsdam.de/de/nachrichten/detail/2017-11-20-von-gelben-moehren-leuchtenden-tieraugen-und-zufaelligen-momenten-filme-zu-kinderfragen', 'https://www.uni-potsdam.de/de/nachrichten/detail/2017-11-20-neues-aus-forschung-und-lehre', 'https://www.uni-potsdam.de/de/nachrichten/detail/2017-11-20-den-weg-zurueck-gemeinsam-gehen-rehaquantified-soll-menschen-nach-kardiologischen-erkra', 'https://www.uni-potsdam.de/de/nachrichten/detail/2017-11-20-reformation-und-freiheit-studierende-entwickeln-unterrichtsmaterialien-zum-lutherjahr', 'https://www.uni-potsdam.de/de/nachrichten/detail/2017-11-20-fahnen-von-terre-des-femmes-wehen-an-der-uni-potsdam-senat-sagt-nein-zu-gewalt-an-fraue', 'https://www.uni-potsdam.de/de/nachrichten/detail/2017-11-17-zehn-fragen-fuer-ein-buch-mildred-harnack-und-die-rote-kapelle-in-berlin', 'https://www.uni-potsdam.de/de/nachrichten/detail/2017-11-17-dfg-praesident-mit-strategy-in-argentinien-unterwegs', 'https://www.uni-potsdam.de/de/nachrichten/detail/2017-11-16-erfolgreich-stoeren-netzwerk-mispex-verbindet-forschung-und-gesundheitsversorgung', 'https://www.uni-potsdam.de/de/nachrichten/detail/2017-11-15-schicht-um-schicht-geologen-untersuchen-die-sedimentbeckenbildung-in-den-anden', 'https://www.uni-potsdam.de/de/nachrichten/detail/2017-11-13-alle-an-einem-tisch-die-forschungsinitiative-gesundheitswissenschaften-bringt-verschied', 'https://www.uni-potsdam.de/de/nachrichten/detail/2017-11-10-ausgezeichnete-digitale-lehre-e-learning-award-2017-der-universitaet-potsdam-verliehen', 'https://www.uni-potsdam.de/de/nachrichten/detail/2017-11-07-100-jahre-oktoberrevolution-ausstellung-im-ikmz', 'https://www.uni-potsdam.de/de/nachrichten/detail/2017-11-07-grosses-professorium-empfang-der-neuberufenen-an-der-universitaet-potsdam', 'https://www.uni-potsdam.de/de/nachrichten/detail/2017-11-06-um-welt-im-wandel-podcasts-zur-potsdamer-summer-school-2017', 'https://www.uni-potsdam.de/de/nachrichten/detail/2017-11-02-unterwegs-in-nigeria-20-oktober-2017', 'https://www.uni-potsdam.de/de/nachrichten/detail/2017-11-01-was-jeder-einzelne-tut-zaehlt-zafer-yilmaz-erforscht-von-potsdam-aus-den-vormarsch-des-', 'https://www.uni-potsdam.de/de/nachrichten/detail/2017-11-01-unterwegs-in-nigeria-19-oktober-2017', 'https://www.uni-potsdam.de/de/nachrichten/detail/2017-11-01-der-menschliche-faktor-professor-emmanuel-mueller-arbeitet-an-neuen-methoden-fuer-die-d', 'https://www.uni-potsdam.de/de/nachrichten/detail/2017-10-31-unterwegs-in-nigeria-18-oktober-2017', 'https://www.uni-potsdam.de/de/nachrichten/detail/2017-10-30-unterwegs-in-nigeria-17-oktober-2017', 'https://www.uni-potsdam.de/de/nachrichten/detail/2017-10-27-unterwegs-in-nigeria-16-oktober-2017', 'https://www.uni-potsdam.de/de/nachrichten/detail/2017-10-26-schwierige-phase-studieneingang-uni-projekt-praesentiert-ergebnisse-in-oeffentlichem-wo', 'https://www.uni-potsdam.de/de/nachrichten/detail/2017-10-26-juden-und-ihre-nachbarn-jahrestagung-des-selma-stern-zentrum-fuer-juedische-studien-ber', 'https://www.uni-potsdam.de/de/nachrichten/detail/2017-10-25-unterwegs-in-nigeria-15-oktober-2017', 'https://www.uni-potsdam.de/de/nachrichten/detail/2017-10-24-stadt-land-klima-warum-globale-klimapolitik-auch-eine-frage-der-verwaltung-ist', 'https://www.uni-potsdam.de/de/nachrichten/detail/2017-10-20-unterwegs-in-nigeria-14-oktober-2017', 'https://www.uni-potsdam.de/de/nachrichten/detail/2017-10-20-ausgetauscht-azubis-der-uni-osnabrueck-zu-gast-in-potsdam', 'https://www.uni-potsdam.de/de/nachrichten/detail/2017-10-19-unterwegs-in-nigeria-13-oktober-2017', 'https://www.uni-potsdam.de/de/nachrichten/detail/2017-10-18-unterwegs-in-nigeria-12-oktober-2017', 'https://www.uni-potsdam.de/de/nachrichten/detail/2017-10-18-die-sprache-der-bilder-potsdamer-forscher-untersuchen-klimabilder-im-internet', 'https://www.uni-potsdam.de/de/nachrichten/detail/2017-10-17-unterwegs-in-nigeria-11-oktober-2017', 'https://www.uni-potsdam.de/de/nachrichten/detail/2017-10-17-besser-lesen-und-schreiben-studierende-der-universitaet-potsdam-unterstuetzen-grundschu', 'https://www.uni-potsdam.de/de/nachrichten/detail/2017-10-16-zentrum-juedische-studien-berlin-brandenburg-wird-in-selma-stern-zentrum-umbenannt-dire', 'https://www.uni-potsdam.de/de/nachrichten/detail/2017-10-16-unterwegs-in-nigeria-10-oktober-2017', 'https://www.uni-potsdam.de/de/nachrichten/detail/2017-10-13-unterwegs-in-nigeria-9-oktober-2017', 'https://www.uni-potsdam.de/de/nachrichten/detail/2017-10-13-christian-heck-vertritt-berlin-und-potsdam-beim-falling-walls-lab-berlin-2017', 'https://www.uni-potsdam.de/de/nachrichten/detail/2017-10-12-unterwegs-in-nigeria-8-oktober-2017', 'https://www.uni-potsdam.de/de/nachrichten/detail/2017-10-11-unterwegs-in-nigeria-7-oktober-2017', 'https://www.uni-potsdam.de/de/nachrichten/detail/2017-10-11-lesen-lernen-wie-es-besser-gelingen-kann', 'https://www.uni-potsdam.de/de/nachrichten/detail/2017-10-10-unterwegs-in-nigeria-56-oktober-2017', 'https://www.uni-potsdam.de/de/nachrichten/detail/2017-10-09-politik-in-der-s-bahn-potsdamer-studierende-haben-einen-unkonventionellen-rat-ins-leben', 'https://www.uni-potsdam.de/de/nachrichten/detail/2017-10-06-plateaus-vulkane-und-stoerungen-geologische-exkursion-durch-die-tuerkei', 'https://www.uni-potsdam.de/de/nachrichten/detail/2017-10-05-wir-kennen-nur-die-spitze-des-eisbergs-in-einem-grossprojekt-wollen-physiker-weitere-ko', 'https://www.uni-potsdam.de/de/nachrichten/detail/2017-10-05-mit-fisch-und-wurm-auf-medikamentensuche-unter-tausenden-von-wirkstoffen-suchen-forsche', 'https://www.uni-potsdam.de/de/nachrichten/detail/2017-10-04-unterwegs-in-nigeria-studierende-der-anglistik-und-amerikanistik-auf-exkursion-nach-iba', 'https://www.uni-potsdam.de/de/nachrichten/detail/2017-10-04-ueberwachungskameras-fuer-mosambik-das-mfs-als-aufbauhelfer', 'https://www.uni-potsdam.de/de/nachrichten/detail/2017-09-29-14-potsdamer-kinder-universitaet-2000-maedchen-und-jungen-waren-auf-dem-campus-golm-zu-', 'https://www.uni-potsdam.de/de/nachrichten/detail/2017-09-27-der-kleinste-gemeinsame-nenner-ist-nicht-genug-auf-dem-weg-in-eine-nachhaltige-gesellsc', 'https://www.uni-potsdam.de/de/nachrichten/detail/2017-09-26-individuell-deutsch-lernen-germanisten-der-uni-potsdam-haben-ein-material-vorgelegt-das', 'https://www.uni-potsdam.de/de/nachrichten/detail/2017-09-21-das-deutsche-internet-institut-nimmt-seine-arbeit-auf-weizenbaum-institut-fuer-die-vern', 'https://www.uni-potsdam.de/de/nachrichten/detail/2017-09-20-eine-andere-platte-auflegen-zwei-germanisten-hoeren-schlager-mit-wissenschaftlichem-ohr', 'https://www.uni-potsdam.de/de/nachrichten/detail/2017-09-18-mit-lego-kannst-du-mehr-wie-kommen-plastikbausteine-in-ein-uni-praktikum', 'https://www.uni-potsdam.de/de/nachrichten/detail/2017-09-15-die-scheuen-verwandten-des-delfins-bedrohte-kleinwalart-in-der-ostsee-wird-genetisch-un', 'https://www.uni-potsdam.de/de/nachrichten/detail/2017-09-15-das-mittelalter-ist-gar-nicht-so-weit-weg-martina-giese-will-neue-historische-quellen-e', 'https://www.uni-potsdam.de/de/nachrichten/detail/2017-09-13-von-connecticut-nach-potsdam-ein-amerikanischer-philosoph-forscht-mit-dem-alexander-von', 'https://www.uni-potsdam.de/de/nachrichten/detail/2017-09-13-spielwiese-fuer-forschungstalente-studentisches-team-beteiligt-sich-am-biotechnologie-w', 'https://www.uni-potsdam.de/de/nachrichten/detail/2017-09-08-naturschutz-aus-dem-all-forscher-arbeiten-an-neuen-monitoringmethoden-fuer-schutzgebiet', 'https://www.uni-potsdam.de/de/nachrichten/detail/2017-09-05-neue-strategische-basis-fuer-zusammenarbeit-von-wissenschaft-mit-wirtschaft-politik-und', 'https://www.uni-potsdam.de/de/nachrichten/detail/2017-09-01-im-element-warum-thallium-und-andere-spurenelemente-zum-umweltproblem-werden-und-was-ma', 'https://www.uni-potsdam.de/de/nachrichten/detail/2017-09-01-zug-um-zug-tim-thorben-suck-verbindet-erfolgreich-leistungssport-und-studium', 'https://www.uni-potsdam.de/de/nachrichten/detail/2017-08-29-potsdamer-sommerakademie-beleuchtet-zukunft-von-staedten-internationaler-austausch-uebe', 'https://www.uni-potsdam.de/de/nachrichten/detail/2017-08-23-dna-fischen-wie-ein-bohrkern-die-geschichte-eines-ganzen-oekosystems-offenbart', 'https://www.uni-potsdam.de/de/nachrichten/detail/2017-08-23-potsdamer-klimaforscher-stefan-rahmstorf-erhaelt-preis-fuer-klimakommunikation', 'https://www.uni-potsdam.de/de/nachrichten/detail/2017-08-09-silber-und-bronze-fuer-potsdamer-judoka-der-universitaet-potsdam-ueberzeugten-bei-studi', 'https://www.uni-potsdam.de/de/nachrichten/detail/2017-07-28-aufgestellt-magazine-der-universitaet-potsdam-ab-sofort-an-allen-standorten-verfuegbar', 'https://www.uni-potsdam.de/de/nachrichten/detail/2017-07-28-verhandlungsache-neuer-mba-negotiation-management', 'https://www.uni-potsdam.de/de/nachrichten/detail/2017-07-27-botschafter-der-republik-peru-besuchte-die-universitaet-potsdam', 'https://www.uni-potsdam.de/de/nachrichten/detail/2017-07-21-prof-dr-reimund-gerhard-gastprofessor-an-chinesischer-universitaet', 'https://www.uni-potsdam.de/de/nachrichten/detail/2017-07-21-mit-mathematik-zu-besseren-therapien-das-graduiertenprogramm-pharmetrx-bildet-nachwuchs', 'https://www.uni-potsdam.de/de/nachrichten/detail/2017-07-20-archiv-der-menschwerdung-geoforscher-lesen-die-evolution-des-menschen-aus-bohrkernen', 'https://www.uni-potsdam.de/de/nachrichten/detail/2017-07-19-universitaet-baut-kooperationen-mit-polen-aus-rektor-der-poznan-university-of-economics', 'https://www.uni-potsdam.de/de/nachrichten/detail/2017-07-14-die-neuen-kuratoren-potsdamer-studierende-entwickeln-eine-fotoausstellung-in-berlin', 'https://www.uni-potsdam.de/de/nachrichten/detail/2017-07-12-erfolge-beim-buerokratieabbau-digitalisierung-im-rueckstand-potsdamer-expertise-fliesst', 'https://www.uni-potsdam.de/de/nachrichten/detail/2017-07-11-auf-dem-weg-zu-hocheffizienten-tandemzellen-die-hypercells-graduiertenschule-wird-2-jah', 'https://www.uni-potsdam.de/de/nachrichten/detail/2017-07-11-mehr-als-worte-neue-linguistische-workshop-reihe-gestartet', 'https://www.uni-potsdam.de/de/nachrichten/detail/2017-07-11-von-kamingespraechen-und-gruendertreffen-universitaetsgesellschaft-foerdert-seit-25-jah', 'https://www.uni-potsdam.de/de/nachrichten/detail/2017-07-10-nicht-ohne-eisen-und-schwefel-prof-dr-silke-leimkuehler-koordiniert-das-dfg-schwerpunkt', 'https://www.uni-potsdam.de/de/nachrichten/detail/2017-07-06-koenigin-der-nacht-blueht-heute', 'https://www.uni-potsdam.de/de/nachrichten/detail/2017-07-06-botschafterin-kolumbiens-zu-gast-an-der-universitaet-kooperation-wird-ausgebaut', 'https://www.uni-potsdam.de/de/nachrichten/detail/2017-06-30-europa-im-blick-phoenix-zeigt-diskussion-am-campus-neues-palais', 'https://www.uni-potsdam.de/de/nachrichten/detail/2017-06-27-kowi-bundestagung-in-potsdam', 'https://www.uni-potsdam.de/de/nachrichten/detail/2017-06-23-gefeiert-universitaet-hat-ihre-absolventen-verabschiedet', 'https://www.uni-potsdam.de/de/nachrichten/detail/2017-06-23-da-ist-der-wurm-drin-ernaehrungswissenschaftler-entwickeln-einen-hundesnack-auf-insekte', 'https://www.uni-potsdam.de/de/nachrichten/detail/2017-06-23-ns-raubgut-im-bestand-der-universitaetsbibliothek-potsdam-ausstellung-in-der-bereichsbi', 'https://www.uni-potsdam.de/de/nachrichten/detail/2017-06-21-forum-religionen-im-kontext-feierlich-eroeffnet', 'https://www.uni-potsdam.de/de/nachrichten/detail/2017-06-20-judaica-portal-berlin-brandenburg-geht-online-bibliotheken-museen-und-archive-digital-d', 'https://www.uni-potsdam.de/de/nachrichten/detail/2017-06-19-zu-fuss-in-die-16-hirtensiedlungen-rimellas-14-juni-2017', 'https://www.uni-potsdam.de/de/nachrichten/detail/2017-06-16-zu-fuss-in-die-16-hirtensiedlungen-rimellas-13-juni-2017', 'https://www.uni-potsdam.de/de/nachrichten/detail/2017-06-16-auf-wackligem-grund-geoforscher-untersuchen-stumme-zeugen-historischer-naturkatastrophe', 'https://www.uni-potsdam.de/de/nachrichten/detail/2017-06-15-zu-fuss-in-die-16-hirtensiedlungen-rimellas-12-juni-2017', 'https://www.uni-potsdam.de/de/nachrichten/detail/2017-06-14-zu-fuss-in-die-16-hirtensiedlungen-rimellas-11-juni-2017', 'https://www.uni-potsdam.de/de/nachrichten/detail/2017-06-13-zu-fuss-in-die-16-hirtensiedlungen-rimellas-10-juni-2017', 'https://www.uni-potsdam.de/de/nachrichten/detail/2017-06-13-uralt-und-doch-topfit-cyanobakterien-sind-ueberlebenskuenstler-und-das-forschungsfeld-v', 'https://www.uni-potsdam.de/de/nachrichten/detail/2017-06-12-sanssouci-avec-shakespeare-geht-auf-tour-studierende-und-junge-migranten-spielen-gemein', 'https://www.uni-potsdam.de/de/nachrichten/detail/2017-06-12-zu-fuss-in-die-16-hirtensiedlungen-rimellas-9-juni-2017', 'https://www.uni-potsdam.de/de/nachrichten/detail/2017-06-12-theater-the-craving-english-drama-group-der-universitaet-potsdam-laedt-ein-zu-ihrem-neu', 'https://www.uni-potsdam.de/de/nachrichten/detail/2017-06-12-neues-aus-forschung-und-lehre', 'https://www.uni-potsdam.de/de/nachrichten/detail/2017-06-09-zu-fuss-in-die-16-hirtensiedlungen-rimellas-8-juni-2017', 'https://www.uni-potsdam.de/de/nachrichten/detail/2017-06-09-der-blick-in-die-vergangenheit-und-in-die-zukunft-geoforscher-untersuchen-klimaaenderun', 'https://www.uni-potsdam.de/de/nachrichten/detail/2017-06-08-zu-fuss-in-die-16-hirtensiedlungen-rimellas-7-juni-2017', 'https://www.uni-potsdam.de/de/nachrichten/detail/2017-06-01-savannen-in-gefahr-vegetationsoekologen-suchen-wege-zum-schutz-der-afrikanischen-grasla', 'https://www.uni-potsdam.de/de/nachrichten/detail/2017-05-30-uni-potsdam-goes-boston-studentisches-team-beteiligt-sich-am-biotechnologie-wettbewerb-', 'https://www.uni-potsdam.de/de/nachrichten/detail/2017-05-30-der-lange-weg-zur-exzellenz-der-geowissenschaftler-bodo-bookhagen-ueber-die-arbeit-am-c', 'https://www.uni-potsdam.de/de/nachrichten/detail/2017-05-29-fruehkindliche-bildung-startschuss-fuer-neuen-potsdamer-forscherverbund', 'https://www.uni-potsdam.de/de/nachrichten/detail/2017-05-22-ifi-beteiligte-sich-mit-dem-joint-lab-am-diesjaehrigen-potsdamer-tag-der-wissenschaften-1', 'https://www.uni-potsdam.de/de/nachrichten/detail/2017-05-19-william-mary-in-potsdam-auftakt-zum-neuen-summer-campus-an-der-universitaet-potsdam', 'https://www.uni-potsdam.de/de/nachrichten/detail/2017-05-18-bis-unter-die-oberflaeche-die-universitaet-potsdam-beteiligt-sich-mit-einem-interdiszip', 'https://www.uni-potsdam.de/de/nachrichten/detail/2017-05-16-dart-fachtagung-qualitaet-und-perspektiven-fuer-kulturelle-bildung-an-ganztagsschulen', 'https://www.uni-potsdam.de/de/nachrichten/detail/2017-05-11-ein-jahrhundertereignis-promovierende-des-graduiertenkollegs-natriskchange-untersuchten', 'https://www.uni-potsdam.de/de/nachrichten/detail/2017-05-09-potsdamer-klimaforscherin-ausgezeichnet-egu-early-career-award-fuer-prof-dr-ricarda-win', 'https://www.uni-potsdam.de/de/nachrichten/detail/2017-05-03-mpm-alumni-expert-seminar-zu-innovative-approaches-to-global-public-challenges', 'https://www.uni-potsdam.de/de/nachrichten/detail/2017-05-02-anders-unter-gleichen-wissenschaftler-erforschen-abweichendes-verhalten-von-versuchsmae', 'https://www.uni-potsdam.de/de/nachrichten/detail/2017-04-28-dr-sara-mazzonetto-erhielt-beim-leibniz-kolleg-den-publikationspreis', 'https://www.uni-potsdam.de/de/nachrichten/detail/2017-04-25-potsdamer-absolventin-erhaelt-auf-psychologiekongress-einen-forschungspreis-fuer-ihre-a', 'https://www.uni-potsdam.de/de/nachrichten/detail/2017-04-25-neu-bewilligt-mittelstand-40-kompetenzzentrum-berlin', 'https://www.uni-potsdam.de/de/nachrichten/detail/2017-04-24-gemeinsam-fuer-die-freiheit-der-forschung-mehr-als-11000-beim-marsch-fuer-die-wissensch', 'https://www.uni-potsdam.de/de/nachrichten/detail/2017-04-24-der-film-dart', 'https://www.uni-potsdam.de/de/nachrichten/detail/2017-04-21-preistraeger-stehen-fest-e-learning-award-2016-der-universitaet-potsdam-verliehen', 'https://www.uni-potsdam.de/de/nachrichten/detail/2017-04-19-1-symposium-zum-forschungsdatenmanagement-an-der-universitaet-potsdam', 'https://www.uni-potsdam.de/de/nachrichten/detail/2017-04-19-die-welt-von-anderswo-sehen-das-graduiertenkolleg-minor-cosmopolitanisms-erforscht-welt', 'https://www.uni-potsdam.de/de/nachrichten/detail/2017-04-19-mehr-technische-informatik-in-potsdam-team-des-joint-lab-von-ihp-und-universitaet-potsd', 'https://www.uni-potsdam.de/de/nachrichten/detail/2017-04-16-call-for-applications-european-perspectives-for-public-administration-the-many-discipli', 'https://www.uni-potsdam.de/de/nachrichten/detail/2017-04-13-gemeinsam-fuer-die-freiheit-der-forschung-marsch-fuer-die-wissenschaft-am-22-april-2017', 'https://www.uni-potsdam.de/de/nachrichten/detail/2017-04-11-bitte-auf-englisch', 'https://www.uni-potsdam.de/de/nachrichten/detail/2017-04-10-call-for-papers-egpa-2017-psg-v-regional-and-local-government', 'https://www.uni-potsdam.de/de/nachrichten/detail/2017-04-06-verbundforschungsprojekt-konsequenzen-der-altersassoziierten-zell-und-organfunktionen-n', 'https://www.uni-potsdam.de/de/nachrichten/detail/2017-04-06-neuer-weiterbildungsmaster-mit-abschluss-llm-und-mba-digital-media-law-und-management', 'https://www.uni-potsdam.de/de/nachrichten/detail/2017-04-06-umweltpolitik-im-anthropozaen-problemfelder-herausforderungen-und-forschungsperspektive', 'https://www.uni-potsdam.de/de/nachrichten/detail/2017-04-05-call-for-daad-application-for-wipcad-2017', 'https://www.uni-potsdam.de/de/nachrichten/detail/2017-04-05-tradition-mit-chance-auf-zukunft-humboldt-stipendiatin-erforscht-juedisches-staatstheat', 'https://www.uni-potsdam.de/de/nachrichten/detail/2017-04-03-hasso-plattner-institut-wird-fakultaet-erste-privat-finanzierte-fakultaet-einer-oeffent', 'https://www.uni-potsdam.de/de/nachrichten/detail/2017-03-31-multitasking-im-alter-eine-studie-erforscht-den-zusammenhang-von-gleichgewicht-und-denk', 'https://www.uni-potsdam.de/de/nachrichten/detail/2017-03-24-refugee-teachers-qualifizierungsprogramm-fuer-gefluechtete-lehrerinnen-und-lehrer-geht-', 'https://www.uni-potsdam.de/de/nachrichten/detail/2017-03-22-wipcad-researcher-jennifer-bansard-at-ocean-governance-conference-in-bremen', 'https://www.uni-potsdam.de/de/nachrichten/detail/2017-03-22-wipcad-lecture-series-partizipation-reflexion-dekonstruktion-spannungsverhaeltnisse-soz', 'https://www.uni-potsdam.de/de/nachrichten/detail/2017-03-20-hoeher-besser-weiter-hochschulsport-der-uni-potsdam-im-ranking-des-allgemeinen-deutsche', 'https://www.uni-potsdam.de/de/nachrichten/detail/2017-03-17-unterwegs-in-den-anden-14-maerz-2017-fazit', 'https://www.uni-potsdam.de/de/nachrichten/detail/2017-03-16-naturgefahren-im-fokus-internationale-fachkonferenz-der-geophysik-in-potsdam', 'https://www.uni-potsdam.de/de/nachrichten/detail/2017-03-16-unterwegs-in-den-anden-13-maerz-2017-begegnung-der-dritten-art', 'https://www.uni-potsdam.de/de/nachrichten/detail/2017-03-16-befreit-das-web-die-tunesische-revolution-im-spiegel-von-social-media-bildern', 'https://www.uni-potsdam.de/de/nachrichten/detail/2017-03-15-unterwegs-in-den-anden-12-maerz-2017-die-diskordanz', 'https://www.uni-potsdam.de/de/nachrichten/detail/2017-03-14-schuelerkongress-wille-wuerde-wissen', 'https://www.uni-potsdam.de/de/nachrichten/detail/2017-03-14-wipcad-lecture-series-women-in-saudi-arabia-intersections-of-gender-ethnicity-and-relig', 'https://www.uni-potsdam.de/de/nachrichten/detail/2017-03-14-unterwegs-in-den-anden-11-maerz-2017-im-wilden-westen', 'https://www.uni-potsdam.de/de/nachrichten/detail/2017-03-13-potsdamer-auf-platz-eins-verwaltungswissenschaften-geniessen-hohes-ansehen', 'https://www.uni-potsdam.de/de/nachrichten/detail/2017-03-13-unterwegs-in-den-anden-10-maerz-2017-vulkane-falten-und-oel', 'https://www.uni-potsdam.de/de/nachrichten/detail/2017-03-12-unterwegs-in-den-anden-9-maerz-2017-fossilien-im-schnee-des-spaetsommers', 'https://www.uni-potsdam.de/de/nachrichten/detail/2017-03-10-unterwegs-in-den-anden-6-8-maerz-2017-show-and-tell-in-san-juan-und-mendoza', 'https://www.uni-potsdam.de/de/nachrichten/detail/2017-03-08-unterwegs-in-den-anden-5-maerz-2017-der-geist-gauchito-gils-der-robin-hood-argentiniens', 'https://www.uni-potsdam.de/de/nachrichten/detail/2017-03-07-unterwegs-in-den-anden-4-maerz-2017-zwischen-zwei-kordilleren', 'https://www.uni-potsdam.de/de/nachrichten/detail/2017-03-06-unterwegs-in-den-anden-3-maerz-2017-auf-den-spuren-darwins-zum-dach-amerikas', 'https://www.uni-potsdam.de/de/nachrichten/detail/2017-03-05-unterwegs-in-den-anden-2-maerz-2017-in-begleitung-von-san-martin', 'https://www.uni-potsdam.de/de/nachrichten/detail/2017-03-03-unterwegs-in-den-anden-1-maerz-2017-erstkontakt-mit-wein-und-anden', 'https://www.uni-potsdam.de/de/nachrichten/detail/2017-03-02-gruene-staedte-verstehen-wie-die-auswirkungen-der-urbanisierung-auf-die-umwelt-in-ein-m', 'https://www.uni-potsdam.de/de/nachrichten/detail/2017-03-02-frauenmentoring-feiert-erste-alumnae-reunion', 'https://www.uni-potsdam.de/de/nachrichten/detail/2017-02-23-hollyhood-hip-hop-social-justice-studentisches-filmfestival-vom-7-bis-12-maerz-im-filmm', 'https://www.uni-potsdam.de/de/nachrichten/detail/2017-02-22-besondere-botschafter-empfang-fuer-die-sportlerinnen-und-sportler-der-universitaet-pots', 'https://www.uni-potsdam.de/de/nachrichten/detail/2017-02-22-wipcad-lecture-series-using-science-to-inform-policy-practice-and-individual-decision-m', 'https://www.uni-potsdam.de/de/nachrichten/detail/2017-02-22-woran-glauben-nicht-religion-in-ostdeutschland', 'https://www.uni-potsdam.de/de/nachrichten/detail/2017-02-22-vom-studium-in-die-online-redaktion-tauschtag-im-referat-fuer-presse-und-oeffentlichkei', 'https://www.uni-potsdam.de/de/nachrichten/detail/2017-02-17-umfrage-zur-studienqualitaet', 'https://www.uni-potsdam.de/de/nachrichten/detail/2017-02-16-vortrag-von-prof-dr-joachim-ludwig-am-30012017-auf-der-fachtagung', 'https://www.uni-potsdam.de/de/nachrichten/detail/2017-02-15-fontane-200-wie-stadt-land-und-universitaet-das-fontane-jahr-vorbereiten', 'https://www.uni-potsdam.de/de/nachrichten/detail/2017-02-15-wipcad-lecture-series-environmental-performance-of-democracies', 'https://www.uni-potsdam.de/de/nachrichten/detail/2017-02-13-change-management-vortrag-und-diskussion', 'https://www.uni-potsdam.de/de/nachrichten/detail/2017-02-13-klimabilder-im-netz-volkswagenstiftung-foerdert-forschungskooperation-der-uni-potsdam-f', 'https://www.uni-potsdam.de/de/nachrichten/detail/2017-02-10-zehn-fragen-fuer-ein-buch-wissenschaft-technik-und-medien-im-werk-alfred-doeblins-im-ko', 'https://www.uni-potsdam.de/de/nachrichten/detail/2017-02-09-wipcad-workshop-micro-moves-in-international-institutions-0910-february-2017-potsdam', 'https://www.uni-potsdam.de/de/nachrichten/detail/2017-02-08-am-kuerzeren-hebel-verwaltungswissenschaftler-untersuchen-nationale-anti-doping-agentur', 'https://www.uni-potsdam.de/de/nachrichten/detail/2017-02-08-musikarbeit-in-inklusion-und-integration', 'https://www.uni-potsdam.de/de/nachrichten/detail/2017-02-01-wipcad-lecture-series-theorising-knowledge-01-february-2017-potsdam', 'https://www.uni-potsdam.de/de/nachrichten/detail/2017-01-25-ehrung-fuer-projektteam-der-reflectup-app-nominierung-fuer-den-delina-innovationspreis', 'https://www.uni-potsdam.de/de/nachrichten/detail/2017-01-23-10th-fojus-annual-conference-coping-with-ambiguity-university-of-postdam-2324-may-2017', 'https://www.uni-potsdam.de/de/nachrichten/detail/2017-01-20-herzklopfen-stress-im-herzkatheterlabor-und-was-man-dagegen-tun-kann', 'https://www.uni-potsdam.de/de/nachrichten/detail/2017-01-19-refugee-teachers-welcome-ausgezeichnet', 'https://www.uni-potsdam.de/de/nachrichten/detail/2017-01-18-wipcad-fellow-jennifer-bansard-at-earth-system-governance-conference-in-nairobi', 'https://www.uni-potsdam.de/de/nachrichten/detail/2017-01-18-wipcad-lecture-series-seeing-like-the-state-in-the-digital-age-18-january-potsdam', 'https://www.uni-potsdam.de/de/nachrichten/detail/2017-01-18-guido-reger-gruenderpreis-an-start-up-perfacct-verliehen', 'https://www.uni-potsdam.de/de/nachrichten/detail/2017-01-17-refugee-teachers-welcome-kann-hochschulperle-des-jahres-werden-abstimmung-per-sms-am-18', 'https://www.uni-potsdam.de/de/nachrichten/detail/2017-01-15-call-for-papers-international-conference-on-public-policy-icpp-lee-kuan-yew-school-of-p', 'https://www.uni-potsdam.de/de/nachrichten/detail/2017-01-13-abschlusskonferenz-des-bmbf-verbundprojekts-alexander-von-humboldts-amerikanische-reise', 'https://www.uni-potsdam.de/de/nachrichten/detail/2017-01-12-freiheit-als-verpflichtung-zur-toleranz-neujahrsempfang-mit-politischer-botschaft-1', 'https://www.uni-potsdam.de/de/nachrichten/detail/2017-01-12-die-kunst-der-richtigen-reize-wie-das-team-von-milon-unternehmen-fit-macht', 'https://www.uni-potsdam.de/de/nachrichten/detail/2017-01-04-zehn-fragen-fuer-ein-buch-adorno-und-die-kabbala', 'https://www.uni-potsdam.de/de/nachrichten/detail/2017-01-04-forschungsdatenmanagement-an-der-universitaet-potsdam-umfrage-bis-zum-28-januar-2017', 'https://www.uni-potsdam.de/de/nachrichten/detail/2017-01-04-ferne-nachbarn-die-astrophysikerin-prof-dr-maria-rosa-cioni-untersucht-die-bewegungen-v', 'https://www.uni-potsdam.de/de/nachrichten/detail/2017-01-02-naechstes-treffen-des-graduiertenkollegs', 'https://www.uni-potsdam.de/de/nachrichten/detail/2016-12-21-weihnachtsgruesse-des-praesidenten', 'https://www.uni-potsdam.de/de/nachrichten/detail/2016-12-21-programm-tagung-raumaneignung-und-raumnutzung', 'https://www.uni-potsdam.de/de/nachrichten/detail/2016-12-20-bestuerzung-ueber-geschehnisse-in-berlin', 'https://www.uni-potsdam.de/de/nachrichten/detail/2016-12-19-hochschulsport-organisiert-benefizaktion-fuer-kinderheim', 'https://www.uni-potsdam.de/de/nachrichten/detail/2016-12-14-die-vermessung-der-qualitaet-politikwissenschaftler-untersuchen-das-qualitaetsmanagemen', 'https://www.uni-potsdam.de/de/nachrichten/detail/2016-12-14-wipcad-lecture-series-capacity-co-ordination-and-power-in-local-climate-policy-making-c', 'https://www.uni-potsdam.de/de/nachrichten/detail/2016-12-08-mehr-klarheit-universitaet-potsdam-jetzt-mit-einheitlichen-verfahren-und-kriterien-zur-', 'https://www.uni-potsdam.de/de/nachrichten/detail/2016-12-07-texte-geschuetzt-aenderungen-bei-der-digitalen-veroeffentlichung-urheberrechtlich-gesch', 'https://www.uni-potsdam.de/de/nachrichten/detail/2016-12-07-wipcad-lecture-series-insurance-in-the-face-of-climate-change-private-sector-risk-trans']\n"
     ]
    }
   ],
   "source": [
    "articles_links_r = []\n",
    "with open('articles_links.txt', 'r') as filehandle:\n",
    "    lines = filehandle.readlines()\n",
    "    for line in lines:\n",
    "        # remove linebreak which is the last character of the string\n",
    "        current_line = line[:-1]\n",
    "        articles_links_r.append(current_line)\n",
    "print(articles_links_r)"
   ]
  },
  {
   "cell_type": "code",
   "execution_count": 5,
   "metadata": {},
   "outputs": [
    {
     "data": {
      "text/plain": [
       "1000"
      ]
     },
     "execution_count": 5,
     "metadata": {},
     "output_type": "execute_result"
    }
   ],
   "source": [
    "len(articles_links_r)"
   ]
  },
  {
   "cell_type": "code",
   "execution_count": 6,
   "metadata": {},
   "outputs": [],
   "source": [
    "# Chunk it\n",
    "links_1=articles_links_r[0:250]\n",
    "links_2=articles_links_r[250:500]\n",
    "links_3=articles_links_r[500:750]\n",
    "links_4=articles_links_r[750:]"
   ]
  },
  {
   "cell_type": "code",
   "execution_count": null,
   "metadata": {},
   "outputs": [],
   "source": []
  },
  {
   "cell_type": "markdown",
   "metadata": {},
   "source": [
    "## Asynchronous HTTP requests"
   ]
  },
  {
   "cell_type": "markdown",
   "metadata": {},
   "source": [
    "18. Install the libaries `asyncio`, `aiohttp` and `tqdm`."
   ]
  },
  {
   "cell_type": "code",
   "execution_count": null,
   "metadata": {},
   "outputs": [],
   "source": [
    "import asyncio\n",
    "import aiohttp\n",
    "import bs4\n",
    "import tqdm"
   ]
  },
  {
   "cell_type": "code",
   "execution_count": null,
   "metadata": {},
   "outputs": [],
   "source": []
  },
  {
   "cell_type": "code",
   "execution_count": null,
   "metadata": {},
   "outputs": [],
   "source": []
  },
  {
   "cell_type": "code",
   "execution_count": null,
   "metadata": {},
   "outputs": [],
   "source": []
  },
  {
   "cell_type": "code",
   "execution_count": null,
   "metadata": {},
   "outputs": [],
   "source": []
  },
  {
   "cell_type": "code",
   "execution_count": null,
   "metadata": {},
   "outputs": [],
   "source": []
  },
  {
   "cell_type": "markdown",
   "metadata": {},
   "source": [
    "19. Find the missing link that appears in `articles_links_r` but not in `results_list` using a list comprehension."
   ]
  },
  {
   "cell_type": "code",
   "execution_count": null,
   "metadata": {},
   "outputs": [],
   "source": []
  },
  {
   "cell_type": "code",
   "execution_count": null,
   "metadata": {},
   "outputs": [],
   "source": []
  },
  {
   "cell_type": "markdown",
   "metadata": {},
   "source": [
    "20. Install the `pandas` library."
   ]
  },
  {
   "cell_type": "code",
   "execution_count": null,
   "metadata": {},
   "outputs": [],
   "source": [
    "import pandas as pd"
   ]
  },
  {
   "cell_type": "code",
   "execution_count": null,
   "metadata": {},
   "outputs": [],
   "source": []
  },
  {
   "cell_type": "code",
   "execution_count": null,
   "metadata": {},
   "outputs": [],
   "source": []
  },
  {
   "cell_type": "markdown",
   "metadata": {},
   "source": [
    "21. Convert the `publication_date` into a `pandas` `datetime` object and plot a time series of published articles on a daily basis. Bonus: Aggregate the time series into monthly frequency. In which month-year were most articles published?"
   ]
  },
  {
   "cell_type": "code",
   "execution_count": null,
   "metadata": {},
   "outputs": [],
   "source": []
  },
  {
   "cell_type": "code",
   "execution_count": null,
   "metadata": {},
   "outputs": [],
   "source": []
  },
  {
   "cell_type": "code",
   "execution_count": null,
   "metadata": {},
   "outputs": [],
   "source": []
  },
  {
   "cell_type": "code",
   "execution_count": null,
   "metadata": {},
   "outputs": [],
   "source": []
  },
  {
   "cell_type": "code",
   "execution_count": null,
   "metadata": {},
   "outputs": [],
   "source": []
  },
  {
   "cell_type": "code",
   "execution_count": null,
   "metadata": {},
   "outputs": [],
   "source": []
  },
  {
   "cell_type": "code",
   "execution_count": null,
   "metadata": {},
   "outputs": [],
   "source": []
  },
  {
   "cell_type": "code",
   "execution_count": null,
   "metadata": {},
   "outputs": [],
   "source": []
  },
  {
   "cell_type": "markdown",
   "metadata": {},
   "source": [
    "22. Install the library `matplotlib`."
   ]
  },
  {
   "cell_type": "code",
   "execution_count": null,
   "metadata": {},
   "outputs": [],
   "source": [
    "import matplotlib\n",
    "import matplotlib.pyplot as plt"
   ]
  },
  {
   "cell_type": "code",
   "execution_count": null,
   "metadata": {},
   "outputs": [],
   "source": []
  },
  {
   "cell_type": "code",
   "execution_count": null,
   "metadata": {},
   "outputs": [],
   "source": []
  },
  {
   "cell_type": "code",
   "execution_count": null,
   "metadata": {},
   "outputs": [],
   "source": []
  },
  {
   "cell_type": "markdown",
   "metadata": {},
   "source": [
    "23. Install the libraries `cufflinks` and `plotly`."
   ]
  },
  {
   "cell_type": "code",
   "execution_count": null,
   "metadata": {},
   "outputs": [],
   "source": [
    "import plotly.graph_objs as go\n",
    "import plotly.figure_factory as ff\n",
    "from plotly.offline import download_plotlyjs, init_notebook_mode, plot, iplot\n",
    "init_notebook_mode(connected=True)"
   ]
  },
  {
   "cell_type": "code",
   "execution_count": null,
   "metadata": {},
   "outputs": [],
   "source": []
  },
  {
   "cell_type": "markdown",
   "metadata": {},
   "source": [
    "24. Install the `chart-studio` library."
   ]
  },
  {
   "cell_type": "code",
   "execution_count": null,
   "metadata": {},
   "outputs": [],
   "source": [
    "import chart_studio\n",
    "import chart_studio.plotly as py\n",
    "import plotly.graph_objs as go"
   ]
  },
  {
   "cell_type": "markdown",
   "metadata": {},
   "source": [
    "25. Log in to [Plotly Chart Studio](https://chart-studio.plotly.com/Auth/login/#/) and obtain your `Username` and `API key`. Store them both line-by-line in a .py file, e.g. name it \"plotly_config.py\"."
   ]
  },
  {
   "cell_type": "code",
   "execution_count": null,
   "metadata": {},
   "outputs": [],
   "source": [
    "import plotly_config\n",
    "\n",
    "chart_studio.tools.set_credentials_file(username=plotly_config.Username, api_key=plotly_config.api_key)"
   ]
  },
  {
   "cell_type": "code",
   "execution_count": null,
   "metadata": {},
   "outputs": [],
   "source": []
  }
 ],
 "metadata": {
  "kernelspec": {
   "display_name": "Python 3",
   "language": "python",
   "name": "python3"
  },
  "language_info": {
   "codemirror_mode": {
    "name": "ipython",
    "version": 3
   },
   "file_extension": ".py",
   "mimetype": "text/x-python",
   "name": "python",
   "nbconvert_exporter": "python",
   "pygments_lexer": "ipython3",
   "version": "3.8.5"
  }
 },
 "nbformat": 4,
 "nbformat_minor": 5
}
