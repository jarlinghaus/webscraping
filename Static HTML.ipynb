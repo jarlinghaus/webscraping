{
 "cells": [
  {
   "cell_type": "markdown",
   "metadata": {},
   "source": [
    "# Obtaining, parsing and structuring static HTML websites\n",
    "\n",
    "In this notebook we will learn how to scrape basic static, i.e. non-interactive HTML-based websites. We will\n",
    "- obtain the HTML raw content using the `requests` module\n",
    "- convert the raw HTML into a format that is easier to search, or parse, using the `BeautifulSoup` module\n",
    "- learn how to identify the elements of interest in the raw HTML using the browser's inspect functionality and the CSS SelectorGadget\n",
    "- construct a table, or dataframe, with the popular table calculation module `pandas` and store the output locally in a standard spreadsheet format"
   ]
  },
  {
   "cell_type": "markdown",
   "metadata": {},
   "source": [
    "1. Open the Anaconda Prompt and install the module `requests`"
   ]
  },
  {
   "cell_type": "code",
   "execution_count": 6,
   "metadata": {},
   "outputs": [],
   "source": [
    "import requests"
   ]
  },
  {
   "cell_type": "code",
   "execution_count": 4,
   "metadata": {},
   "outputs": [
    {
     "name": "stdout",
     "output_type": "stream",
     "text": [
      "Requirement already satisfied: requests in c:\\users\\arlj\\anaconda3\\lib\\site-packages (2.24.0)\n",
      "Requirement already satisfied: urllib3!=1.25.0,!=1.25.1,<1.26,>=1.21.1 in c:\\users\\arlj\\anaconda3\\lib\\site-packages (from requests) (1.25.11)\n",
      "Requirement already satisfied: chardet<4,>=3.0.2 in c:\\users\\arlj\\anaconda3\\lib\\site-packages (from requests) (3.0.4)\n",
      "Requirement already satisfied: idna<3,>=2.5 in c:\\users\\arlj\\anaconda3\\lib\\site-packages (from requests) (2.10)\n",
      "Requirement already satisfied: certifi>=2017.4.17 in c:\\users\\arlj\\anaconda3\\lib\\site-packages (from requests) (2020.6.20)\n",
      "Note: you may need to restart the kernel to use updated packages.\n"
     ]
    }
   ],
   "source": [
    "pip install requests"
   ]
  },
  {
   "cell_type": "code",
   "execution_count": 1,
   "metadata": {},
   "outputs": [],
   "source": [
    "seed = 'https://www.uni-potsdam.de/de/'"
   ]
  },
  {
   "cell_type": "markdown",
   "metadata": {},
   "source": [
    "2. What data type is the object `seed`? How can you check?"
   ]
  },
  {
   "cell_type": "code",
   "execution_count": 2,
   "metadata": {},
   "outputs": [
    {
     "data": {
      "text/plain": [
       "str"
      ]
     },
     "execution_count": 2,
     "metadata": {},
     "output_type": "execute_result"
    }
   ],
   "source": [
    "type(seed)"
   ]
  },
  {
   "cell_type": "markdown",
   "metadata": {},
   "source": [
    "3. Is this domain an admissible path? Hint: Check the `robots.txt`"
   ]
  },
  {
   "cell_type": "code",
   "execution_count": null,
   "metadata": {},
   "outputs": [],
   "source": []
  },
  {
   "cell_type": "markdown",
   "metadata": {},
   "source": [
    "4. Was the request successful? How can you check the status? Hint: Check the available methods by using Jupyter's auto-complete functionality, i.e. type a dot at the end of the object you're investigating followed by <kbd>Tab</kbd>"
   ]
  },
  {
   "cell_type": "code",
   "execution_count": 7,
   "metadata": {},
   "outputs": [],
   "source": [
    "html=requests.get(seed)"
   ]
  },
  {
   "cell_type": "markdown",
   "metadata": {},
   "source": [
    "5. Which method could be most informative w.r.t. actual content? How many characters long is the raw HTML file?"
   ]
  },
  {
   "cell_type": "code",
   "execution_count": 8,
   "metadata": {},
   "outputs": [
    {
     "data": {
      "text/plain": [
       "200"
      ]
     },
     "execution_count": 8,
     "metadata": {},
     "output_type": "execute_result"
    }
   ],
   "source": [
    "html.status_code"
   ]
  },
  {
   "cell_type": "markdown",
   "metadata": {},
   "source": [
    "6. Display the first 518 characters of the `html` object."
   ]
  },
  {
   "cell_type": "code",
   "execution_count": 9,
   "metadata": {},
   "outputs": [
    {
     "data": {
      "text/plain": [
       "b'<!DOCTYPE html><html dir=\"ltr\" lang=\"de-DE\"><head><meta charset=\"utf-8\"><!-- benaja - web solutions (www.benaja-websolutions.com) Markus Meier, Roland Brandt und Tobias Gaertner GbR This website is powered by TYPO3 - inspiring people to share! TYPO3 is a free open source Content Management Framework initially created by Kasper Skaarhoj and licensed under GNU/GPL. TYPO3 is copyright 1998-2021 of Kasper Skaarhoj. Extensions are copyright of their respective owners. Information and contribution at https://typo3.org/ --><meta http-equiv=\"x-ua-compatible\" content=\"IE=edge\"/><meta name=\"generator\" content=\"TYPO3 CMS\"/><meta name=\"description\" content=\"Wo Wissen w\\xc3\\xa4chst: Die Universit\\xc3\\xa4t Potsdam punktet mit einer besonderen Vielfalt an Studienm\\xc3\\xb6glichkeiten und einem ausgepr\\xc3\\xa4gten interdisziplin\\xc3\\xa4ren Forschungsprofil. \"/><meta name=\"viewport\" content=\"width=device-width, initial-scale=1.0\"/><meta name=\"author\" content=\"Sabine Schwarz\"/><meta name=\"keywords\" content=\"Universit\\xc3\\xa4t, Potsdam, Hochschule, Wissenschaft, Forschung, Lehre, Studium, Internationales, Wissenstransfer, Technologietransfer, Alumni, Veranstaltungen, Medieninformationen, Nachrichten, Wo Wissen w\\xc3\\xa4chst, Campus Am Neuen Palais, Campus Golm, Campus Griebnitzsee, Brandenburg\"/><meta property=\"og:title\" content=\"Startseite\"/><meta property=\"og:description\" content=\"Wo Wissen w\\xc3\\xa4chst: Die Universit\\xc3\\xa4t Potsdam punktet mit einer besonderen Vielfalt an Studienm\\xc3\\xb6glichkeiten und einem ausgepr\\xc3\\xa4gten interdisziplin\\xc3\\xa4ren Forschungsprofil.\"/><meta name=\"twitter:card\" content=\"summary\"/><link rel=\"stylesheet\" type=\"text/css\" href=\"/typo3temp/assets/compressed/merged-fc201a8dd7df23f7869e0d7219366c48-min.css.gzip?1583314121\" media=\"print\"><link rel=\"stylesheet\" type=\"text/css\" href=\"/typo3temp/assets/compressed/merged-ac5e367df0d2daf0f288930ccdf26749-min.css.gzip?1613975705\" media=\"screen\"><script src=\"/typo3temp/assets/compressed/jquery-2.2.4.min-min.js.gzip?1583314121\" type=\"text/javascript\"></script><script src=\"/typo3temp/assets/compressed/merged-8dc6a9a84127a40ca23fee40ecace56f-min.js.gzip?1583314133\" type=\"text/javascript\"></script><script type=\"text/javascript\">function returnAt() { document.write(\\'&#64;\\'); }function returnDot() { document.write(\\'.\\'); }</script><title>Universit\\xc3\\xa4t Potsdam</title><meta name=\"google-site-verification\" content=\"ZyJR9vqMZBQxke_IH0PfW8KV6TNywA481w6H1uQwYA4\"/><link rel=\"canonical\" href=\"https://www.uni-potsdam.de/de/\"/></head><body class=\"up-section-university\"><noscript><div id=\"up_nojs\"><div class=\"row\"><div class=\"twentyfour columns\"><p> JavaScript ist in ihrem Browser deaktiviert. <span class=\"up-nojs-hint\">Bitte aktivieren Sie JavaScript</span> um alle Funktionen der Website nutzen zu k\\xc3\\xb6nnen! </p></div></div></div></noscript><div id=\"up_overlay_for_search\"></div><div id=\"up_overlay_for_navs\"></div><div id=\"up_mobilenav_wrapper_small\" class=\"show-for-small\"><div class=\"row collapse\"><div class=\"twentyfour columns\"><div id=\"up_mobilenav_small\"><ul class=\"up-mobilenav-level-1\"><li id=\"up_mobilenav_mainnav_item\" class=\"up-mobilenav-target-mainnav\"><span class=\" up-icon\"></span></li><li id=\"up_mobilenav_searchbox_item\" class=\"up-mobilenav-target-searchbox\"><span class=\" up-icon\"></span></li><li id=\"up_mobilenav_langnav_item\" class=\"up-mobilenav-target-langnav\"><span class=\" up-icon\"></span></li><li id=\"up_mobilenav_globalnav_item\" class=\"up-mobilenav-target-globalnav\"><span class=\" up-icon\"></span></li></ul></div></div></div></div><div id=\"up_mobilesubnav_wrapper_small\" class=\"show-for-small\"><div id=\"up_mainnav_small\" class=\"up-mobilenav-level-2\"><ul class=\"up-mobilesubnav-level-1\"><li><div><span class=\"up-mobilesubnav-level-1-title\">UP entdecken</span><span class=\"up-mobilesubnav-arrow up-icon\"></span></div><ul class=\"up-mobilesubnav-level-2\"><li><a href=\"https://www.uni-potsdam.de/de/up-entdecken/\" target=\"_top\">\\xc3\\x9cbersicht</a></li><li><a href=\"https://www.uni-potsdam.de/de/up-entdecken/upaktuell/uebersicht\" target=\"_top\">Aktuelle Themen</a></li><li><a href=\"https://www.uni-potsdam.de/de/up-entdecken/upkompakt/uebersicht\" target=\"_top\">UP kompakt</a></li><li><a href=\"https://www.uni-potsdam.de/de/up-entdecken/up-vor-ort/uebersicht\" target=\"_top\">UP vor Ort</a></li><li><a href=\"https://www.uni-potsdam.de/de/up-entdecken/up-erleben/uebersicht\" target=\"_top\">UP erleben</a></li><li class=\"last\"><a href=\"https://www.uni-potsdam.de/de/up-entdecken/up-im-portraet/uebersicht\" target=\"_top\">UP im Portr\\xc3\\xa4t</a></li></ul></li><li><div><span class=\"up-mobilesubnav-level-1-title\">Fakult\\xc3\\xa4ten</span><span class=\"up-mobilesubnav-arrow up-icon\"></span></div><ul class=\"up-mobilesubnav-level-2\"><li><a href=\"/de/fakultaeten/uebersicht\">\\xc3\\x9cbersicht</a></li><li><a href=\"https://www.uni-potsdam.de/de/jura/\" target=\"_top\">Juristische Fakult\\xc3\\xa4t</a></li><li><a href=\"https://www.uni-potsdam.de/de/philfak/\" target=\"_top\">Philosophische Fakult\\xc3\\xa4t</a></li><li><a href=\"https://www.uni-potsdam.de/de/humfak/\" target=\"_top\">Humanwissenschaftliche Fakult\\xc3\\xa4t</a></li><li><a href=\"https://www.uni-potsdam.de/de/wiso/\" target=\"_top\">Wirtschafts- und Sozialwissenschaftliche Fakult\\xc3\\xa4t</a></li><li><a href=\"https://www.uni-potsdam.de/de/mnfakul/\" target=\"_top\">Mathematisch-Naturwissenschaftliche Fakult\\xc3\\xa4t</a></li><li><a href=\"https://www.uni-potsdam.de/de/digital-engineering/\" target=\"_top\">Digital Engineering Fakult\\xc3\\xa4t</a></li><li class=\"last\"><a href=\"/de/fakultaeten/fakultaet-fuer-gesundheitswissenschaften\">Fakult\\xc3\\xa4t f\\xc3\\xbcr Gesundheitswissenschaften</a></li></ul></li><li><div><span class=\"up-mobilesubnav-level-1-title\">Organisation</span><span class=\"up-mobilesubnav-arrow up-icon\"></span></div><ul class=\"up-mobilesubnav-level-2\"><li><a href=\"/de/organisation/uebersicht\">\\xc3\\x9cbersicht</a></li><li><a href=\"/de/organisation/organe-gremien\">Organe und Gremien</a></li><li><a href=\"/de/organisation/universitaetsleitung-und-verwaltung\">Universit\\xc3\\xa4tsleitung und Verwaltung</a></li><li><a href=\"/de/organisation/zentrale-und-wissenschaftliche-einrichtungen\">Zentrale und wissenschaftliche Einrichtungen</a></li><li><a href=\"https://www.ub.uni-potsdam.de/ub.html\" target=\"_top\">Bibliothek</a></li><li class=\"last\"><a href=\"/de/organisation/weitere-einrichtungen\">Weitere Einrichtungen</a></li></ul></li><li><div><span class=\"up-mobilesubnav-level-1-title\">Campus International</span><span class=\"up-mobilesubnav-arrow up-icon\"></span></div><ul class=\"up-mobilesubnav-level-2\"><li><a href=\"https://www.uni-potsdam.de/de/international/\" target=\"_top\">\\xc3\\x9cbersicht</a></li><li><a href=\"https://www.uni-potsdam.de/de/international/profil/uebersicht\" target=\"_top\">Profil International</a></li><li><a href=\"https://www.uni-potsdam.de/de/international/service/uebersicht\" target=\"_top\">Service an der UP</a></li><li><a href=\"https://www.uni-potsdam.de/de/international/outgoing/uebersicht\" target=\"_top\">Ins Ausland</a></li><li><a href=\"https://www.uni-potsdam.de/de/international/incoming/uebersicht\" target=\"_top\">Aus dem Ausland</a></li><li class=\"last\"><a href=\"https://www.uni-potsdam.de/de/international/projekte/uebersicht\" target=\"_top\">Projekte International</a></li></ul></li><li><div><span class=\"up-mobilesubnav-level-1-title\">Wirtschaft, Transfer und Gesellschaft</span><span class=\"up-mobilesubnav-arrow up-icon\"></span></div><ul class=\"up-mobilesubnav-level-2\"><li><a href=\"https://www.uni-potsdam.de/de/wirtschaft-transfer-gesellschaft/\" target=\"_top\">\\xc3\\x9cbersicht</a></li><li><a href=\"https://www.uni-potsdam.de/de/wirtschaft-transfer-gesellschaft/piw/piw\" target=\"_top\">Partnerkreis Industrie und Wirtschaft</a></li><li><a href=\"https://www.uni-potsdam.de/de/wirtschaft-transfer-gesellschaft/services-fuer-unternehmen/uebersicht\" target=\"_top\">Services f\\xc3\\xbcr Unternehmen</a></li><li><a href=\"https://www.uni-potsdam.de/de/wirtschaft-transfer-gesellschaft/gruendung-und-transfer/uebersicht\" target=\"_top\">Gr\\xc3\\xbcndung und Transfer</a></li><li><a href=\"https://www.uni-potsdam.de/de/wirtschaft-transfer-gesellschaft/foerdern-und-stiften/uebersicht\" target=\"_top\">F\\xc3\\xb6rdern und Stiften</a></li><li class=\"last\"><a href=\"https://www.uni-potsdam.de/de/wirtschaft-transfer-gesellschaft/weiterbildung/weiterbildungsangebote\" target=\"_top\">Weiterbildung</a></li></ul></li><li class=\"close last\"><div class=\"up-nav-close\"><span class=\"up-nav-close-title up-nav-close-btn\">Schliessen</span></div></li></ul></div><div id=\"up_searchboxnav_small\" class=\"up-mobilenav-level-2\"><ul class=\"up-mobilesubnav-level-1\"><li><div><div class=\"up-mobilesubnav-level-1-title\"><form action=\"https://www.google.de/search\" target=\"_blank\"><input id=\"up_searchboxsmall_input\" type=\"text\" name=\"q\" value=\"Suche\" onblur=\"if(this.value==\\'\\') this.value=\\'Suche\\';\" onfocus=\"if(this.value==\\'Suche\\') this.value=\\'\\';\"><input id=\"up_searchboxsmall_submit\" class=\"up-icon\" type=\"submit\" name=\"submit\" value=\"\"/><input type=\"hidden\" name=\"sitesearch\" value=\"www.uni-potsdam.de\"></form></div></div></li><li class=\"close last\"><div class=\"up-nav-close\"><span class=\"up-nav-close-title up-nav-close-btn\"> Schliessen </span></div></li></ul></div><div id=\"up_langnav_small\" class=\"up-mobilenav-level-2\"><ul class=\"up-mobilesubnav-level-1\"><li><div><span class=\"up-mobilesubnav-level-1-title\"><a href=\"/en/university-of-potsdam\">English</a></span></div></li><li class=\"not-existing\" ><div><span class=\"up-mobilesubnav-level-1-title\">Universit\\xc3\\xa4t Potsdam</span></div></li><li class=\"not-existing\" ><div><span class=\"up-mobilesubnav-level-1-title\">Universit\\xc3\\xa4t Potsdam</span></div></li><li class=\"not-existing\" ><div><span class=\"up-mobilesubnav-level-1-title\">Universit\\xc3\\xa4t Potsdam</span></div></li><li class=\"close last\"><div class=\"up-nav-close\"><span class=\"up-nav-close-title up-nav-close-btn\"></span></div></li></ul></div><div id=\"up_globalnav_small\" class=\"up-mobilenav-level-2\"><ul class=\"up-mobilesubnav-level-1\"><li><div><span class=\"up-mobilesubnav-level-1-title\">Studium</span><span class=\"up-mobilesubnav-arrow up-icon\"></span></div><ul class=\"up-mobilesubnav-level-2\"><li><a href=\"https://www.uni-potsdam.de/de/studium/\" target=\"_top\">Studieren an der UP</a></li><li><a href=\"https://www.uni-potsdam.de/de/studium/studienangebot/uebersicht\" target=\"_top\">Studienangebot</a></li><li><a href=\"https://www.uni-potsdam.de/de/studium/zugang/uebersicht\" target=\"_top\">Bewerbung und Immatrikulation</a></li><li><a href=\"https://www.uni-potsdam.de/de/studium/konkret/uebersicht\" target=\"_top\">Studium konkret</a></li><li><a href=\"https://www.uni-potsdam.de/de/studium/beratung/uebersicht\" target=\"_top\">Beratungs- und Serviceeinrichtungen</a></li><li class=\"last\"><a href=\"https://www.uni-potsdam.de/de/studium/termine/uebersicht\" target=\"_top\">Termine und Fristen</a></li></ul></li><li><div><span class=\"up-mobilesubnav-level-1-title\">Forschung</span><span class=\"up-mobilesubnav-arrow up-icon\"></span></div><ul class=\"up-mobilesubnav-level-2\"><li><a href=\"https://www.uni-potsdam.de/de/forschung/\" target=\"_top\">Forschen an der UP</a></li><li><a href=\"https://www.uni-potsdam.de/de/forschung/profile-programme-projekte/uebersicht\" target=\"_top\">Profile, Programme und Projekte</a></li><li><a href=\"https://www.uni-potsdam.de/de/forschung/forschungsfoerderung/uebersicht\" target=\"_top\">Forschungsf\\xc3\\xb6rderung</a></li><li><a href=\"https://www.uni-potsdam.de/de/forschungsdaten/\" target=\"_top\">Forschungsdaten</a></li><li><a href=\"https://www.uni-potsdam.de/de/forschung/kooperationen-partnerschaften/uebersicht\" target=\"_top\">Kooperationen und Partnerschaften</a></li><li class=\"last\"><a href=\"https://www.uni-potsdam.de/de/forschung/wissenschaftlicher-nachwuchs/uebersicht\" target=\"_top\">Wissenschaftlicher Nachwuchs</a></li></ul></li><li><div><span class=\"up-mobilesubnav-level-1-title\">Universit\\xc3\\xa4t</span><span class=\"up-mobilesubnav-arrow up-icon\"></span></div><ul class=\"up-mobilesubnav-level-2\"><li><a href=\"https://www.uni-potsdam.de/de/up-entdecken/\" target=\"_top\">UP entdecken</a></li><li><a href=\"/de/fakultaeten/uebersicht\">Fakult\\xc3\\xa4ten</a></li><li><a href=\"/de/organisation/uebersicht\">Organisation</a></li><li><a href=\"https://www.uni-potsdam.de/de/wirtschaft-transfer-gesellschaft/\" target=\"_top\">Wirtschaft, Transfer und Gesellschaft</a></li><li><a href=\"https://www.uni-potsdam.de/de/international/\" target=\"_top\">Campus International</a></li><li><a href=\"https://www.uni-potsdam.de/de/foerderung/index\" target=\"_top\">F\\xc3\\xb6rderinstrumente</a></li><li class=\"last\"><a href=\"https://www.uni-potsdam.de/de/arbeiten-an-der-up/\" target=\"_top\">Arbeiten an der UP</a></li></ul></li><li><div><span class=\"up-mobilesubnav-level-1-title\">Online-Dienste</span><span class=\"up-mobilesubnav-arrow up-icon\"></span></div><ul class=\"up-mobilesubnav-level-2\"><li><a href=\"https://www.intern.uni-potsdam.de\" target=\"_top\">Intranet</a></li><li><a href=\"https://bi.uni-potsdam.de/jasperserver-pro/login.html\" target=\"_top\">BI.UP</a></li><li><a href=\"https://mailup.uni-potsdam.de\" target=\"_top\">Mail.UP (Webmailbox)</a></li><li><a href=\"https://puls.uni-potsdam.de/qisserver/rds?state=user&amp;type=0&amp;application=lsf\" target=\"_top\">PULS</a></li><li><a href=\"https://moodle2.uni-potsdam.de\" target=\"_top\">Moodle</a></li><li><a href=\"https://www.ub.uni-potsdam.de/de/\" target=\"_top\">Universit\\xc3\\xa4tsbibliothek</a></li><li><a href=\"https://pep.uni-potsdam.de\" target=\"_top\">Evaluationsportal (PEP)</a></li><li><a href=\"https://www.uni-potsdam.de/de/praxisportal/\" target=\"_top\">Praxisportal</a></li><li class=\"last\"><a href=\"https://www.uni-potsdam.de/de/zim/\" target=\"_top\">ZIM</a></li></ul></li><li class=\"up-metanav-item\"><a href=\"/de/\">Uni-Startseite</a></li><li class=\"up-metanav-item\"><a href=\"/de/notfall\">Notfall</a></li><li class=\"up-metanav-item\"><a href=\"/de/index-a-z\">Uni A-Z</a></li><li class=\"up-metanav-item\"><a href=\"/de/adressen\">Adressen</a></li><li class=\"close last\"><div class=\"up-nav-close\"><span class=\"up-nav-close-title up-nav-close-btn\"></span></div></li></ul></div></div><div id=\"up_header_wrapper\"><div id=\"up_section_indicator_left\" class=\"eight columns hide-for-small\"></div><div id=\"up_header\" class=\"row hide-for-small\"><div class=\"twentyfour columns\"><div class=\"row\"><div class=\"eight columns mobile-four\"><div id=\"up_section_indicator\"><div id=\"up_page_title\" class=\"up-logo\"><div id=\"up_logo_indicator_wrapper\"><div id=\"up_logo_indicator\"><span>&nbsp;</span></div><div id=\"up_logo_image\"><a href=\"/de/\" title=\"zur Uni-Startseite\"><img src=\"/typo3conf/ext/up_template/Resources/Public/Images/logos/up_logo_university_2.png\" alt=\"Logo Universit\\xc3\\xa4t Potsdam\"/></a></div><div id=\"up_logo_title\"><a href=\"/de/\" title=\"zur Startseite des Bereichs Universit\\xc3\\xa4t Potsdam\">Universit\\xc3\\xa4t Potsdam</a></div><div id=\"up_logo_footer\"></div></div></div></div></div><div class=\"sixteen columns\"><div class=\"row\"><div class=\"twentyfour columns\"><div id=\"up_searchbox\" class=\"right\"><span class=\"up-searchbox-glass up-icon\"></span><div class=\"up-searchbox-field\"><form action=\"https://www.google.de/search\" target=\"_blank\"><input id=\"up_searchbox_input\" type=\"text\" name=\"q\" value=\"Suche auf uni-potsdam.de\" onblur=\"if(this.value==\\'\\') this.value=\\'Suche auf uni-potsdam.de\\';\" onfocus=\"if(this.value==\\'Suche auf uni-potsdam.de\\') this.value=\\'\\';\"><input id=\"up_searchbox_submit\" class=\"up-icon\" type=\"submit\" name=\"submit\" value=\"\"/><input type=\"hidden\" name=\"sitesearch\" value=\"www.uni-potsdam.de\"></form></div></div><div id=\"up_langnav\" class=\"right\"><ul class=\"up-langnav-level-1\"><li><div><span class=\"up-langnav-level-1-title up-icon\">Deutsch</span><span class=\"up-langnav-arrow up-icon\"></span></div><ul class=\"up-langnav-level-2\"><li><a href=\"/en/university-of-potsdam\">English</a></li><li class=\"not-existing\">&nbsp;</li><li class=\"not-existing\">&nbsp;</li><li class=\"not-existing\">&nbsp;</li></ul></li></ul></div><div id=\"up_metanav\"><ul class=\"inline-list right\"><li><a href=\"/de/\">Uni-Startseite</a></li><li><a href=\"/de/notfall\">Notfall</a></li><li><a href=\"/de/index-a-z\">Uni A-Z</a></li><li><a href=\"/de/adressen\">Adressen</a></li></ul></div></div></div><div class=\"row\"><div class=\"twentyfour columns\"><div id=\"up_globalnav\"><ul class=\"up-globalnav-level-1\"><li><div><span class=\"up-globalnav-level-1-title\">Studium</span><span class=\"up-globalnav-arrow up-icon\"></span></div><ul class=\"up-globalnav-level-2\"><li><a href=\"https://www.uni-potsdam.de/de/studium/\" target=\"_top\">Studieren an der UP</a></li><li><a href=\"https://www.uni-potsdam.de/de/studium/studienangebot/uebersicht\" target=\"_top\">Studienangebot</a></li><li><a href=\"https://www.uni-potsdam.de/de/studium/zugang/uebersicht\" target=\"_top\">Bewerbung und Immatrikulation</a></li><li><a href=\"https://www.uni-potsdam.de/de/studium/konkret/uebersicht\" target=\"_top\">Studium konkret</a></li><li><a href=\"https://www.uni-potsdam.de/de/studium/beratung/uebersicht\" target=\"_top\">Beratungs- und Serviceeinrichtungen</a></li><li class=\"last\"><a href=\"https://www.uni-potsdam.de/de/studium/termine/uebersicht\" target=\"_top\">Termine und Fristen</a></li></ul></li><li><div><span class=\"up-globalnav-level-1-title\">Forschung</span><span class=\"up-globalnav-arrow up-icon\"></span></div><ul class=\"up-globalnav-level-2\"><li><a href=\"https://www.uni-potsdam.de/de/forschung/\" target=\"_top\">Forschen an der UP</a></li><li><a href=\"https://www.uni-potsdam.de/de/forschung/profile-programme-projekte/uebersicht\" target=\"_top\">Profile, Programme und Projekte</a></li><li><a href=\"https://www.uni-potsdam.de/de/forschung/forschungsfoerderung/uebersicht\" target=\"_top\">Forschungsf\\xc3\\xb6rderung</a></li><li><a href=\"https://www.uni-potsdam.de/de/forschungsdaten/\" target=\"_top\">Forschungsdaten</a></li><li><a href=\"https://www.uni-potsdam.de/de/forschung/kooperationen-partnerschaften/uebersicht\" target=\"_top\">Kooperationen und Partnerschaften</a></li><li class=\"last\"><a href=\"https://www.uni-potsdam.de/de/forschung/wissenschaftlicher-nachwuchs/uebersicht\" target=\"_top\">Wissenschaftlicher Nachwuchs</a></li></ul></li><li><div><span class=\"up-globalnav-level-1-title\">Universit\\xc3\\xa4t</span><span class=\"up-globalnav-arrow up-icon\"></span></div><ul class=\"up-globalnav-level-2\"><li><a href=\"https://www.uni-potsdam.de/de/up-entdecken/\" target=\"_top\">UP entdecken</a></li><li><a href=\"/de/fakultaeten/uebersicht\">Fakult\\xc3\\xa4ten</a></li><li><a href=\"/de/organisation/uebersicht\">Organisation</a></li><li><a href=\"https://www.uni-potsdam.de/de/wirtschaft-transfer-gesellschaft/\" target=\"_top\">Wirtschaft, Transfer und Gesellschaft</a></li><li><a href=\"https://www.uni-potsdam.de/de/international/\" target=\"_top\">Campus International</a></li><li><a href=\"https://www.uni-potsdam.de/de/foerderung/index\" target=\"_top\">F\\xc3\\xb6rderinstrumente</a></li><li class=\"last\"><a href=\"https://www.uni-potsdam.de/de/arbeiten-an-der-up/\" target=\"_top\">Arbeiten an der UP</a></li></ul></li><li class=\"last\"><div><span class=\"up-globalnav-level-1-title\">Online-Dienste</span><span class=\"up-globalnav-arrow up-icon\"></span></div><ul class=\"up-globalnav-level-2\"><li><a href=\"https://www.intern.uni-potsdam.de\" target=\"_top\">Intranet</a></li><li><a href=\"https://bi.uni-potsdam.de/jasperserver-pro/login.html\" target=\"_top\">BI.UP</a></li><li><a href=\"https://mailup.uni-potsdam.de\" target=\"_top\">Mail.UP (Webmailbox)</a></li><li><a href=\"https://puls.uni-potsdam.de/qisserver/rds?state=user&amp;type=0&amp;application=lsf\" target=\"_top\">PULS</a></li><li><a href=\"https://moodle2.uni-potsdam.de\" target=\"_top\">Moodle</a></li><li><a href=\"https://www.ub.uni-potsdam.de/de/\" target=\"_top\">Universit\\xc3\\xa4tsbibliothek</a></li><li><a href=\"https://pep.uni-potsdam.de\" target=\"_top\">Evaluationsportal (PEP)</a></li><li><a href=\"https://www.uni-potsdam.de/de/praxisportal/\" target=\"_top\">Praxisportal</a></li><li class=\"last\"><a href=\"https://www.uni-potsdam.de/de/zim/\" target=\"_top\">ZIM</a></li></ul></li></ul></div></div></div></div></div></div></div><div id=\"up_header_small\" class=\"row show-for-small\"><div class=\"columns mobile-four up-header-small-logo\"><div id=\"up_logo_indicator_wrapper_small\"><div id=\"up_logo_image_small\"><a href=\"/de/\" title=\"zur Uni-Startseite\"><img src=\"/typo3conf/ext/up_template/Resources/Public/Images/logos/up_logo_university_2.png\" alt=\"Logo Universit\\xc3\\xa4t Potsdam\"/></a></div><div id=\"up_logo_title_small\"><a href=\"/de/\" title=\"zur Startseite des Bereichs Universit\\xc3\\xa4t Potsdam\">Universit\\xc3\\xa4t Potsdam</a></div><div id=\"up_logo_footer_small\"></div></div></div></div></div><div id=\"up_mainnav_wrapper\" class=\"hide-for-small\"><div class=\"row\"><div class=\"twentyfour columns\"><div id=\"up_mainnav\"><ul class=\"up-mainnav-level-1 up-smooth-box up-mainnav-width-5\"><li><div><span class=\"up-mainnav-level-1-title\">UP entdecken</span><span class=\"up-mainnav-arrow up-icon\"></span></div><ul class=\"up-mainnav-level-2\"><li><a href=\"https://www.uni-potsdam.de/de/up-entdecken/\" target=\"_top\">\\xc3\\x9cbersicht</a></li><li><a href=\"https://www.uni-potsdam.de/de/up-entdecken/upaktuell/uebersicht\" target=\"_top\">Aktuelle Themen</a></li><li><a href=\"https://www.uni-potsdam.de/de/up-entdecken/upkompakt/uebersicht\" target=\"_top\">UP kompakt</a></li><li><a href=\"https://www.uni-potsdam.de/de/up-entdecken/up-vor-ort/uebersicht\" target=\"_top\">UP vor Ort</a></li><li><a href=\"https://www.uni-potsdam.de/de/up-entdecken/up-erleben/uebersicht\" target=\"_top\">UP erleben</a></li><li class=\"last\"><a href=\"https://www.uni-potsdam.de/de/up-entdecken/up-im-portraet/uebersicht\" target=\"_top\">UP im Portr\\xc3\\xa4t</a></li></ul></li><li><div><span class=\"up-mainnav-level-1-title\">Fakult\\xc3\\xa4ten</span><span class=\"up-mainnav-arrow up-icon\"></span></div><ul class=\"up-mainnav-level-2\"><li><a href=\"/de/fakultaeten/uebersicht\">\\xc3\\x9cbersicht</a></li><li><a href=\"https://www.uni-potsdam.de/de/jura/\" target=\"_top\">Juristische Fakult\\xc3\\xa4t</a></li><li><a href=\"https://www.uni-potsdam.de/de/philfak/\" target=\"_top\">Philosophische Fakult\\xc3\\xa4t</a></li><li><a href=\"https://www.uni-potsdam.de/de/humfak/\" target=\"_top\">Humanwissenschaftliche Fakult\\xc3\\xa4t</a></li><li><a href=\"https://www.uni-potsdam.de/de/wiso/\" target=\"_top\">Wirtschafts- und Sozialwissenschaftliche Fakult\\xc3\\xa4t</a></li><li><a href=\"https://www.uni-potsdam.de/de/mnfakul/\" target=\"_top\">Mathematisch-Naturwissenschaftliche Fakult\\xc3\\xa4t</a></li><li><a href=\"https://www.uni-potsdam.de/de/digital-engineering/\" target=\"_top\">Digital Engineering Fakult\\xc3\\xa4t</a></li><li class=\"last\"><a href=\"/de/fakultaeten/fakultaet-fuer-gesundheitswissenschaften\">Fakult\\xc3\\xa4t f\\xc3\\xbcr Gesundheitswissenschaften</a></li></ul></li><li><div><span class=\"up-mainnav-level-1-title\">Organisation</span><span class=\"up-mainnav-arrow up-icon\"></span></div><ul class=\"up-mainnav-level-2\"><li><a href=\"/de/organisation/uebersicht\">\\xc3\\x9cbersicht</a></li><li><a href=\"/de/organisation/organe-gremien\">Organe und Gremien</a></li><li><a href=\"/de/organisation/universitaetsleitung-und-verwaltung\">Universit\\xc3\\xa4tsleitung und Verwaltung</a></li><li><a href=\"/de/organisation/zentrale-und-wissenschaftliche-einrichtungen\">Zentrale und wissenschaftliche Einrichtungen</a></li><li><a href=\"https://www.ub.uni-potsdam.de/ub.html\" target=\"_top\">Bibliothek</a></li><li class=\"last\"><a href=\"/de/organisation/weitere-einrichtungen\">Weitere Einrichtungen</a></li></ul></li><li><div><span class=\"up-mainnav-level-1-title\">Campus International</span><span class=\"up-mainnav-arrow up-icon\"></span></div><ul class=\"up-mainnav-level-2\"><li><a href=\"https://www.uni-potsdam.de/de/international/\" target=\"_top\">\\xc3\\x9cbersicht</a></li><li><a href=\"https://www.uni-potsdam.de/de/international/profil/uebersicht\" target=\"_top\">Profil International</a></li><li><a href=\"https://www.uni-potsdam.de/de/international/service/uebersicht\" target=\"_top\">Service an der UP</a></li><li><a href=\"https://www.uni-potsdam.de/de/international/outgoing/uebersicht\" target=\"_top\">Ins Ausland</a></li><li><a href=\"https://www.uni-potsdam.de/de/international/incoming/uebersicht\" target=\"_top\">Aus dem Ausland</a></li><li class=\"last\"><a href=\"https://www.uni-potsdam.de/de/international/projekte/uebersicht\" target=\"_top\">Projekte International</a></li></ul></li><li class=\"last\"><div><span class=\"up-mainnav-level-1-title\">Wirtschaft, Transfer und Gesellschaft</span><span class=\"up-mainnav-arrow up-icon\"></span></div><ul class=\"up-mainnav-level-2\"><li><a href=\"https://www.uni-potsdam.de/de/wirtschaft-transfer-gesellschaft/\" target=\"_top\">\\xc3\\x9cbersicht</a></li><li><a href=\"https://www.uni-potsdam.de/de/wirtschaft-transfer-gesellschaft/piw/piw\" target=\"_top\">Partnerkreis Industrie und Wirtschaft</a></li><li><a href=\"https://www.uni-potsdam.de/de/wirtschaft-transfer-gesellschaft/services-fuer-unternehmen/uebersicht\" target=\"_top\">Services f\\xc3\\xbcr Unternehmen</a></li><li><a href=\"https://www.uni-potsdam.de/de/wirtschaft-transfer-gesellschaft/gruendung-und-transfer/uebersicht\" target=\"_top\">Gr\\xc3\\xbcndung und Transfer</a></li><li><a href=\"https://www.uni-potsdam.de/de/wirtschaft-transfer-gesellschaft/foerdern-und-stiften/uebersicht\" target=\"_top\">F\\xc3\\xb6rdern und Stiften</a></li><li class=\"last\"><a href=\"https://www.uni-potsdam.de/de/wirtschaft-transfer-gesellschaft/weiterbildung/weiterbildungsangebote\" target=\"_top\">Weiterbildung</a></li></ul></li></ul><div class=\"up-nav-close\"><span class=\"up-nav-close-title up-nav-close-btn\">Schliessen</span></div></div></div></div></div><div id=\"c4554\"><div id=\"up_stage_wrapper\"><div id=\"up_stage_wrapper_inner\"><div class=\"row\"><div class=\"twentyfour columns mobile-four\"><div id=\"up_stage\"><div data-caption=\"#up_stage_caption_3\" style=\"display:none\"><a href=\"https://www.uni-potsdam.de/de/potsdam-transfer/startup-service/workshops-events/start-up-story-night\" target=\"_top\"><img title=\"Start-up Streaming Night #4 | Bild: Tilo Bergemann\" alt=\"Start-up Streaming Night #4 | Bild: Tilo Bergemann\" src=\"/typo3temp/assets/_processed_/0/d/csm_SSN_20210422_Bu%CC%88hne-PO%CC%88_V04_94d3b57592.png\" width=\"1170\" height=\"470\"/></a></div><div data-caption=\"#up_stage_caption_4\" style=\"display:none\"><a href=\"https://www.uni-potsdam.de/de/up-entdecken/upaktuell/universitaetsmagazine\" target=\"_top\"><img title=\"Titelbild der neuen Ausgabe \\xe2\\x80\\x9ePortal Wissen\\xe2\\x80\\x9c Eins 2021 | Grafik: Andreas T\\xc3\\xb6pfer\" alt=\"Titelbild der neuen Ausgabe \\xe2\\x80\\x9ePortal Wissen\\xe2\\x80\\x9c Eins 2021 | Grafik: Andreas T\\xc3\\xb6pfer\" src=\"/typo3temp/assets/_processed_/8/2/csm_2021-01_Portal_1_2021_buehne_01_949dc86f7b.jpg\" width=\"1170\" height=\"470\"/></a></div><div data-caption=\"#up_stage_caption_5\" style=\"display:none\"><a href=\"https://www.uni-potsdam.de/de/nachrichten/detail/2021-04-15-hoppla-jetzt-kommt-koppla-die-revolution-fuers-handwerk\" target=\"_top\"><img title=\"Lasse Steffen, Marco Trippler und Jerome Lange (v.l.n.r.) | Foto: Thomas Roese\" alt=\"Lasse Steffen, Marco Trippler und Jerome Lange (v.l.n.r.) | Foto: Thomas Roese\" src=\"/typo3temp/assets/_processed_/7/f/csm_2021-04_Koppla_DSC2021_Thomas_Roese_buehne_9585b836e4.jpg\" width=\"1170\" height=\"470\"/></a></div></div><div class=\"orbit-caption\" id=\"up_stage_caption_3\"><a href=\"https://www.uni-potsdam.de/de/potsdam-transfer/startup-service/workshops-events/start-up-story-night\" target=\"_top\"><div><div class=\"up-stage-caption-header\">Start-up Streaming Night #4</div><div class=\"up-stage-caption-content\"><p>Folge: Go Global! | Am 22. April 2021 um 18 Uhr | Bild: Tilo Bergemann</p></div></div></a></div><div class=\"orbit-caption\" id=\"up_stage_caption_4\"><a href=\"https://www.uni-potsdam.de/de/up-entdecken/upaktuell/universitaetsmagazine\" target=\"_top\"><div><div class=\"up-stage-caption-header\">Portal Wissen Eins 2021 erschienen</div><div class=\"up-stage-caption-content\"><p>Im Fokus der Ausgabe: \\xe2\\x80\\x9eWandel\\xe2\\x80\\x9c | Grafik: Andreas T\\xc3\\xb6pfer</p></div></div></a></div><div class=\"orbit-caption\" id=\"up_stage_caption_5\"><a href=\"https://www.uni-potsdam.de/de/nachrichten/detail/2021-04-15-hoppla-jetzt-kommt-koppla-die-revolution-fuers-handwerk\" target=\"_top\"><div><div class=\"up-stage-caption-header\">Hoppla! Jetzt kommt Koppla!</div><div class=\"up-stage-caption-content\"><p>Die Revolution f\\xc3\\xbcrs Handwerk | Foto: Thomas Roese</p></div></div></a></div></div></div></div></div></div><div id=\"c185\"><div id=\"up_targetgroupnav_wrapper\" class=\"up-targetgroupnav-wrapper-large\"><div class=\"row\"><div class=\"twentyfour columns\"><div id=\"up_targetgroupnav_guide\"><div class=\"up-icon\"></div></div><div id=\"up_targetgroupnav\"><ul class=\"up-targetgroupnav-level-1 up-targetgroupnav-five-columns\"><li class=\"\"><div><div><span class=\"up-targetgroupnav-level-1-title\">Studieninteressierte und Studierende</span><span class=\"up-targetgroupnav-arrow up-icon\"></span></div></div><ul class=\"up-targetgroupnav-level-2\"><li class=\"\"><a href=\"https://www.uni-potsdam.de/de/studium/\" target=\"_top\">\\xc3\\x9cbersicht</a></li><li class=\"\"><a href=\"https://www.uni-potsdam.de/de/studium/studienangebot/uebersicht\" target=\"_top\">Studienangebot</a></li><li class=\"\"><a href=\"https://www.uni-potsdam.de/de/studium/zugang/uebersicht\" target=\"_top\">Bewerbung und Immatrikulation</a></li><li class=\"\"><a href=\"https://www.uni-potsdam.de/de/studium/konkret/anfaenger\" target=\"_top\">Infos zum Studienstart</a></li><li class=\"\"><a href=\"https://www.uni-potsdam.de/de/studium/konkret/uebersicht\" target=\"_top\">Studium konkret</a></li><li class=\"\"><a href=\"https://www.uni-potsdam.de/de/foerderung/4-studium\" target=\"_top\">F\\xc3\\xb6rderm\\xc3\\xb6glichkeiten in Lehre und Studium</a></li><li class=\"\"><a href=\"https://www.uni-potsdam.de/de/studium/konkret/studienorganisation/puck\" target=\"_top\">PUCK - Potsdamer Universit\\xc3\\xa4tsChipKarte</a></li><li class=\"\"><a href=\"/de/studieninteressierte-und-studierende/puls\">PULS</a></li><li class=\"\"><a href=\"https://www.uni-potsdam.de/de/studium/beratung/uebersicht\" target=\"_top\">Beratungs- und Serviceeinrichtungen</a></li><li class=\"\"><a href=\"https://www.uni-potsdam.de/de/studium/beratung/behinderung\" target=\"_top\">Studium mit Beeintr\\xc3\\xa4chtigung</a></li><li class=\"\"><a href=\"https://www.uni-potsdam.de/de/international/outgoing/uebersicht\" target=\"_top\">Studium und Praktikum im Ausland</a></li><li class=\"\"><a href=\"https://www.uni-potsdam.de/de/studium/konkret/abschluss\" target=\"_top\">Den Studienabschluss im Blick</a></li><li class=\"\"><a href=\"https://www.uni-potsdam.de/de/up-entdecken/up-vor-ort/uebersicht\" target=\"_top\">Studieren und Leben in Potsdam</a></li><li class=\"\"><a href=\"https://www.uni-potsdam.de/de/studium/konkret/wohnen-finanzen\" target=\"_top\">Finanzieren, F\\xc3\\xb6rdern &amp; Wohnen</a></li><li class=\"\"><a href=\"https://www.uni-potsdam.de/de/studium/konkret/wohnen-finanzen/stipendien\" target=\"_top\">Stipendienprogramme</a></li><li class=\"\"><a href=\"https://www.uni-potsdam.de/de/isc/kurse/summerschool\" target=\"_top\">International Summer Campus</a></li><li class=\"\"><a href=\"https://www.uni-potsdam.de/de/studium/termine/uebersicht\" target=\"_top\">Termine und Fristen</a></li><li class=\"last\"><a href=\"/de/studieninteressierte-und-studierende/unishop-der-universitaet-potsdam\">UNIshop der Universit\\xc3\\xa4t Potsdam</a></li></ul></li><li class=\"\"><div><div><span class=\"up-targetgroupnav-level-1-title\">Forschende und Lehrende</span><span class=\"up-targetgroupnav-arrow up-icon\"></span></div></div><ul class=\"up-targetgroupnav-level-2\"><li class=\"\"><a href=\"https://www.uni-potsdam.de/de/arbeiten-an-der-up/\" target=\"_top\">Arbeiten an der UP</a></li><li class=\"\"><a href=\"https://www.uni-potsdam.de/de/foerderung/index\" target=\"_top\">Systematik der UP-F\\xc3\\xb6rderinstrumente</a></li><li class=\"\"><a href=\"https://www.uni-potsdam.de/de/forschung/forschungsfoerderung/uebersicht\" target=\"_top\">Forschungsf\\xc3\\xb6rderung</a></li><li class=\"\"><a href=\"https://www.uni-potsdam.de/de/tenure-track/index\" target=\"_top\">Tenure-Track</a></li><li class=\"\"><a href=\"https://www.uni-potsdam.de/de/forschung/kooperationen-partnerschaften/uebersicht\" target=\"_top\">Kooperationen und Partnerschaften</a></li><li class=\"\"><a href=\"https://www.uni-potsdam.de/de/forschung/profile-programme-projekte/uebersicht\" target=\"_top\">Profile, Programme und Projekte</a></li><li class=\"\"><a href=\"https://www.uni-potsdam.de/de/presse/veranstaltungsmanagement/rahmenvereinbarung\" target=\"_top\">Tagungsservice</a></li><li class=\"\"><a href=\"https://www.uni-potsdam.de/de/raumvergabe/index\" target=\"_top\">Raumvergabe</a></li><li class=\"\"><a href=\"https://www.uni-potsdam.de/de/studium/termine/semestertermine\" target=\"_top\">Hochschultermine</a></li><li class=\"\"><a href=\"https://www.uni-potsdam.de/de/up-entdecken/up-im-portraet/uebersicht\" target=\"_top\">Universit\\xc3\\xa4tsportr\\xc3\\xa4t</a></li><li class=\"\"><a href=\"https://www.uni-potsdam.de/de/forschung/wissenschaftlicher-nachwuchs/uebersicht\" target=\"_top\">Wissenschaftlicher Nachwuchs</a></li><li class=\"\"><a href=\"https://www.uni-potsdam.de/de/wirtschaft-transfer-gesellschaft/gruendung-und-transfer/gruendungs-und-transferzentrum/gruendungsservice\" target=\"_top\">Gr\\xc3\\xbcndungsservice</a></li><li class=\"last\"><a href=\"https://www.uni-potsdam.de/de/isc/service/wissenschaftler\" target=\"_top\">International Summer Campus Office</a></li></ul></li><li class=\"\"><div><div><span class=\"up-targetgroupnav-level-1-title\">Unternehmen</span><span class=\"up-targetgroupnav-arrow up-icon\"></span></div></div><ul class=\"up-targetgroupnav-level-2\"><li class=\"\"><a href=\"https://www.uni-potsdam.de/de/foerderung/5-transfer\" target=\"_top\">F\\xc3\\xb6rderinstrumente zur St\\xc3\\xa4rkung der Zusammenarbeit in der Region</a></li><li class=\"\"><a href=\"https://www.uni-potsdam.de/de/wirtschaft-transfer-gesellschaft/piw/piw\" target=\"_top\">Partnerkreis Industrie und Wirtschaft</a></li><li class=\"\"><a href=\"https://www.uni-potsdam.de/de/wirtschaft-transfer-gesellschaft/services-fuer-unternehmen/tagungsorganisation\" target=\"_top\">Tagungsservice f\\xc3\\xbcr Unternehmen</a></li><li class=\"\"><a href=\"https://www.uni-potsdam.de/de/wirtschaft-transfer-gesellschaft/services-fuer-unternehmen/auftragsforschung\" target=\"_top\">Auftragsforschung/Patentservice</a></li><li class=\"\"><a href=\"https://www.uni-potsdam.de/de/wirtschaft-transfer-gesellschaft/services-fuer-unternehmen/praktikanten-absolventenvermittlung\" target=\"_top\">Fachkr\\xc3\\xa4fte finden</a></li><li class=\"\"><a href=\"https://www.uni-potsdam.de/de/wirtschaft-transfer-gesellschaft/weiterbildung/weiterbildungsangebote\" target=\"_top\">Weiterbildungsangebote</a></li><li class=\"\"><a href=\"https://www.uni-potsdam.de/de/wirtschaft-transfer-gesellschaft/foerdern-und-stiften/uebersicht\" target=\"_top\">F\\xc3\\xb6rdern und Stiften</a></li><li class=\"\"><a href=\"https://www.uni-potsdam.de/de/potsdam-transfer/startup-service/gruendungsnetzwerk\" target=\"_top\">Junior- und Senior Experten</a></li><li class=\"last\"><a href=\"https://www.uni-potsdam.de/de/wirtschaft-transfer-gesellschaft/gruendung-und-transfer/uebersicht\" target=\"_top\">Unternehmerische Universit\\xc3\\xa4t</a></li></ul></li><li class=\"\"><div><div><span class=\"up-targetgroupnav-level-1-title\">Alumni, Freunde und F\\xc3\\xb6rdernde</span><span class=\"up-targetgroupnav-arrow up-icon\"></span></div></div><ul class=\"up-targetgroupnav-level-2\"><li class=\"\"><a href=\"https://www.uni-potsdam.de/de/wirtschaft-transfer-gesellschaft/foerdern-und-stiften/uebersicht\" target=\"_top\">F\\xc3\\xb6rdern und Stiften</a></li><li class=\"\"><a href=\"https://www.uni-potsdam.de/de/alumni/index\" target=\"_top\">Alumni Service</a></li><li class=\"\"><a href=\"https://www.uni-potsdam.de/de/uniges/\" target=\"_top\">Universit\\xc3\\xa4tsgesellschaft Potsdam e.V.</a></li><li class=\"\"><a href=\"https://www.uni-potsdam.de/de/foerderung/index\" target=\"_top\">Systematik der UP-F\\xc3\\xb6rderinstrumente</a></li><li class=\"\"><a href=\"https://www.uni-potsdam.de/de/wirtschaft-transfer-gesellschaft/piw/piw\" target=\"_top\">Partnerkreis Industrie und Wirtschaft</a></li><li class=\"last\"><a href=\"/de/alumni-freunde-und-foerdernde/unishop-der-universitaet-potsdam\">UNIshop der Universit\\xc3\\xa4t Potsdam</a></li></ul></li><li class=\"last\"><div><div><span class=\"up-targetgroupnav-level-1-title\">Presse und Medien</span><span class=\"up-targetgroupnav-arrow up-icon\"></span></div></div><ul class=\"up-targetgroupnav-level-2\"><li class=\"\"><a href=\"https://www.uni-potsdam.de/de/presse/medienservice/ansprechpersonen\" target=\"_top\">Kontakt</a></li><li class=\"\"><a href=\"https://www.uni-potsdam.de/de/presse/medienservice/expertenservice\" target=\"_top\">Expertenservice</a></li><li class=\"\"><a href=\"https://www.uni-potsdam.de/de/presse/medienservice/die-up-in-bildern\" target=\"_top\">Pressebilder</a></li><li class=\"last\"><a href=\"https://www.uni-potsdam.de/de/presse/medienservice/medienverteiler-und-feeds\" target=\"_top\">Medienverteiler und Feeds</a></li></ul></li></ul></div></div></div></div></div><div id=\"up_breadcrumbs_wrapper\" class=\"show-for-print\"><div class=\"row\"><div class=\"twentyfour columns\"><div id=\"up_breadcrumbs\"><ul class=\"up-breadcrumbs\"><li class=\"cur\"><span>Universit\\xc3\\xa4t Potsdam</span></li></ul></div></div></div></div><div id=\"up_content_wrapper\" class=\"up-content-home-template\"><div id=\"up_content\" class=\"row\"><div class=\"sixteen columns\"><div id=\"c36956\"><header><h1 class=\"\"> Aus der Universit\\xc3\\xa4t </h1></header></div><div id=\"c144225\"><div class=\"up-a-teaser-2-container\"><div class=\"row collapse up-a-teaser-2-box\"><div class=\"twentyfour large columns\"><div class=\"row collapse up-smooth-box\"><div class=\"twelve mobile-four columns up-a-teaser-2 up-a-teaser-2-left\"><div class=\"up-a-teaser-2-image\"><a href=\"https://www.uni-potsdam.de/de/presse/aktuelles/coronavirus\" target=\"_top\"><img title=\"Coronavirus | Foto: AdobeStock/Romolo Tavani\" alt=\"Coronavirus | Foto: AdobeStock/Romolo Tavani\" src=\"/typo3temp/assets/_processed_/4/2/csm_06032020_corona_info_artikelteaser_AdobeStock_319718852_Romolo_Tavani_01_a171ad4d1f.jpg\" width=\"430\" height=\"223\"/></a></div><div class=\"up-a-teaser-2-text\"><a href=\"https://www.uni-potsdam.de/de/presse/aktuelles/coronavirus\" target=\"_top\"><h2>Corona-Update</h2></a><p>Auf dieser Seite informiert die Uni-Leitung \\xc3\\xbcber aktuelle Ma\\xc3\\x9fnahmen und Hinweise in Zusammenhang mit dem Coronavirus. | Foto: AdobeStock/Romolo Tavani</p><a href=\"https://www.uni-potsdam.de/de/presse/aktuelles/coronavirus\" target=\"_top\" class=\"up-a-teaser-2-more\"> mehr... </a></div></div><div class=\"twelve mobile-four columns up-a-teaser-2 up-a-teaser-2-right\"><div class=\"up-a-teaser-2-image\"><a href=\"/de/nachrichten/detail/2021-03-30-engagiert-kuhlmann-stiftung-unterstuetzt-potsdamer-studierende-mit-100000-euro\"><img title=\"Kuhlmann-Stiftung unterst\\xc3\\xbctzt Potsdamer Studierende mit 100.000 Euro | Foto: Unsplash / Brooke Cagle\" alt=\"Junge Studierende unterhalten sich | Foto: Unsplash / Brooke Cagle\" src=\"/typo3temp/assets/_processed_/8/9/csm_2021-03_Universitaetsstipendium_USP_Foto_Brooke-Cagle_Unsplash_e758bd0083.jpg\" width=\"430\" height=\"223\"/></a></div><div class=\"up-a-teaser-2-text\"><a href=\"/de/nachrichten/detail/2021-03-30-engagiert-kuhlmann-stiftung-unterstuetzt-potsdamer-studierende-mit-100000-euro\"><h2>Engagiert</h2></a><p>Kuhlmann-Stiftung unterst\\xc3\\xbctzt Potsdamer Studierende mit 100.000 Euro. | Foto: Unsplash/Brooke Cagle</p><a class=\"up-a-teaser-2-more\" href=\"/de/nachrichten/detail/2021-03-30-engagiert-kuhlmann-stiftung-unterstuetzt-potsdamer-studierende-mit-100000-euro\"> mehr... </a></div></div></div></div></div></div></div><div id=\"c36896\"><div class=\"up-a-teaser-2-container\"><div class=\"row collapse up-a-teaser-2-box\"><div class=\"twentyfour large columns\"><div class=\"row collapse up-smooth-box\"><div class=\"twelve mobile-four columns up-a-teaser-2 up-a-teaser-2-left\"><div class=\"up-a-teaser-2-image\"><a href=\"/de/nachrichten/detail/2021-04-13-wir-waren-exotisch-der-linguist-gisbert-fanselow-und-der-psychologe-reinhold-klie\"><img title=\"In gemeinsamer Forschung vertieft wie am ersten Tag \\xe2\\x80\\x93 Linguist Gisbert Fanselow und Psychologie Reinhold Kliegl, 2014 | Foto: ZIM\" alt=\"In gemeinsamer Forschung vertieft wie am ersten Tag \\xe2\\x80\\x93 Linguist Gisbert Fanselow und Psychologie Reinhold Kliegl, 2014 | Foto: ZIM\" src=\"/typo3temp/assets/_processed_/b/2/csm_2021-04_Fanselow_Kliegl_2014_Foto_ZIM_0d35d1245e.jpg\" width=\"430\" height=\"223\"/></a></div><div class=\"up-a-teaser-2-text\"><a href=\"/de/nachrichten/detail/2021-04-13-wir-waren-exotisch-der-linguist-gisbert-fanselow-und-der-psychologe-reinhold-klie\"><h2>\\xe2\\x80\\x9eWir waren exotisch!\\xe2\\x80\\x9c</h2></a><p>Linguist Gisbert Fanselow und Psychologe Reinhold Kliegl im Gespr\\xc3\\xa4ch \\xc3\\xbcber l\\xc3\\xb6chrige D\\xc3\\xa4cher, schwierige Anf\\xc3\\xa4nge und die richtigen Forschungsfragen | Foto:ZIM</p><a class=\"up-a-teaser-2-more\" href=\"/de/nachrichten/detail/2021-04-13-wir-waren-exotisch-der-linguist-gisbert-fanselow-und-der-psychologe-reinhold-klie\"> mehr... </a></div></div><div class=\"twelve mobile-four columns up-a-teaser-2 up-a-teaser-2-right\"><div class=\"up-a-teaser-2-image\"><a href=\"/de/nachrichten/detail/2021-03-29-covid-19-schnelltests-an-der-universitaet-potsdam-kooperation-mit-johannitern-und-apothe\"><img title=\"Der Pr\\xc3\\xa4sident der Universit\\xc3\\xa4t Potsdam, Prof. Oliver G\\xc3\\xbcnther, Ph.D. bei der mobilen Teststation auf dem Campus Am Neuen Palais | Foto: Dr. Silke Engel\" alt=\"Der Pr\\xc3\\xa4sident der Universit\\xc3\\xa4t Potsdam, Prof. Oliver G\\xc3\\xbcnther, Ph.D. bei der mobilen Teststation auf dem Campus Am Neuen Palais | Foto: Dr. Silke Engel\" src=\"/typo3temp/assets/_processed_/a/8/csm_2021_021_Praesident_Guenther_Covid_Schnelltest_Foto_Silke_Engel_artikel_01_6da92dc4b8.jpg\" width=\"430\" height=\"223\"/></a></div><div class=\"up-a-teaser-2-text\"><a href=\"/de/nachrichten/detail/2021-03-29-covid-19-schnelltests-an-der-universitaet-potsdam-kooperation-mit-johannitern-und-apothe\"><h2>Covid-19-Schnelltests an der Universit\\xc3\\xa4t Potsdam</h2></a><p>Kooperation mit Johannitern und Apotheke | Foto: Dr. Silke Engel</p><a class=\"up-a-teaser-2-more\" href=\"/de/nachrichten/detail/2021-03-29-covid-19-schnelltests-an-der-universitaet-potsdam-kooperation-mit-johannitern-und-apothe\"> mehr... </a></div></div></div></div></div></div></div><div id=\"c36900\"><div class=\"up-a-teaser-2-container\"><div class=\"row collapse up-a-teaser-2-box\"><div class=\"twentyfour large columns\"><div class=\"row collapse up-smooth-box\"><div class=\"twelve mobile-four columns up-a-teaser-2 up-a-teaser-2-left\"><div class=\"up-a-teaser-2-image\"><a href=\"https://www.uni-potsdam.de/de/studium/konkret/anfaenger\" target=\"_top\"><img title=\"Das Audimax am Campus Neuen Palais | Foto: Matthias Friel\" alt=\"Das Audimax am Campus Neuen Palais | Foto: Matthias Friel\" src=\"/typo3temp/assets/_processed_/b/8/csm_audimax_teaser_studienstart_sose_friel_55a3d89700.jpg\" width=\"430\" height=\"223\"/></a></div><div class=\"up-a-teaser-2-text\"><a href=\"https://www.uni-potsdam.de/de/studium/konkret/anfaenger\" target=\"_top\"><h2>Noch Fragen zum Studium?</h2></a><p>Die Infos zum Studienstart helfen weiter | Foto: Matthias Friel</p><a href=\"https://www.uni-potsdam.de/de/studium/konkret/anfaenger\" target=\"_top\" class=\"up-a-teaser-2-more\"> mehr... </a></div></div><div class=\"twelve mobile-four columns up-a-teaser-2 up-a-teaser-2-right\"><div class=\"up-a-teaser-2-image\"><a href=\"/de/nachrichten/detail/2021-04-12-eine-bruecke-in-den-arbeitsmarkt-warum-betriebswirtin-kristina-nistor-noch-einmal-zur-uni-g\"><img title=\"Kristina Nistor absolvierte an der Uni eine Br\\xc3\\xbcckenma\\xc3\\x9fnahme f\\xc3\\xbcr Hochschulabsolventen mit Migrationsgeschichte. | Foto: Nadja Bossmann\" alt=\"Kristina Nistor absolvierte an der Uni eine Br\\xc3\\xbcckenma\\xc3\\x9fnahme f\\xc3\\xbcr Hochschulabsolventen mit Migrationsgeschichte. | Foto: Nadja Bossmann\" src=\"/typo3temp/assets/_processed_/6/8/csm_2021-03_Portraet_Kristina_Nistor_Bossmann_8723a28e90.jpg\" width=\"430\" height=\"223\"/></a></div><div class=\"up-a-teaser-2-text\"><a href=\"/de/nachrichten/detail/2021-04-12-eine-bruecke-in-den-arbeitsmarkt-warum-betriebswirtin-kristina-nistor-noch-einmal-zur-uni-g\"><h2>Eine Br\\xc3\\xbccke in den Arbeitsmarkt</h2></a><p>Warum Betriebswirtin Kristina Nistor noch einmal zur Uni ging | Foto: Nadja Bossmann</p><a class=\"up-a-teaser-2-more\" href=\"/de/nachrichten/detail/2021-04-12-eine-bruecke-in-den-arbeitsmarkt-warum-betriebswirtin-kristina-nistor-noch-einmal-zur-uni-g\"> mehr... </a></div></div></div></div></div></div></div><div id=\"c418453\"><div class=\"up-a-teaser-2-container\"><div class=\"row collapse up-a-teaser-2-box\"><div class=\"twentyfour large columns\"><div class=\"row collapse up-smooth-box\"><div class=\"twelve mobile-four columns up-a-teaser-2 up-a-teaser-2-left\"><div class=\"up-a-teaser-2-image\"><a href=\"/de/nachrichten/detail/2021-03-25-ich-wuerde-meine-verteidigung-auch-lieber-live-durchfuehren-luise-krompholz-macht\"><img title=\"Luise Theresa Krompholz | Foto: privat\" alt=\"Luise Theresa Krompholz | Foto: privat\" src=\"/typo3temp/assets/_processed_/6/7/csm_2021-03_Luise_Krompholz_privat_61bd6940c5.jpg\" width=\"430\" height=\"223\"/></a></div><div class=\"up-a-teaser-2-text\"><a href=\"/de/nachrichten/detail/2021-03-25-ich-wuerde-meine-verteidigung-auch-lieber-live-durchfuehren-luise-krompholz-macht\"><h2>\\xe2\\x80\\x9eIch w\\xc3\\xbcrde meine Verteidigung auch lieber live durchf\\xc3\\xbchren\\xe2\\x80\\x9c</h2></a><p>Luise Krompholz macht ihren Abschluss an der Uni fern der Uni | Foto: privat</p><a class=\"up-a-teaser-2-more\" href=\"/de/nachrichten/detail/2021-03-25-ich-wuerde-meine-verteidigung-auch-lieber-live-durchfuehren-luise-krompholz-macht\"> mehr... </a></div></div><div class=\"twelve mobile-four columns up-a-teaser-2 up-a-teaser-2-right\"><div class=\"up-a-teaser-2-image\"><a href=\"/de/nachrichten/detail/2021-03-25-gemeinsam-besser-universitaet-potsdam-verabschiedet-inklusionskonzept\"><img title=\"Inklusionskonzept | Foto: ZIM\" alt=\"Inklusionskonzept | Foto: ZIM\" src=\"/typo3temp/assets/_processed_/d/2/csm_2021-03_uni_fuer_alle_grafik_ZIM_artikel_2fbe29ef71.jpg\" width=\"430\" height=\"223\"/></a></div><div class=\"up-a-teaser-2-text\"><a href=\"/de/nachrichten/detail/2021-03-25-gemeinsam-besser-universitaet-potsdam-verabschiedet-inklusionskonzept\"><h2>Gemeinsam besser</h2></a><p>Universit\\xc3\\xa4t Potsdam verabschiedet Inklusionskonzept | Foto: ZIM</p><a class=\"up-a-teaser-2-more\" href=\"/de/nachrichten/detail/2021-03-25-gemeinsam-besser-universitaet-potsdam-verabschiedet-inklusionskonzept\"> mehr... </a></div></div></div></div></div></div></div><div id=\"c513778\"><div class=\"up-a-teaser-2-container\"><div class=\"row collapse up-a-teaser-2-box\"><div class=\"twentyfour large columns\"><div class=\"row collapse up-smooth-box\"><div class=\"twelve mobile-four columns up-a-teaser-2 up-a-teaser-2-left\"><div class=\"up-a-teaser-2-image\"><a href=\"/de/nachrichten/detail/2021-04-14-prof-dr-michael-lenhard-im-human-frontier-science-program-gefoerdert\"><img title=\"Links- und rechtsgrifflige Bl\\xc3\\xbcten von Wachendorfia paniculata. Die blauen Pfeile zeigen die Griffel, die orangenen Pfeilk\\xc3\\xb6pfe die Staubbeutel. Zwei der drei Staubbeutel sind jeweils auf die andere Seite als der Griffel gebogen. | Bildrechte: Michael Lenhard\" alt=\"Links- und rechtsgrifflige Bl\\xc3\\xbcten von Wachendorfia paniculata. Die blauen Pfeile zeigen die Griffel, die orangenen Pfeilk\\xc3\\xb6pfe die Staubbeutel. Zwei der drei Staubbeutel sind jeweils auf die andere Seite als der Griffel gebogen. | Bildrechte: Michael Lenhard\" src=\"/typo3temp/assets/_processed_/a/e/csm_2021_024_Wachendorfia_Lenhardt_teaser_5e4a46b16d.jpg\" width=\"430\" height=\"223\"/></a></div><div class=\"up-a-teaser-2-text\"><a href=\"/de/nachrichten/detail/2021-04-14-prof-dr-michael-lenhard-im-human-frontier-science-program-gefoerdert\"><h2>Prof. Dr. Michael Lenhard im Human Frontier Science Program gef\\xc3\\xb6rdert</h2></a><p>Der Leiter der Arbeitsgruppe Genetik wird in den n\\xc3\\xa4chsten drei Jahren zur Spiegelsymmetrie bei Bl\\xc3\\xbcten forschen | Foto: Michael Lenhard</p><a class=\"up-a-teaser-2-more\" href=\"/de/nachrichten/detail/2021-04-14-prof-dr-michael-lenhard-im-human-frontier-science-program-gefoerdert\"> mehr... </a></div></div><div class=\"twelve mobile-four columns up-a-teaser-2 up-a-teaser-2-right\"><div class=\"up-a-teaser-2-image\"><a href=\"/de/nachrichten/detail/2021-04-13-science-fiction-experimentelle-kooperation-von-germanistik-und-food4future\"><img title=\"Die Europ\\xc3\\xa4ische Quelle (Salicornia europaea) IGZ Fitzner\" alt=\"Die Europ\\xc3\\xa4ische Quelle (Salicornia europaea) IGZ Fitzner\" src=\"/typo3temp/assets/_processed_/2/7/csm_2021-04_Der_Europ%C3%A4ische_Quelle__Salicornia_europaea__IGZ_Fitzner_5613fc33c2.jpg\" width=\"430\" height=\"223\"/></a></div><div class=\"up-a-teaser-2-text\"><a href=\"/de/nachrichten/detail/2021-04-13-science-fiction-experimentelle-kooperation-von-germanistik-und-food4future\"><h2>Wie ern\\xc3\\xa4hren sich Menschen in Zukunftsromanen?</h2></a><p>Experimentelle Kooperation von Germanistik und dem Forschungsverbund food4future | Foto: IGZ Fitzner</p><a class=\"up-a-teaser-2-more\" href=\"/de/nachrichten/detail/2021-04-13-science-fiction-experimentelle-kooperation-von-germanistik-und-food4future\"> mehr... </a></div></div></div></div></div><div class=\"row up-a-teaser-2-closer\"><div class=\"twentyfour columns\"><div class=\"up-a-teaser-2-box-border-bottom\"></div><div class=\"up-a-teaser-2-box-more\"><a href=\"https://www.uni-potsdam.de/nachrichten.html\" target=\"_top\"> alle Artikel </a></div></div></div></div></div></div><div id=\"up_sidebar\" class=\"eight columns\"><div id=\"c540873\"><div class=\"up-video\" id=\"video-540873\"><div class=\"up-video-wrapper\"><video controls class=\"up-video-source up-video-poster\" poster=\"/fileadmin/projects/up/images/nachrichten/2021-03_Video-Blog18_Guenther_Screenshot_ZIM_web.jpg\" title=\"Prof. Oliver G\\xc3\\xbcnther, Pr\\xc3\\xa4sident der Universit\\xc3\\xa4t Potsdam spricht in seinem Video-Blog (Folge 18)\"><source src=\"https://mediaup.uni-potsdam.de/flash/bfg70b31_hd.mp4\" type=\"video/mp4\"></video></div><div class=\"up-video-description\"><p><strong>Die Norm bleibt vorerst digital - an der UP sind Schnelltests m\\xc3\\xb6glich</strong></p><p>Auch das Sommersemester 2021 startet digital. Im Verlauf hoffen wir auf schrittweise R\\xc3\\xbcckkehr in die Pr\\xc3\\xa4senz</p><p><a href=\"/fileadmin/projects/presse/docs/Corona-Webseiten/Video-Botschaft-18_Guenther.pdf\" title=\"Transkript zum Video-Blog (Folge 18) von Uni-Pr\\xc3\\xa4sident Prof. Oliver G\\xc3\\xbcnther\" class=\"up-document-link\">Der Video-Blog (Folge 18) zum Nachlesen</a></p></div></div></div><div id=\"c36875\"><div class=\"tx-up-events\"><div class=\"up-events-latest-box\"><div class=\"up-events-latest-box-title\"><h2><a href=\"/de/veranstaltungen\"> Veranstaltungen der UP </a></h2></div><ul class=\"up-events-latest\"><li class=\"up-events-latest-item\"><div class=\"up-events-latest-date\"><div class=\"up-events-latest-date-day\"> 15 </div><div class=\"up-events-latest-date-month\"> Apr </div></div><div class=\"up-events-latest-text\"><a href=\"/de/veranstaltungen/detail/2021-04-15-die-eigene-lehre-im-fokus-online-workshop\"> Die eigene Lehre im Fokus (Online-Workshop) </a></div><div class=\"up-clear\"></div></li><li class=\"up-events-latest-item\"><div class=\"up-events-latest-date\"><div class=\"up-events-latest-date-day\"> 15 </div><div class=\"up-events-latest-date-month\"> Apr </div></div><div class=\"up-events-latest-text\"><a href=\"/de/veranstaltungen/detail/2021-04-15-einfuehrung-in-zoom-fuer-in-der-lehre-taetige-personen\"> Einf\\xc3\\xbchrung in Zoom (f\\xc3\\xbcr in der Lehre t\\xc3\\xa4tige Personen) </a></div><div class=\"up-clear\"></div></li><li class=\"up-events-latest-item\"><div class=\"up-events-latest-date\"><div class=\"up-events-latest-date-day\"> 15 </div><div class=\"up-events-latest-date-month\"> Apr </div></div><div class=\"up-events-latest-text\"><a href=\"/de/veranstaltungen/detail/2021-04-15-health-workshops-2021-die-kraft-der-hormone-stimmungen-aktiv-regulieren\"> Health Workshops 2021: Die Kraft der Hormone \\xe2\\x80\\x93 Stimmungen aktiv regulieren </a></div><div class=\"up-clear\"></div></li><li class=\"up-events-latest-item\"><div class=\"up-events-latest-date\"><div class=\"up-events-latest-date-day\"> 15 </div><div class=\"up-events-latest-date-month\"> Apr </div></div><div class=\"up-events-latest-text\"><a href=\"/de/veranstaltungen/detail/2021-04-15-clit-night\"> Digitaler Themenabend \\xe2\\x80\\x9eClit Night\\xe2\\x80\\x9c </a></div><div class=\"up-clear\"></div></li><li class=\"up-events-latest-item\"><div class=\"up-events-latest-date\"><div class=\"up-events-latest-date-day\"> 15 </div><div class=\"up-events-latest-date-month\"> Apr </div></div><div class=\"up-events-latest-text\"><a href=\"/de/veranstaltungen/detail/2021-04-15-the-history-of-humanitarianism-a-new-field-of-research0\"> The History of Humanitarianism - A new Field of Research? </a></div><div class=\"up-clear\"></div></li><li class=\"up-events-latest-item\"><div class=\"up-events-latest-date\"><div class=\"up-events-latest-date-day\"> 15 </div><div class=\"up-events-latest-date-month\"> Apr </div></div><div class=\"up-events-latest-text\"><a href=\"/de/veranstaltungen/detail/2021-04-15-living-wild-why-keeping-wild-places-and-animals-healthy-is-key-to-our-own-health\"> Living Wild: Why Keeping Wild Places and Animals Healthy is Key to our Own Health </a></div><div class=\"up-clear\"></div></li><li class=\"up-events-latest-item\"><div class=\"up-events-latest-date\"><div class=\"up-events-latest-date-day\"> 16 </div><div class=\"up-events-latest-date-month\"> Apr </div></div><div class=\"up-events-latest-text\"><a href=\"/de/veranstaltungen/detail/2021-04-16-online-workshop-strategien-wissenschaftlichen-schreibens\"> Online-Workshop: Strategien wissenschaftlichen Schreibens </a></div><div class=\"up-clear\"></div></li><li class=\"up-events-latest-more\"><a href=\"/de/veranstaltungen\"> weitere Veranstaltungen </a></li></ul></div></div></div><div id=\"c501145\"><div class=\"news\"><!--TYPO3SEARCH_end--><div class=\"up-news-latest-title\" style=\"display: block;\"><div class=\"frame frame-130 frame-type-header frame-layout-0\"><header><h2><a href=\"/de/nachrichten\">Neues aus der UP</a></h2></header></div></div><div class=\"up-news-latest\"><div class=\"up-news-latest-item\"><span class=\"up-news-latest-date\"><time datetime=\"2021-04-15\"> 15.04.2021 </time></span><span class=\"up-news-latest-text\"><a title=\"Studi\\xe2\\x80\\x99O Days 2021 \\xe2\\x80\\x93 digitale Studienorientierungswoche der staatlichen brandenburgischen Hochschulen\" href=\"/de/nachrichten/detail/2021-04-15-studio-days-2021-digitale-studienorientierungswoche-der-staatlichen-brandenburgischen\"> Studi\\xe2\\x80\\x99O Days 2021 \\xe2\\x80\\x93 digitale Studienorientierungswoche der staatlichen brandenburgischen Hochschulen </a></span></div><div class=\"up-news-latest-item\"><span class=\"up-news-latest-date\"><time datetime=\"2021-04-15\"> 15.04.2021 </time></span><span class=\"up-news-latest-text\"><a title=\"Hoppla! Jetzt kommt Koppla! \\xe2\\x80\\x93 Die Revolution f\\xc3\\xbcrs Handwerk\" href=\"/de/nachrichten/detail/2021-04-15-hoppla-jetzt-kommt-koppla-die-revolution-fuers-handwerk\"> Hoppla! Jetzt kommt Koppla! \\xe2\\x80\\x93 Die Revolution f\\xc3\\xbcrs Handwerk </a></span></div><div class=\"up-news-latest-item\"><span class=\"up-news-latest-date\"><time datetime=\"2021-04-13\"> 13.04.2021 </time></span><span class=\"up-news-latest-text\"><a title=\"Science / Fiction \\xe2\\x80\\x93 Experimentelle Kooperation von Germanistik und food4future\" href=\"/de/nachrichten/detail/2021-04-13-science-fiction-experimentelle-kooperation-von-germanistik-und-food4future\"> Science / Fiction \\xe2\\x80\\x93 Experimentelle Kooperation von Germanistik und food4future </a></span></div></div><div class=\"up-news-latest-more\"><a href=\"/de/nachrichten\"> weitere Neuigkeiten </a></div><!--TYPO3SEARCH_begin--></div></div><div id=\"c501298\"><div class=\"news\"><!--TYPO3SEARCH_end--><div class=\"up-news-latest-title\" style=\"display: block;\"><div class=\"frame frame-130 frame-type-header frame-layout-0\"><header><h2><a href=\"/de/medieninformationen\">Medieninformationen der UP</a></h2></header></div></div><div class=\"up-news-latest\"><div class=\"up-news-latest-item\"><span class=\"up-news-latest-date\"><time datetime=\"2021-04-14\"> 14.04.2021 </time></span><span class=\"up-news-latest-text\"><a title=\"Prof. Dr. Michael Lenhard im Human Frontier Science Program gef\\xc3\\xb6rdert\" href=\"/de/medieninformationen/detail/2021-04-14-prof-dr-michael-lenhard-im-human-frontier-science-program-gefoerdert\"> Prof. Dr. Michael Lenhard im Human Frontier Science Program gef\\xc3\\xb6rdert </a></span></div><div class=\"up-news-latest-item\"><span class=\"up-news-latest-date\"><time datetime=\"2021-04-01\"> 01.04.2021 </time></span><span class=\"up-news-latest-text\"><a title=\"Alles im Griff? \\xe2\\x80\\x93 Neue DFG-Forschungsgruppe untersucht Mechanismen der Selbstregulation\" href=\"/de/medieninformationen/detail/2021-04-01-alles-im-griff-neue-dfg-forschungsgruppe-untersucht-mechanismen-der-selbstregulation\"> Alles im Griff? \\xe2\\x80\\x93 Neue DFG-Forschungsgruppe untersucht Mechanismen der Selbstregulation </a></span></div><div class=\"up-news-latest-item\"><span class=\"up-news-latest-date\"><time datetime=\"2021-03-30\"> 30.03.2021 </time></span><span class=\"up-news-latest-text\"><a title=\"Engagiert \\xe2\\x80\\x93 Kuhlmann-Stiftung unterst\\xc3\\xbctzt Potsdamer Studierende mit 100.000 Euro\" href=\"/de/medieninformationen/detail/2021-03-30-engagiert-kuhlmann-stiftung-unterstuetzt-potsdamer-studierende-mit-100000-euro\"> Engagiert \\xe2\\x80\\x93 Kuhlmann-Stiftung unterst\\xc3\\xbctzt Potsdamer Studierende mit 100.000 Euro </a></span></div></div><div class=\"up-news-latest-more\"><a href=\"/de/medieninformationen\"> weitere Medieninformationen </a></div><!--TYPO3SEARCH_begin--></div></div></div></div></div><div id=\"up_content_footer_divider\" class=\"hide-for-small row\"></div><div id=\"up_update_footer_wrapper\"><div id=\"up_update_footer\" class=\"row\"><div class=\"up-update-footer-box\"> Letzte Aktualisierung:&nbsp;15.04.2021, <a href=\"javascript:linkTo_UnCryptMailto(%27nbjmup%2Btbcjof%5C%2FtdixbsaAvoj.qputebn%5C%2Fef%27);\">Sabine Schwarz<span class=\"up-update-footer-box-envelope up-icon\"></span></a></div></div></div><div id=\"up_oe_footer_wrapper\"><div id=\"up_oe_footer\" class=\"row up-smooth-box\"><div class=\"six columns up-oe-footer-box up-oe-footer-box-first\"><div class=\"up-oe-footer-box-header\"><h2>Soziale Medien </h2><div class=\"up-oe-footer-box-arrow up-icon\"></div></div><div class=\"up-oe-footer-box-content\"><p><a href=\"https://www.facebook.com/unipotsdam\" title=\"Folgen sie uns auf Facebook\" target=\"_blank\" class=\"up-sm-facebook\">Facebook</a><br /><a href=\"https://www.instagram.com/unipotsdam/\" title=\"Entdecken Sie unsere Impressionen auf Instagram\" target=\"_blank\" class=\"up-sm-instagram\">Instagram</a><br /><a href=\"https://www.linkedin.com/school/30760/\" title=\"Besuchen Sie unser LinkedIn-Profil\" target=\"_top\" class=\"up-sm-linkedin\">LinkedIn</a><br /><a href=\"https://www.researchgate.net/institution/Universitaet_Potsdam\" title=\"Vernetzen Sie sich mit unseren Forschenden auf Research Gate\" target=\"_top\" class=\"up-sm-researchgate\">Research Gate</a><br /><a href=\"https://www.twitter.com/unipotsdam\" title=\"Folgen Sie uns auf Twitter\" target=\"_blank\" class=\"up-sm-twitter\">Twitter</a><br /><a href=\"https://www.xing.com/companies/universit%C3%84tpotsdam\" title=\"Besuchen Sie unser XING-Profil\" target=\"_blank\" class=\"up-sm-xing\">XING</a><br /><a href=\"https://www.youtube.com/user/PresseUniPotsdam\" title=\"Abonnieren Sie unseren YouTube-Kanal\" target=\"_blank\" class=\"up-sm-youtube\">YouTube</a></p></div></div><div class=\"six columns up-oe-footer-box\"><div class=\"up-oe-footer-box-header\"><h2>Kontakt</h2><div class=\"up-oe-footer-box-arrow up-icon\"></div></div><div class=\"up-oe-footer-box-content\"><p>Universit\\xc3\\xa4t Potsdam<br /> Am Neuen Palais 10<br /> 14469 Potsdam</p><p>Tel.: 0331 977-0<br /> Fax: 0331 97 21 63</p><p><a href=\"/de/impressum\" title=\"Universit\\xc3\\xa4t Potsdam - Impressum\">Impressum</a><br /><a href=\"/de/datenschutzerklaerung\" title=\"Universit\\xc3\\xa4t Potsdam - Datenschutzerkl\\xc3\\xa4rung\">Datenschutzerkl\\xc3\\xa4rung</a><br /><a href=\"https://www.uni-potsdam.de/de/barrierefreiheit\" title=\"Universit\\xc3\\xa4t Potsdam - Barrierefreiheit\" target=\"_top\" class=\"up-internal-link\">Barrierefreiheit</a><br /><a href=\"https://www.uni-potsdam.de/de/presse/medienservice/ansprechpersonen.html\" title=\"Universit\\xc3\\xa4t Potsdam - Ansprechpersonen\" target=\"_top\">Presse</a></p></div></div><div class=\"twelve columns up-oe-footer-box up-oe-footer-box-last\"><div class=\"up-oe-footer-box-header map\"><h2> Anfahrt </h2><div class=\"up-oe-footer-box-arrow up-icon\"></div></div><div class=\"up-oe-footer-box-content\"><div class=\"up-oe-footer-osm\"><div class=\"up-oe-footer-osm-iframe\"><div id=\"osm_location\"></div><a class=\"up-oe-footer-osm-link\" href=\"https://www.openstreetmap.org/?mlat=52.400589&amp;mlon=13.013138#map=17/52.400589/13.013138\" target=\"_blank\"> Gr\\xc3\\xb6\\xc3\\x9fere Karte anzeigen </a></div></div></div></div></div><div class=\"row up-footer-closer\"></div></div><div id=\"up_global_footer_wrapper\"><div id=\"up_global_footer\" class=\"row up-smooth-box\"><div class=\"six columns up-global-footer-box up-global-footer-box-first\"><div class=\"up-global-footer-box-header\"><h2>Zertifikate</h2><div class=\"up-global-footer-box-arrow up-icon\"></div></div><div class=\"up-global-footer-box-content\"><p><a href=\"https://www.klischee-frei.de/de/index.php\" title=\"Fachportal Klischeefreie Studien- und Berufswahl\" target=\"_top\">Bundesinitiative Klischeefrei</a><br /><a href=\"https://www.hrk.de/positionen/beschluss/detail/nationaler-kodex-fuer-das-auslaenderstudium-an-deutschen-hochschulen/\" title=\"Nationaler Kodex f\\xc3\\xbcr das Ausl\\xc3\\xa4nderstudium an deutschen Hochschulen\" target=\"_top\">Code of Conduct</a><br /><a href=\"https://www.stifterverband.org/charta-guter-lehre\" title=\"Wettbewerb \\xe2\\x80\\x9eExzellente Lehre\\xe2\\x80\\x9d\" target=\"_top\">Exzellente Lehre</a><br /><a href=\"https://www.hrk.de/audit/startseite/\" title=\"Audit \\xe2\\x80\\x9eInternationalisierung der Hochschulen\\xe2\\x80\\x9d (HRK)\" target=\"_top\">HRK-Audit</a>&nbsp;&amp;&nbsp;<a href=\"https://www.hrk.de/audit/re-audit/\" title=\"Informationen zum Re-Audit auf den Webseiten der HRK\" target=\"_top\">HRK-Re-Audit</a><br /><a href=\"https://www.uni-potsdam.de/de/zfq/hochschulstudien/systemakkreditierung\" title=\"Qualit\\xc3\\xa4tssiegel der Systemakkreditierung\" target=\"_top\" class=\"up-internal-link\">Systemakkreditierung</a><br /><a href=\"https://www.total-e-quality.de/de/\" title=\"Pr\\xc3\\xa4dikat \\xe2\\x80\\x9eTotal E-Quality\\xe2\\x80\\x9d\" target=\"_top\">Total E-Quality</a></p></div></div><div class=\"six columns up-global-footer-box\"><div class=\"up-global-footer-box-header\"><h2>Mitgliedschaften</h2><div class=\"up-global-footer-box-arrow up-icon\"></div></div><div class=\"up-global-footer-box-content\"><p><a href=\"https://netzwerk-studienorientierung.de/\" title=\"Netzwerk Studienorientierung Brandenburg\" target=\"_top\" class=\"up-internal-link\">Netzwerk Studienorientierung</a><br /><a href=\"https://www.scholarsatrisk.org/\" title=\"Scholars at Risk Network\" target=\"_top\">Scholars at Risk</a><br /><a href=\"https://eua.eu/\" title=\"European University Association\" target=\"_top\" class=\"up-internal-link\">EUA </a><br /><a href=\"https://www.uni-potsdam.de/de/educ\" title=\"European Digital UniverCity\" target=\"_top\" class=\"up-internal-link\">EDUC</a><br /><a href=\"https://conahec.org/\" title=\"Consortium for North American Higher Education Collaboration\" target=\"_top\" class=\"up-internal-link\">CONAHEC</a></p></div></div><div class=\"six columns up-global-footer-box\"><div class=\"up-global-footer-box-header\"><h2>Uni kompakt</h2><div class=\"up-global-footer-box-arrow up-icon\"></div></div><div class=\"up-global-footer-box-content\"><p><a href=\"https://www.uni-potsdam.de/studium/termine/uebersicht.html\" title=\"Termine und Fristen rund um das Studium\" target=\"_top\">Termine &amp; Fristen&nbsp;</a><br /><a href=\"https://www.uni-potsdam.de/presse/\" title=\"Referat f\\xc3\\xbcr Presse- und \\xc3\\x96ffentlichkeitsarbeit\" target=\"_top\">Presse&nbsp;</a><br /><a href=\"https://www.uni-potsdam.de/verwaltung/dezernat3/stellen/\" title=\"\\xc3\\x9cbersicht der offenen Stellenanzeigen\" target=\"_top\">Stellenausschreibungen&nbsp;</a><br /><a href=\"https://www.unishop-potsdam.de/\" title=\"UNIshop der Universit\\xc3\\xa4t Potsdam\" target=\"_top\">UNIshop der Universit\\xc3\\xa4t Potsdam</a><br /><a href=\"https://www.uni-potsdam.de/studium/konkret/vorlesungsverzeichnisse.html\" title=\"\\xc3\\x9cbersicht der Vorlesungsverzeichnisse der Uni Potsdam\" target=\"_top\">Vorlesungsverzeichnis&nbsp;</a><br /><a href=\"https://www.uni-potsdam.de/de/adressen/\" title=\"Zentrale Adressen und Anschriften der Uni Potsdam\" target=\"_top\">Zentrale Adressen und Lagepl\\xc3\\xa4ne</a></p></div></div><div class=\"six columns up-global-footer-box up-global-footer-box-last\"><div class=\"up-global-footer-box-header\"><h2>Diese Seite</h2><div class=\"up-global-footer-box-arrow up-icon\"></div></div><div class=\"up-global-footer-box-content\"><p><a href=\"javascript:window.print();\" target=\"_self\" title=\"Diese Seite drucken\"> Drucken</a><br /><a href=\"#\" class=\"hide-for-small\" onclick=\"return add_favorite(this);\" target=\"_blank\" title=\"Diese Seite als Bookmark speichern\"> Als Bookmark speichern</a><script> function add_favorite( a ) { title = document.title; url = document.location; try { /* Internet Explorer */ window.external.AddFavorite( url, title ); } catch (e) { try { /* Mozilla */ window.sidebar.addPanel( title, url, \"\" ); } catch (e) { /* Opera */ if( typeof( opera ) == \"object\" ) { a.rel = \"sidebar\"; a.title = title; a.url = url; return true; } else { /* Unknown */ alert(\\'Press \\' + (navigator.userAgent.toLowerCase().indexOf(\\'mac\\') != - 1 ? \\'Command/Cmd\\' : \\'CTRL\\') + \\' + D to bookmark this page.\\'); } } } return false; } </script></p></div></div></div><div class=\"row show-for-print\"><div class=\"twentyfour columns up-footer-url\"><span>URL:</span><a href=\"https://www.uni-potsdam.de/de/\" class=\"url\">https://www.uni-potsdam.de/de/</a></div></div><div class=\"row up-footer-closer\"></div></div><script src=\"/typo3temp/assets/compressed/merged-1c7889b001463c086356db319932399c-min.js.gzip?1618313600\"></script></body></html>'"
      ]
     },
     "execution_count": 9,
     "metadata": {},
     "output_type": "execute_result"
    }
   ],
   "source": [
    "html.content"
   ]
  },
  {
   "cell_type": "code",
   "execution_count": 10,
   "metadata": {},
   "outputs": [
    {
     "data": {
      "text/plain": [
       "'<!DOCTYPE html><html dir=\"ltr\" lang=\"de-DE\"><head><meta charset=\"utf-8\"><!-- benaja - web solutions (www.benaja-websolutions.com) Markus Meier, Roland Brandt und Tobias Gaertner GbR This website is powered by TYPO3 - inspiring people to share! TYPO3 is a free open source Content Management Framework initially created by Kasper Skaarhoj and licensed under GNU/GPL. TYPO3 is copyright 1998-2021 of Kasper Skaarhoj. Extensions are copyright of their respective owners. Information and contribution at https://typo3.org/'"
      ]
     },
     "execution_count": 10,
     "metadata": {},
     "output_type": "execute_result"
    }
   ],
   "source": [
    "html.text[:518]"
   ]
  },
  {
   "cell_type": "markdown",
   "metadata": {},
   "source": [
    "7. Display meta information on the origin of the HTTP request, e.g. date. Note that it is possible to specify the `user-agent` that the server receives and provides the response (website representation) such that it optimised, e.g. Desktop vs. mobile. If it's not specified, the request will be sent using default values (potentially) containing information about your operating system, screen resolution, keyboard language, IP address and many more."
   ]
  },
  {
   "cell_type": "code",
   "execution_count": 11,
   "metadata": {},
   "outputs": [
    {
     "data": {
      "text/plain": [
       "{'Date': 'Thu, 15 Apr 2021 12:29:57 GMT', 'Server': 'Apache/2.4.29 (Ubuntu)', 'Vary': 'Accept-Encoding', 'Last-Modified': 'Thu, 15 Apr 2021 12:25:33 GMT', 'Accept-Ranges': 'bytes', 'Content-Length': '11841', 'Cache-Control': 'max-age=0', 'Expires': 'Thu, 15 Apr 2021 12:29:57 GMT', 'X-UA-Compatible': 'IE=edge', 'X-Content-Type-Options': 'nosniff', 'Content-Encoding': 'gzip', 'Keep-Alive': 'timeout=5, max=100', 'Connection': 'Keep-Alive', 'Content-Type': 'text/html; charset=utf-8'}"
      ]
     },
     "execution_count": 11,
     "metadata": {},
     "output_type": "execute_result"
    }
   ],
   "source": [
    "html.headers"
   ]
  },
  {
   "cell_type": "markdown",
   "metadata": {},
   "source": [
    "The cell below saves the HTML object's text attribute in HTML format locally."
   ]
  },
  {
   "cell_type": "code",
   "execution_count": 14,
   "metadata": {},
   "outputs": [],
   "source": [
    "with open('Uni_Potsdam.html', 'w', encoding='utf-8') as f:\n",
    "    f.write(html.text)"
   ]
  },
  {
   "cell_type": "markdown",
   "metadata": {},
   "source": [
    "8. Install the module `BeautifulSoup` via `pip install beautifulsoup4`"
   ]
  },
  {
   "cell_type": "code",
   "execution_count": 15,
   "metadata": {},
   "outputs": [],
   "source": [
    "from bs4 import BeautifulSoup"
   ]
  },
  {
   "cell_type": "code",
   "execution_count": 17,
   "metadata": {},
   "outputs": [
    {
     "name": "stdout",
     "output_type": "stream",
     "text": [
      "Requirement already satisfied: beautifulsoup4 in c:\\users\\arlj\\anaconda3\\lib\\site-packages (4.9.3)Note: you may need to restart the kernel to use updated packages.\n",
      "Requirement already satisfied: soupsieve>1.2; python_version >= \"3.0\" in c:\\users\\arlj\\anaconda3\\lib\\site-packages (from beautifulsoup4) (2.0.1)\n",
      "\n"
     ]
    }
   ],
   "source": [
    "pip install beautifulsoup4"
   ]
  },
  {
   "cell_type": "code",
   "execution_count": 16,
   "metadata": {},
   "outputs": [],
   "source": [
    "soup = BeautifulSoup(html.text, \"html.parser\")"
   ]
  },
  {
   "cell_type": "markdown",
   "metadata": {},
   "source": [
    "9. Parse the BeautifulSoup object `soup` for all Affiliate Links. Hint: In a HTML document all elements that lead to another domain are indicated by an `a` and follow the structure `<a href=\"...\", ... >text</a>`. Hint: Use `soup`'s method `find_all()` where the input argument is the elements' prefix. What object type is the output? Can you iterate over it? How many elements of an Affiliate Link type are contained in the HTML file?"
   ]
  },
  {
   "cell_type": "code",
   "execution_count": 18,
   "metadata": {},
   "outputs": [
    {
     "data": {
      "text/plain": [
       "275"
      ]
     },
     "execution_count": 18,
     "metadata": {},
     "output_type": "execute_result"
    }
   ],
   "source": [
    "len(soup.find_all('a'))"
   ]
  },
  {
   "cell_type": "markdown",
   "metadata": {},
   "source": [
    "10. Convert the BeautifulSoup object into a \"plain\" Python list object containing the elements' **text** attributes by iterating over it. Hint: Instantiate an empty `list` object, write a for-loop and `append` each element to the list object. You may also remove any unwanted whitespaces by using the `strip` function."
   ]
  },
  {
   "cell_type": "code",
   "execution_count": 21,
   "metadata": {},
   "outputs": [],
   "source": [
    "empty_list = []\n",
    "for link in soup.find_all ('a'):\n",
    "    empty_list.append(link.text.strip())"
   ]
  },
  {
   "cell_type": "markdown",
   "metadata": {},
   "source": [
    "#### Pro-Tipp\n",
    "Instead of explicitly writing a for-loop when disentangling specific objects from an aggregate object you can use Python's built-in `map` and `lambda` functions as a one-liner."
   ]
  },
  {
   "cell_type": "code",
   "execution_count": 22,
   "metadata": {},
   "outputs": [],
   "source": [
    "results_list = list(map(lambda x: x.text.strip(), soup.find_all('a')))"
   ]
  },
  {
   "cell_type": "markdown",
   "metadata": {},
   "source": [
    "11. Identify the element which text attribute's value is equal to \"alle Artikel\". Return the element's position (`index`) within the list."
   ]
  },
  {
   "cell_type": "code",
   "execution_count": 23,
   "metadata": {},
   "outputs": [
    {
     "data": {
      "text/plain": [
       "220"
      ]
     },
     "execution_count": 23,
     "metadata": {},
     "output_type": "execute_result"
    }
   ],
   "source": [
    "results_list.index('alle Artikel')"
   ]
  },
  {
   "cell_type": "markdown",
   "metadata": {},
   "source": [
    "12. Obtain this element's value of the `href` attribute. It should be an URL pointing at the domain where the news at Universität Potsdam are collected."
   ]
  },
  {
   "cell_type": "code",
   "execution_count": null,
   "metadata": {},
   "outputs": [],
   "source": [
    "new_seed = soup.find_all('a')[all_news_index].get('href')"
   ]
  },
  {
   "cell_type": "code",
   "execution_count": null,
   "metadata": {},
   "outputs": [],
   "source": []
  },
  {
   "cell_type": "markdown",
   "metadata": {},
   "source": [
    "13. Write a function which takes a String-type object (e.g. an URL) as input and returns a readily parse-able `BeautifulSoup` object."
   ]
  },
  {
   "cell_type": "code",
   "execution_count": null,
   "metadata": {},
   "outputs": [],
   "source": [
    "# def URL_to_BS(url):\n",
    "    \n",
    "\n",
    "    \n",
    "#     return soup"
   ]
  },
  {
   "cell_type": "code",
   "execution_count": null,
   "metadata": {},
   "outputs": [],
   "source": []
  },
  {
   "cell_type": "markdown",
   "metadata": {},
   "source": [
    "14. Open the `new_seed` URL in your browser and enable the CSS SelectorGadget. Highlight the box containing the first article. The other, similar boxes should be highlighted as well. Copy the identified CSS selector and parse through the `news_soup` object but this time over elements corresponding to the CSS selector you found (use `.select()` instead of `find_all()`). Store the subset of elements in a list. You can achieve all of this in one line of code. How many items does this list contain?"
   ]
  },
  {
   "cell_type": "code",
   "execution_count": null,
   "metadata": {},
   "outputs": [],
   "source": []
  },
  {
   "cell_type": "code",
   "execution_count": null,
   "metadata": {},
   "outputs": [],
   "source": []
  },
  {
   "cell_type": "markdown",
   "metadata": {},
   "source": [
    "15. Split the list's elements into their hyperlinks (`href`) and text attributes' values."
   ]
  },
  {
   "cell_type": "code",
   "execution_count": null,
   "metadata": {},
   "outputs": [],
   "source": []
  },
  {
   "cell_type": "code",
   "execution_count": null,
   "metadata": {},
   "outputs": [],
   "source": []
  },
  {
   "cell_type": "code",
   "execution_count": null,
   "metadata": {},
   "outputs": [],
   "source": []
  },
  {
   "cell_type": "code",
   "execution_count": null,
   "metadata": {},
   "outputs": [],
   "source": []
  },
  {
   "cell_type": "code",
   "execution_count": null,
   "metadata": {},
   "outputs": [],
   "source": []
  },
  {
   "cell_type": "code",
   "execution_count": null,
   "metadata": {},
   "outputs": [],
   "source": []
  },
  {
   "cell_type": "code",
   "execution_count": null,
   "metadata": {},
   "outputs": [],
   "source": []
  },
  {
   "cell_type": "markdown",
   "metadata": {},
   "source": [
    "## Pagination\n",
    "You have probably realised that the articles presented on the first news page are not the entire collection of the University of Potsdam. Your goal is to retrieve a complete collection of all articles that are available on the university's website and you can easily apply your new knowledge in a repetive manner."
   ]
  },
  {
   "cell_type": "markdown",
   "metadata": {},
   "source": [
    "16. Figure out how many pages containing articles content there are in total. You can do it manually by e.g. inspecting the URL when you proceed through the collection in your browser or by checking it programmatically by writing a `while` loop that continues until some condition, such as a status returned from your request, is violated. Make sure to include a short pause (1 second) in order not to overcharge the server that in some cases could lead to a temporary ban of your device."
   ]
  },
  {
   "cell_type": "code",
   "execution_count": null,
   "metadata": {},
   "outputs": [],
   "source": [
    "# Long code block"
   ]
  },
  {
   "cell_type": "code",
   "execution_count": null,
   "metadata": {},
   "outputs": [],
   "source": []
  },
  {
   "cell_type": "markdown",
   "metadata": {},
   "source": [
    "17. Read in the JSON file you stored in step 17 and iterate over each hyperlink. Split the list into 4 evenly sized chunks and iterate over each chunk. In each iteration, obtain the HTML, parse it and identify the elements of the publication date, the contact, the contact's email address, the image's hyperlink/reference and the main text body's length. Note that some, or even all, of these elements may not be available. Define an appropriate data type for each field and append it **as a dictionary** in each iteration to a list."
   ]
  },
  {
   "cell_type": "code",
   "execution_count": null,
   "metadata": {},
   "outputs": [],
   "source": []
  },
  {
   "cell_type": "code",
   "execution_count": null,
   "metadata": {},
   "outputs": [],
   "source": []
  },
  {
   "cell_type": "code",
   "execution_count": null,
   "metadata": {},
   "outputs": [],
   "source": []
  },
  {
   "cell_type": "code",
   "execution_count": null,
   "metadata": {},
   "outputs": [],
   "source": []
  },
  {
   "cell_type": "markdown",
   "metadata": {},
   "source": [
    "## Asynchronous HTTP requests"
   ]
  },
  {
   "cell_type": "markdown",
   "metadata": {},
   "source": [
    "18. Install the libaries `asyncio`, `aiohttp` and `tqdm`."
   ]
  },
  {
   "cell_type": "code",
   "execution_count": null,
   "metadata": {},
   "outputs": [],
   "source": [
    "import asyncio\n",
    "import aiohttp\n",
    "import bs4\n",
    "import tqdm"
   ]
  },
  {
   "cell_type": "code",
   "execution_count": null,
   "metadata": {},
   "outputs": [],
   "source": []
  },
  {
   "cell_type": "code",
   "execution_count": null,
   "metadata": {},
   "outputs": [],
   "source": []
  },
  {
   "cell_type": "code",
   "execution_count": null,
   "metadata": {},
   "outputs": [],
   "source": []
  },
  {
   "cell_type": "code",
   "execution_count": null,
   "metadata": {},
   "outputs": [],
   "source": []
  },
  {
   "cell_type": "code",
   "execution_count": null,
   "metadata": {},
   "outputs": [],
   "source": []
  },
  {
   "cell_type": "markdown",
   "metadata": {},
   "source": [
    "19. Find the missing link that appears in `articles_links_r` but not in `results_list` using a list comprehension."
   ]
  },
  {
   "cell_type": "code",
   "execution_count": null,
   "metadata": {},
   "outputs": [],
   "source": []
  },
  {
   "cell_type": "code",
   "execution_count": null,
   "metadata": {},
   "outputs": [],
   "source": []
  },
  {
   "cell_type": "markdown",
   "metadata": {},
   "source": [
    "20. Install the `pandas` library."
   ]
  },
  {
   "cell_type": "code",
   "execution_count": null,
   "metadata": {},
   "outputs": [],
   "source": [
    "import pandas as pd"
   ]
  },
  {
   "cell_type": "code",
   "execution_count": null,
   "metadata": {},
   "outputs": [],
   "source": []
  },
  {
   "cell_type": "code",
   "execution_count": null,
   "metadata": {},
   "outputs": [],
   "source": []
  },
  {
   "cell_type": "markdown",
   "metadata": {},
   "source": [
    "21. Convert the `publication_date` into a `pandas` `datetime` object and plot a time series of published articles on a daily basis. Bonus: Aggregate the time series into monthly frequency. In which month-year were most articles published?"
   ]
  },
  {
   "cell_type": "code",
   "execution_count": null,
   "metadata": {},
   "outputs": [],
   "source": []
  },
  {
   "cell_type": "code",
   "execution_count": null,
   "metadata": {},
   "outputs": [],
   "source": []
  },
  {
   "cell_type": "code",
   "execution_count": null,
   "metadata": {},
   "outputs": [],
   "source": []
  },
  {
   "cell_type": "code",
   "execution_count": null,
   "metadata": {},
   "outputs": [],
   "source": []
  },
  {
   "cell_type": "code",
   "execution_count": null,
   "metadata": {},
   "outputs": [],
   "source": []
  },
  {
   "cell_type": "code",
   "execution_count": null,
   "metadata": {},
   "outputs": [],
   "source": []
  },
  {
   "cell_type": "code",
   "execution_count": null,
   "metadata": {},
   "outputs": [],
   "source": []
  },
  {
   "cell_type": "code",
   "execution_count": null,
   "metadata": {},
   "outputs": [],
   "source": []
  },
  {
   "cell_type": "markdown",
   "metadata": {},
   "source": [
    "22. Install the library `matplotlib`."
   ]
  },
  {
   "cell_type": "code",
   "execution_count": null,
   "metadata": {},
   "outputs": [],
   "source": [
    "import matplotlib\n",
    "import matplotlib.pyplot as plt"
   ]
  },
  {
   "cell_type": "code",
   "execution_count": null,
   "metadata": {},
   "outputs": [],
   "source": []
  },
  {
   "cell_type": "code",
   "execution_count": null,
   "metadata": {},
   "outputs": [],
   "source": []
  },
  {
   "cell_type": "code",
   "execution_count": null,
   "metadata": {},
   "outputs": [],
   "source": []
  },
  {
   "cell_type": "markdown",
   "metadata": {},
   "source": [
    "23. Install the libraries `cufflinks` and `plotly`."
   ]
  },
  {
   "cell_type": "code",
   "execution_count": null,
   "metadata": {},
   "outputs": [],
   "source": [
    "import plotly.graph_objs as go\n",
    "import plotly.figure_factory as ff\n",
    "from plotly.offline import download_plotlyjs, init_notebook_mode, plot, iplot\n",
    "init_notebook_mode(connected=True)"
   ]
  },
  {
   "cell_type": "code",
   "execution_count": null,
   "metadata": {},
   "outputs": [],
   "source": []
  },
  {
   "cell_type": "markdown",
   "metadata": {},
   "source": [
    "24. Install the `chart-studio` library."
   ]
  },
  {
   "cell_type": "code",
   "execution_count": null,
   "metadata": {},
   "outputs": [],
   "source": [
    "import chart_studio\n",
    "import chart_studio.plotly as py\n",
    "import plotly.graph_objs as go"
   ]
  },
  {
   "cell_type": "markdown",
   "metadata": {},
   "source": [
    "25. Log in to [Plotly Chart Studio](https://chart-studio.plotly.com/Auth/login/#/) and obtain your `Username` and `API key`. Store them both line-by-line in a .py file, e.g. name it \"plotly_config.py\"."
   ]
  },
  {
   "cell_type": "code",
   "execution_count": null,
   "metadata": {},
   "outputs": [],
   "source": [
    "import plotly_config\n",
    "\n",
    "chart_studio.tools.set_credentials_file(username=plotly_config.Username, api_key=plotly_config.api_key)"
   ]
  },
  {
   "cell_type": "code",
   "execution_count": null,
   "metadata": {},
   "outputs": [],
   "source": []
  }
 ],
 "metadata": {
  "kernelspec": {
   "display_name": "Python 3",
   "language": "python",
   "name": "python3"
  },
  "language_info": {
   "codemirror_mode": {
    "name": "ipython",
    "version": 3
   },
   "file_extension": ".py",
   "mimetype": "text/x-python",
   "name": "python",
   "nbconvert_exporter": "python",
   "pygments_lexer": "ipython3",
   "version": "3.8.5"
  }
 },
 "nbformat": 4,
 "nbformat_minor": 5
}
