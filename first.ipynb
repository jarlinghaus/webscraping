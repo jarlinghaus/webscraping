{
 "cells": [
  {
   "cell_type": "code",
   "execution_count": 1,
   "id": "65c9f7be",
   "metadata": {},
   "outputs": [
    {
     "name": "stdout",
     "output_type": "stream",
     "text": [
      "Hello, World\n"
     ]
    }
   ],
   "source": [
    "print(\"Hello, World\")"
   ]
  },
  {
   "cell_type": "code",
   "execution_count": 2,
   "id": "4c6e9ba0",
   "metadata": {},
   "outputs": [
    {
     "name": "stdout",
     "output_type": "stream",
     "text": [
      "I really want to get started now\n"
     ]
    }
   ],
   "source": [
    "print(\"I really want to get started now\")"
   ]
  },
  {
   "cell_type": "code",
   "execution_count": 4,
   "id": "7ac8de10",
   "metadata": {},
   "outputs": [
    {
     "data": {
      "text/plain": [
       "'Helloooo!'"
      ]
     },
     "execution_count": 4,
     "metadata": {},
     "output_type": "execute_result"
    }
   ],
   "source": [
    "'Helloooo!'"
   ]
  },
  {
   "cell_type": "code",
   "execution_count": 5,
   "id": "e4662335",
   "metadata": {},
   "outputs": [],
   "source": [
    "spam='bacon, eggs and bread'"
   ]
  },
  {
   "cell_type": "code",
   "execution_count": 7,
   "id": "0cef5593",
   "metadata": {},
   "outputs": [
    {
     "name": "stdout",
     "output_type": "stream",
     "text": [
      "bacon, eggs and bread more spam\n"
     ]
    }
   ],
   "source": [
    "print(spam+' more spam')"
   ]
  },
  {
   "cell_type": "code",
   "execution_count": 8,
   "id": "f4cdd70e",
   "metadata": {},
   "outputs": [],
   "source": [
    "spam2='second string'"
   ]
  },
  {
   "cell_type": "code",
   "execution_count": 9,
   "id": "f48ebab9",
   "metadata": {},
   "outputs": [
    {
     "name": "stdout",
     "output_type": "stream",
     "text": [
      "Variable   Type    Data/Info\n",
      "----------------------------\n",
      "spam       str     bacon, eggs and bread\n",
      "spam2      str     second string\n"
     ]
    }
   ],
   "source": [
    "%whos"
   ]
  },
  {
   "cell_type": "code",
   "execution_count": null,
   "id": "ad94e514",
   "metadata": {},
   "outputs": [],
   "source": []
  }
 ],
 "metadata": {
  "kernelspec": {
   "display_name": "webscraping course",
   "language": "python",
   "name": "webscraping_kernel"
  },
  "language_info": {
   "codemirror_mode": {
    "name": "ipython",
    "version": 3
   },
   "file_extension": ".py",
   "mimetype": "text/x-python",
   "name": "python",
   "nbconvert_exporter": "python",
   "pygments_lexer": "ipython3",
   "version": "3.9.2"
  }
 },
 "nbformat": 4,
 "nbformat_minor": 5
}
